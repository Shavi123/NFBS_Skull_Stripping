{
  "nbformat": 4,
  "nbformat_minor": 0,
  "metadata": {
    "colab": {
      "name": "skull_stripping.ipynb",
      "provenance": [],
      "toc_visible": true
    },
    "kernelspec": {
      "name": "python3",
      "display_name": "Python 3"
    },
    "language_info": {
      "name": "python"
    },
    "widgets": {
      "application/vnd.jupyter.widget-state+json": {
        "6a55dc3da75447e698e4cbfb503ffb18": {
          "model_module": "@jupyter-widgets/controls",
          "model_name": "HBoxModel",
          "state": {
            "_view_name": "HBoxView",
            "_dom_classes": [],
            "_model_name": "HBoxModel",
            "_view_module": "@jupyter-widgets/controls",
            "_model_module_version": "1.5.0",
            "_view_count": null,
            "_view_module_version": "1.5.0",
            "box_style": "",
            "layout": "IPY_MODEL_d0121995244e432e97be8d78a21afba2",
            "_model_module": "@jupyter-widgets/controls",
            "children": [
              "IPY_MODEL_88c679a94b054c17aaacebf3c272b4cf",
              "IPY_MODEL_079f8aafaebf4bf3826080965a12579a"
            ]
          }
        },
        "d0121995244e432e97be8d78a21afba2": {
          "model_module": "@jupyter-widgets/base",
          "model_name": "LayoutModel",
          "state": {
            "_view_name": "LayoutView",
            "grid_template_rows": null,
            "right": null,
            "justify_content": null,
            "_view_module": "@jupyter-widgets/base",
            "overflow": null,
            "_model_module_version": "1.2.0",
            "_view_count": null,
            "flex_flow": null,
            "width": null,
            "min_width": null,
            "border": null,
            "align_items": null,
            "bottom": null,
            "_model_module": "@jupyter-widgets/base",
            "top": null,
            "grid_column": null,
            "overflow_y": null,
            "overflow_x": null,
            "grid_auto_flow": null,
            "grid_area": null,
            "grid_template_columns": null,
            "flex": null,
            "_model_name": "LayoutModel",
            "justify_items": null,
            "grid_row": null,
            "max_height": null,
            "align_content": null,
            "visibility": null,
            "align_self": null,
            "height": null,
            "min_height": null,
            "padding": null,
            "grid_auto_rows": null,
            "grid_gap": null,
            "max_width": null,
            "order": null,
            "_view_module_version": "1.2.0",
            "grid_template_areas": null,
            "object_position": null,
            "object_fit": null,
            "grid_auto_columns": null,
            "margin": null,
            "display": null,
            "left": null
          }
        },
        "88c679a94b054c17aaacebf3c272b4cf": {
          "model_module": "@jupyter-widgets/controls",
          "model_name": "FloatProgressModel",
          "state": {
            "_view_name": "ProgressView",
            "style": "IPY_MODEL_d23f4c4638f541e79beb668a545d660d",
            "_dom_classes": [],
            "description": "100%",
            "_model_name": "FloatProgressModel",
            "bar_style": "",
            "max": 64,
            "_view_module": "@jupyter-widgets/controls",
            "_model_module_version": "1.5.0",
            "value": 64,
            "_view_count": null,
            "_view_module_version": "1.5.0",
            "orientation": "horizontal",
            "min": 0,
            "description_tooltip": null,
            "_model_module": "@jupyter-widgets/controls",
            "layout": "IPY_MODEL_439e7ed3a55e4a46b2aac753260040d4"
          }
        },
        "079f8aafaebf4bf3826080965a12579a": {
          "model_module": "@jupyter-widgets/controls",
          "model_name": "HTMLModel",
          "state": {
            "_view_name": "HTMLView",
            "style": "IPY_MODEL_d1bf37f408264fe9b621effe7f0d6145",
            "_dom_classes": [],
            "description": "",
            "_model_name": "HTMLModel",
            "placeholder": "​",
            "_view_module": "@jupyter-widgets/controls",
            "_model_module_version": "1.5.0",
            "value": " 64/64 [02:17&lt;00:00,  2.23s/it]",
            "_view_count": null,
            "_view_module_version": "1.5.0",
            "description_tooltip": null,
            "_model_module": "@jupyter-widgets/controls",
            "layout": "IPY_MODEL_cc3c9967061f43ffaa801d21f1d904bf"
          }
        },
        "d23f4c4638f541e79beb668a545d660d": {
          "model_module": "@jupyter-widgets/controls",
          "model_name": "ProgressStyleModel",
          "state": {
            "_view_name": "StyleView",
            "_model_name": "ProgressStyleModel",
            "description_width": "initial",
            "_view_module": "@jupyter-widgets/base",
            "_model_module_version": "1.5.0",
            "_view_count": null,
            "_view_module_version": "1.2.0",
            "bar_color": null,
            "_model_module": "@jupyter-widgets/controls"
          }
        },
        "439e7ed3a55e4a46b2aac753260040d4": {
          "model_module": "@jupyter-widgets/base",
          "model_name": "LayoutModel",
          "state": {
            "_view_name": "LayoutView",
            "grid_template_rows": null,
            "right": null,
            "justify_content": null,
            "_view_module": "@jupyter-widgets/base",
            "overflow": null,
            "_model_module_version": "1.2.0",
            "_view_count": null,
            "flex_flow": null,
            "width": null,
            "min_width": null,
            "border": null,
            "align_items": null,
            "bottom": null,
            "_model_module": "@jupyter-widgets/base",
            "top": null,
            "grid_column": null,
            "overflow_y": null,
            "overflow_x": null,
            "grid_auto_flow": null,
            "grid_area": null,
            "grid_template_columns": null,
            "flex": null,
            "_model_name": "LayoutModel",
            "justify_items": null,
            "grid_row": null,
            "max_height": null,
            "align_content": null,
            "visibility": null,
            "align_self": null,
            "height": null,
            "min_height": null,
            "padding": null,
            "grid_auto_rows": null,
            "grid_gap": null,
            "max_width": null,
            "order": null,
            "_view_module_version": "1.2.0",
            "grid_template_areas": null,
            "object_position": null,
            "object_fit": null,
            "grid_auto_columns": null,
            "margin": null,
            "display": null,
            "left": null
          }
        },
        "d1bf37f408264fe9b621effe7f0d6145": {
          "model_module": "@jupyter-widgets/controls",
          "model_name": "DescriptionStyleModel",
          "state": {
            "_view_name": "StyleView",
            "_model_name": "DescriptionStyleModel",
            "description_width": "",
            "_view_module": "@jupyter-widgets/base",
            "_model_module_version": "1.5.0",
            "_view_count": null,
            "_view_module_version": "1.2.0",
            "_model_module": "@jupyter-widgets/controls"
          }
        },
        "cc3c9967061f43ffaa801d21f1d904bf": {
          "model_module": "@jupyter-widgets/base",
          "model_name": "LayoutModel",
          "state": {
            "_view_name": "LayoutView",
            "grid_template_rows": null,
            "right": null,
            "justify_content": null,
            "_view_module": "@jupyter-widgets/base",
            "overflow": null,
            "_model_module_version": "1.2.0",
            "_view_count": null,
            "flex_flow": null,
            "width": null,
            "min_width": null,
            "border": null,
            "align_items": null,
            "bottom": null,
            "_model_module": "@jupyter-widgets/base",
            "top": null,
            "grid_column": null,
            "overflow_y": null,
            "overflow_x": null,
            "grid_auto_flow": null,
            "grid_area": null,
            "grid_template_columns": null,
            "flex": null,
            "_model_name": "LayoutModel",
            "justify_items": null,
            "grid_row": null,
            "max_height": null,
            "align_content": null,
            "visibility": null,
            "align_self": null,
            "height": null,
            "min_height": null,
            "padding": null,
            "grid_auto_rows": null,
            "grid_gap": null,
            "max_width": null,
            "order": null,
            "_view_module_version": "1.2.0",
            "grid_template_areas": null,
            "object_position": null,
            "object_fit": null,
            "grid_auto_columns": null,
            "margin": null,
            "display": null,
            "left": null
          }
        },
        "e48d911db39e4c70b7a220accec077d3": {
          "model_module": "@jupyter-widgets/controls",
          "model_name": "HBoxModel",
          "state": {
            "_view_name": "HBoxView",
            "_dom_classes": [],
            "_model_name": "HBoxModel",
            "_view_module": "@jupyter-widgets/controls",
            "_model_module_version": "1.5.0",
            "_view_count": null,
            "_view_module_version": "1.5.0",
            "box_style": "",
            "layout": "IPY_MODEL_0af7f7711dcc4092a8f649c5546d6e92",
            "_model_module": "@jupyter-widgets/controls",
            "children": [
              "IPY_MODEL_c58d1334afc44794a9aac5f1650779c6",
              "IPY_MODEL_71af99e8bc0b4ac4bd5f9a8743a242e2"
            ]
          }
        },
        "0af7f7711dcc4092a8f649c5546d6e92": {
          "model_module": "@jupyter-widgets/base",
          "model_name": "LayoutModel",
          "state": {
            "_view_name": "LayoutView",
            "grid_template_rows": null,
            "right": null,
            "justify_content": null,
            "_view_module": "@jupyter-widgets/base",
            "overflow": null,
            "_model_module_version": "1.2.0",
            "_view_count": null,
            "flex_flow": null,
            "width": null,
            "min_width": null,
            "border": null,
            "align_items": null,
            "bottom": null,
            "_model_module": "@jupyter-widgets/base",
            "top": null,
            "grid_column": null,
            "overflow_y": null,
            "overflow_x": null,
            "grid_auto_flow": null,
            "grid_area": null,
            "grid_template_columns": null,
            "flex": null,
            "_model_name": "LayoutModel",
            "justify_items": null,
            "grid_row": null,
            "max_height": null,
            "align_content": null,
            "visibility": null,
            "align_self": null,
            "height": null,
            "min_height": null,
            "padding": null,
            "grid_auto_rows": null,
            "grid_gap": null,
            "max_width": null,
            "order": null,
            "_view_module_version": "1.2.0",
            "grid_template_areas": null,
            "object_position": null,
            "object_fit": null,
            "grid_auto_columns": null,
            "margin": null,
            "display": null,
            "left": null
          }
        },
        "c58d1334afc44794a9aac5f1650779c6": {
          "model_module": "@jupyter-widgets/controls",
          "model_name": "FloatProgressModel",
          "state": {
            "_view_name": "ProgressView",
            "style": "IPY_MODEL_0ea337700741482dbebc8f1c838f6ec8",
            "_dom_classes": [],
            "description": "100%",
            "_model_name": "FloatProgressModel",
            "bar_style": "",
            "max": 64,
            "_view_module": "@jupyter-widgets/controls",
            "_model_module_version": "1.5.0",
            "value": 64,
            "_view_count": null,
            "_view_module_version": "1.5.0",
            "orientation": "horizontal",
            "min": 0,
            "description_tooltip": null,
            "_model_module": "@jupyter-widgets/controls",
            "layout": "IPY_MODEL_2cf6cdef79bc44ea9c0f602a606bd289"
          }
        },
        "71af99e8bc0b4ac4bd5f9a8743a242e2": {
          "model_module": "@jupyter-widgets/controls",
          "model_name": "HTMLModel",
          "state": {
            "_view_name": "HTMLView",
            "style": "IPY_MODEL_9a7e42669c0c4232a87357b7a66fbdb9",
            "_dom_classes": [],
            "description": "",
            "_model_name": "HTMLModel",
            "placeholder": "​",
            "_view_module": "@jupyter-widgets/controls",
            "_model_module_version": "1.5.0",
            "value": " 64/64 [00:45&lt;00:00,  1.41it/s]",
            "_view_count": null,
            "_view_module_version": "1.5.0",
            "description_tooltip": null,
            "_model_module": "@jupyter-widgets/controls",
            "layout": "IPY_MODEL_04d89538d5a047c18387b670454f5937"
          }
        },
        "0ea337700741482dbebc8f1c838f6ec8": {
          "model_module": "@jupyter-widgets/controls",
          "model_name": "ProgressStyleModel",
          "state": {
            "_view_name": "StyleView",
            "_model_name": "ProgressStyleModel",
            "description_width": "initial",
            "_view_module": "@jupyter-widgets/base",
            "_model_module_version": "1.5.0",
            "_view_count": null,
            "_view_module_version": "1.2.0",
            "bar_color": null,
            "_model_module": "@jupyter-widgets/controls"
          }
        },
        "2cf6cdef79bc44ea9c0f602a606bd289": {
          "model_module": "@jupyter-widgets/base",
          "model_name": "LayoutModel",
          "state": {
            "_view_name": "LayoutView",
            "grid_template_rows": null,
            "right": null,
            "justify_content": null,
            "_view_module": "@jupyter-widgets/base",
            "overflow": null,
            "_model_module_version": "1.2.0",
            "_view_count": null,
            "flex_flow": null,
            "width": null,
            "min_width": null,
            "border": null,
            "align_items": null,
            "bottom": null,
            "_model_module": "@jupyter-widgets/base",
            "top": null,
            "grid_column": null,
            "overflow_y": null,
            "overflow_x": null,
            "grid_auto_flow": null,
            "grid_area": null,
            "grid_template_columns": null,
            "flex": null,
            "_model_name": "LayoutModel",
            "justify_items": null,
            "grid_row": null,
            "max_height": null,
            "align_content": null,
            "visibility": null,
            "align_self": null,
            "height": null,
            "min_height": null,
            "padding": null,
            "grid_auto_rows": null,
            "grid_gap": null,
            "max_width": null,
            "order": null,
            "_view_module_version": "1.2.0",
            "grid_template_areas": null,
            "object_position": null,
            "object_fit": null,
            "grid_auto_columns": null,
            "margin": null,
            "display": null,
            "left": null
          }
        },
        "9a7e42669c0c4232a87357b7a66fbdb9": {
          "model_module": "@jupyter-widgets/controls",
          "model_name": "DescriptionStyleModel",
          "state": {
            "_view_name": "StyleView",
            "_model_name": "DescriptionStyleModel",
            "description_width": "",
            "_view_module": "@jupyter-widgets/base",
            "_model_module_version": "1.5.0",
            "_view_count": null,
            "_view_module_version": "1.2.0",
            "_model_module": "@jupyter-widgets/controls"
          }
        },
        "04d89538d5a047c18387b670454f5937": {
          "model_module": "@jupyter-widgets/base",
          "model_name": "LayoutModel",
          "state": {
            "_view_name": "LayoutView",
            "grid_template_rows": null,
            "right": null,
            "justify_content": null,
            "_view_module": "@jupyter-widgets/base",
            "overflow": null,
            "_model_module_version": "1.2.0",
            "_view_count": null,
            "flex_flow": null,
            "width": null,
            "min_width": null,
            "border": null,
            "align_items": null,
            "bottom": null,
            "_model_module": "@jupyter-widgets/base",
            "top": null,
            "grid_column": null,
            "overflow_y": null,
            "overflow_x": null,
            "grid_auto_flow": null,
            "grid_area": null,
            "grid_template_columns": null,
            "flex": null,
            "_model_name": "LayoutModel",
            "justify_items": null,
            "grid_row": null,
            "max_height": null,
            "align_content": null,
            "visibility": null,
            "align_self": null,
            "height": null,
            "min_height": null,
            "padding": null,
            "grid_auto_rows": null,
            "grid_gap": null,
            "max_width": null,
            "order": null,
            "_view_module_version": "1.2.0",
            "grid_template_areas": null,
            "object_position": null,
            "object_fit": null,
            "grid_auto_columns": null,
            "margin": null,
            "display": null,
            "left": null
          }
        },
        "16acd2b8ab4447ca95568062d4d736e0": {
          "model_module": "@jupyter-widgets/controls",
          "model_name": "HBoxModel",
          "state": {
            "_view_name": "HBoxView",
            "_dom_classes": [],
            "_model_name": "HBoxModel",
            "_view_module": "@jupyter-widgets/controls",
            "_model_module_version": "1.5.0",
            "_view_count": null,
            "_view_module_version": "1.5.0",
            "box_style": "",
            "layout": "IPY_MODEL_9acb05aa0eff400dbaa6090b20f52652",
            "_model_module": "@jupyter-widgets/controls",
            "children": [
              "IPY_MODEL_3cf3ca3c0a8947c48e8c6617d375403b",
              "IPY_MODEL_9913328c32984283a9b5981a678216ba"
            ]
          }
        },
        "9acb05aa0eff400dbaa6090b20f52652": {
          "model_module": "@jupyter-widgets/base",
          "model_name": "LayoutModel",
          "state": {
            "_view_name": "LayoutView",
            "grid_template_rows": null,
            "right": null,
            "justify_content": null,
            "_view_module": "@jupyter-widgets/base",
            "overflow": null,
            "_model_module_version": "1.2.0",
            "_view_count": null,
            "flex_flow": null,
            "width": null,
            "min_width": null,
            "border": null,
            "align_items": null,
            "bottom": null,
            "_model_module": "@jupyter-widgets/base",
            "top": null,
            "grid_column": null,
            "overflow_y": null,
            "overflow_x": null,
            "grid_auto_flow": null,
            "grid_area": null,
            "grid_template_columns": null,
            "flex": null,
            "_model_name": "LayoutModel",
            "justify_items": null,
            "grid_row": null,
            "max_height": null,
            "align_content": null,
            "visibility": null,
            "align_self": null,
            "height": null,
            "min_height": null,
            "padding": null,
            "grid_auto_rows": null,
            "grid_gap": null,
            "max_width": null,
            "order": null,
            "_view_module_version": "1.2.0",
            "grid_template_areas": null,
            "object_position": null,
            "object_fit": null,
            "grid_auto_columns": null,
            "margin": null,
            "display": null,
            "left": null
          }
        },
        "3cf3ca3c0a8947c48e8c6617d375403b": {
          "model_module": "@jupyter-widgets/controls",
          "model_name": "FloatProgressModel",
          "state": {
            "_view_name": "ProgressView",
            "style": "IPY_MODEL_08cab048ab5d49709529497a28036a38",
            "_dom_classes": [],
            "description": "100%",
            "_model_name": "FloatProgressModel",
            "bar_style": "",
            "max": 64,
            "_view_module": "@jupyter-widgets/controls",
            "_model_module_version": "1.5.0",
            "value": 64,
            "_view_count": null,
            "_view_module_version": "1.5.0",
            "orientation": "horizontal",
            "min": 0,
            "description_tooltip": null,
            "_model_module": "@jupyter-widgets/controls",
            "layout": "IPY_MODEL_3415fa0c0a6e46ac95a5bbfaf1640bbf"
          }
        },
        "9913328c32984283a9b5981a678216ba": {
          "model_module": "@jupyter-widgets/controls",
          "model_name": "HTMLModel",
          "state": {
            "_view_name": "HTMLView",
            "style": "IPY_MODEL_c7a9067444714963a8805354bb068b6a",
            "_dom_classes": [],
            "description": "",
            "_model_name": "HTMLModel",
            "placeholder": "​",
            "_view_module": "@jupyter-widgets/controls",
            "_model_module_version": "1.5.0",
            "value": " 64/64 [02:26&lt;00:00,  2.28s/it]",
            "_view_count": null,
            "_view_module_version": "1.5.0",
            "description_tooltip": null,
            "_model_module": "@jupyter-widgets/controls",
            "layout": "IPY_MODEL_e6dc2f8d3b2047bea492932bf65d518e"
          }
        },
        "08cab048ab5d49709529497a28036a38": {
          "model_module": "@jupyter-widgets/controls",
          "model_name": "ProgressStyleModel",
          "state": {
            "_view_name": "StyleView",
            "_model_name": "ProgressStyleModel",
            "description_width": "initial",
            "_view_module": "@jupyter-widgets/base",
            "_model_module_version": "1.5.0",
            "_view_count": null,
            "_view_module_version": "1.2.0",
            "bar_color": null,
            "_model_module": "@jupyter-widgets/controls"
          }
        },
        "3415fa0c0a6e46ac95a5bbfaf1640bbf": {
          "model_module": "@jupyter-widgets/base",
          "model_name": "LayoutModel",
          "state": {
            "_view_name": "LayoutView",
            "grid_template_rows": null,
            "right": null,
            "justify_content": null,
            "_view_module": "@jupyter-widgets/base",
            "overflow": null,
            "_model_module_version": "1.2.0",
            "_view_count": null,
            "flex_flow": null,
            "width": null,
            "min_width": null,
            "border": null,
            "align_items": null,
            "bottom": null,
            "_model_module": "@jupyter-widgets/base",
            "top": null,
            "grid_column": null,
            "overflow_y": null,
            "overflow_x": null,
            "grid_auto_flow": null,
            "grid_area": null,
            "grid_template_columns": null,
            "flex": null,
            "_model_name": "LayoutModel",
            "justify_items": null,
            "grid_row": null,
            "max_height": null,
            "align_content": null,
            "visibility": null,
            "align_self": null,
            "height": null,
            "min_height": null,
            "padding": null,
            "grid_auto_rows": null,
            "grid_gap": null,
            "max_width": null,
            "order": null,
            "_view_module_version": "1.2.0",
            "grid_template_areas": null,
            "object_position": null,
            "object_fit": null,
            "grid_auto_columns": null,
            "margin": null,
            "display": null,
            "left": null
          }
        },
        "c7a9067444714963a8805354bb068b6a": {
          "model_module": "@jupyter-widgets/controls",
          "model_name": "DescriptionStyleModel",
          "state": {
            "_view_name": "StyleView",
            "_model_name": "DescriptionStyleModel",
            "description_width": "",
            "_view_module": "@jupyter-widgets/base",
            "_model_module_version": "1.5.0",
            "_view_count": null,
            "_view_module_version": "1.2.0",
            "_model_module": "@jupyter-widgets/controls"
          }
        },
        "e6dc2f8d3b2047bea492932bf65d518e": {
          "model_module": "@jupyter-widgets/base",
          "model_name": "LayoutModel",
          "state": {
            "_view_name": "LayoutView",
            "grid_template_rows": null,
            "right": null,
            "justify_content": null,
            "_view_module": "@jupyter-widgets/base",
            "overflow": null,
            "_model_module_version": "1.2.0",
            "_view_count": null,
            "flex_flow": null,
            "width": null,
            "min_width": null,
            "border": null,
            "align_items": null,
            "bottom": null,
            "_model_module": "@jupyter-widgets/base",
            "top": null,
            "grid_column": null,
            "overflow_y": null,
            "overflow_x": null,
            "grid_auto_flow": null,
            "grid_area": null,
            "grid_template_columns": null,
            "flex": null,
            "_model_name": "LayoutModel",
            "justify_items": null,
            "grid_row": null,
            "max_height": null,
            "align_content": null,
            "visibility": null,
            "align_self": null,
            "height": null,
            "min_height": null,
            "padding": null,
            "grid_auto_rows": null,
            "grid_gap": null,
            "max_width": null,
            "order": null,
            "_view_module_version": "1.2.0",
            "grid_template_areas": null,
            "object_position": null,
            "object_fit": null,
            "grid_auto_columns": null,
            "margin": null,
            "display": null,
            "left": null
          }
        },
        "1113ab4920ad4cadbfba8766f064126c": {
          "model_module": "@jupyter-widgets/controls",
          "model_name": "HBoxModel",
          "state": {
            "_view_name": "HBoxView",
            "_dom_classes": [],
            "_model_name": "HBoxModel",
            "_view_module": "@jupyter-widgets/controls",
            "_model_module_version": "1.5.0",
            "_view_count": null,
            "_view_module_version": "1.5.0",
            "box_style": "",
            "layout": "IPY_MODEL_d316ff1d7332469b89140dd8f705e11a",
            "_model_module": "@jupyter-widgets/controls",
            "children": [
              "IPY_MODEL_00478f652b8742a8988742b864b5d2bb",
              "IPY_MODEL_f4e4bbb8c59647f28c5e7fc17480f3df"
            ]
          }
        },
        "d316ff1d7332469b89140dd8f705e11a": {
          "model_module": "@jupyter-widgets/base",
          "model_name": "LayoutModel",
          "state": {
            "_view_name": "LayoutView",
            "grid_template_rows": null,
            "right": null,
            "justify_content": null,
            "_view_module": "@jupyter-widgets/base",
            "overflow": null,
            "_model_module_version": "1.2.0",
            "_view_count": null,
            "flex_flow": null,
            "width": null,
            "min_width": null,
            "border": null,
            "align_items": null,
            "bottom": null,
            "_model_module": "@jupyter-widgets/base",
            "top": null,
            "grid_column": null,
            "overflow_y": null,
            "overflow_x": null,
            "grid_auto_flow": null,
            "grid_area": null,
            "grid_template_columns": null,
            "flex": null,
            "_model_name": "LayoutModel",
            "justify_items": null,
            "grid_row": null,
            "max_height": null,
            "align_content": null,
            "visibility": null,
            "align_self": null,
            "height": null,
            "min_height": null,
            "padding": null,
            "grid_auto_rows": null,
            "grid_gap": null,
            "max_width": null,
            "order": null,
            "_view_module_version": "1.2.0",
            "grid_template_areas": null,
            "object_position": null,
            "object_fit": null,
            "grid_auto_columns": null,
            "margin": null,
            "display": null,
            "left": null
          }
        },
        "00478f652b8742a8988742b864b5d2bb": {
          "model_module": "@jupyter-widgets/controls",
          "model_name": "FloatProgressModel",
          "state": {
            "_view_name": "ProgressView",
            "style": "IPY_MODEL_809bc285d42847cdbd1c9b9ba70cf702",
            "_dom_classes": [],
            "description": "100%",
            "_model_name": "FloatProgressModel",
            "bar_style": "",
            "max": 64,
            "_view_module": "@jupyter-widgets/controls",
            "_model_module_version": "1.5.0",
            "value": 64,
            "_view_count": null,
            "_view_module_version": "1.5.0",
            "orientation": "horizontal",
            "min": 0,
            "description_tooltip": null,
            "_model_module": "@jupyter-widgets/controls",
            "layout": "IPY_MODEL_8b4b81d92d054b678d0ea7087daf26c0"
          }
        },
        "f4e4bbb8c59647f28c5e7fc17480f3df": {
          "model_module": "@jupyter-widgets/controls",
          "model_name": "HTMLModel",
          "state": {
            "_view_name": "HTMLView",
            "style": "IPY_MODEL_3f383a8fd2894e36b69a4703144a3d74",
            "_dom_classes": [],
            "description": "",
            "_model_name": "HTMLModel",
            "placeholder": "​",
            "_view_module": "@jupyter-widgets/controls",
            "_model_module_version": "1.5.0",
            "value": " 64/64 [00:46&lt;00:00,  1.40it/s]",
            "_view_count": null,
            "_view_module_version": "1.5.0",
            "description_tooltip": null,
            "_model_module": "@jupyter-widgets/controls",
            "layout": "IPY_MODEL_29eb8f5c5913487984ab059a427d05d5"
          }
        },
        "809bc285d42847cdbd1c9b9ba70cf702": {
          "model_module": "@jupyter-widgets/controls",
          "model_name": "ProgressStyleModel",
          "state": {
            "_view_name": "StyleView",
            "_model_name": "ProgressStyleModel",
            "description_width": "initial",
            "_view_module": "@jupyter-widgets/base",
            "_model_module_version": "1.5.0",
            "_view_count": null,
            "_view_module_version": "1.2.0",
            "bar_color": null,
            "_model_module": "@jupyter-widgets/controls"
          }
        },
        "8b4b81d92d054b678d0ea7087daf26c0": {
          "model_module": "@jupyter-widgets/base",
          "model_name": "LayoutModel",
          "state": {
            "_view_name": "LayoutView",
            "grid_template_rows": null,
            "right": null,
            "justify_content": null,
            "_view_module": "@jupyter-widgets/base",
            "overflow": null,
            "_model_module_version": "1.2.0",
            "_view_count": null,
            "flex_flow": null,
            "width": null,
            "min_width": null,
            "border": null,
            "align_items": null,
            "bottom": null,
            "_model_module": "@jupyter-widgets/base",
            "top": null,
            "grid_column": null,
            "overflow_y": null,
            "overflow_x": null,
            "grid_auto_flow": null,
            "grid_area": null,
            "grid_template_columns": null,
            "flex": null,
            "_model_name": "LayoutModel",
            "justify_items": null,
            "grid_row": null,
            "max_height": null,
            "align_content": null,
            "visibility": null,
            "align_self": null,
            "height": null,
            "min_height": null,
            "padding": null,
            "grid_auto_rows": null,
            "grid_gap": null,
            "max_width": null,
            "order": null,
            "_view_module_version": "1.2.0",
            "grid_template_areas": null,
            "object_position": null,
            "object_fit": null,
            "grid_auto_columns": null,
            "margin": null,
            "display": null,
            "left": null
          }
        },
        "3f383a8fd2894e36b69a4703144a3d74": {
          "model_module": "@jupyter-widgets/controls",
          "model_name": "DescriptionStyleModel",
          "state": {
            "_view_name": "StyleView",
            "_model_name": "DescriptionStyleModel",
            "description_width": "",
            "_view_module": "@jupyter-widgets/base",
            "_model_module_version": "1.5.0",
            "_view_count": null,
            "_view_module_version": "1.2.0",
            "_model_module": "@jupyter-widgets/controls"
          }
        },
        "29eb8f5c5913487984ab059a427d05d5": {
          "model_module": "@jupyter-widgets/base",
          "model_name": "LayoutModel",
          "state": {
            "_view_name": "LayoutView",
            "grid_template_rows": null,
            "right": null,
            "justify_content": null,
            "_view_module": "@jupyter-widgets/base",
            "overflow": null,
            "_model_module_version": "1.2.0",
            "_view_count": null,
            "flex_flow": null,
            "width": null,
            "min_width": null,
            "border": null,
            "align_items": null,
            "bottom": null,
            "_model_module": "@jupyter-widgets/base",
            "top": null,
            "grid_column": null,
            "overflow_y": null,
            "overflow_x": null,
            "grid_auto_flow": null,
            "grid_area": null,
            "grid_template_columns": null,
            "flex": null,
            "_model_name": "LayoutModel",
            "justify_items": null,
            "grid_row": null,
            "max_height": null,
            "align_content": null,
            "visibility": null,
            "align_self": null,
            "height": null,
            "min_height": null,
            "padding": null,
            "grid_auto_rows": null,
            "grid_gap": null,
            "max_width": null,
            "order": null,
            "_view_module_version": "1.2.0",
            "grid_template_areas": null,
            "object_position": null,
            "object_fit": null,
            "grid_auto_columns": null,
            "margin": null,
            "display": null,
            "left": null
          }
        },
        "bc40c410266d4643a253fc807ba225ba": {
          "model_module": "@jupyter-widgets/controls",
          "model_name": "HBoxModel",
          "state": {
            "_view_name": "HBoxView",
            "_dom_classes": [],
            "_model_name": "HBoxModel",
            "_view_module": "@jupyter-widgets/controls",
            "_model_module_version": "1.5.0",
            "_view_count": null,
            "_view_module_version": "1.5.0",
            "box_style": "",
            "layout": "IPY_MODEL_c6533481e3c441ecb8edb64b1e34b84c",
            "_model_module": "@jupyter-widgets/controls",
            "children": [
              "IPY_MODEL_85c4559a10aa4636bb4ecf7fce422cb1",
              "IPY_MODEL_6299a57ffa5c41ff9c364d99ad431c7a"
            ]
          }
        },
        "c6533481e3c441ecb8edb64b1e34b84c": {
          "model_module": "@jupyter-widgets/base",
          "model_name": "LayoutModel",
          "state": {
            "_view_name": "LayoutView",
            "grid_template_rows": null,
            "right": null,
            "justify_content": null,
            "_view_module": "@jupyter-widgets/base",
            "overflow": null,
            "_model_module_version": "1.2.0",
            "_view_count": null,
            "flex_flow": null,
            "width": null,
            "min_width": null,
            "border": null,
            "align_items": null,
            "bottom": null,
            "_model_module": "@jupyter-widgets/base",
            "top": null,
            "grid_column": null,
            "overflow_y": null,
            "overflow_x": null,
            "grid_auto_flow": null,
            "grid_area": null,
            "grid_template_columns": null,
            "flex": null,
            "_model_name": "LayoutModel",
            "justify_items": null,
            "grid_row": null,
            "max_height": null,
            "align_content": null,
            "visibility": null,
            "align_self": null,
            "height": null,
            "min_height": null,
            "padding": null,
            "grid_auto_rows": null,
            "grid_gap": null,
            "max_width": null,
            "order": null,
            "_view_module_version": "1.2.0",
            "grid_template_areas": null,
            "object_position": null,
            "object_fit": null,
            "grid_auto_columns": null,
            "margin": null,
            "display": null,
            "left": null
          }
        },
        "85c4559a10aa4636bb4ecf7fce422cb1": {
          "model_module": "@jupyter-widgets/controls",
          "model_name": "FloatProgressModel",
          "state": {
            "_view_name": "ProgressView",
            "style": "IPY_MODEL_f2049ee088714e7c84cf5db92beb3a3f",
            "_dom_classes": [],
            "description": "100%",
            "_model_name": "FloatProgressModel",
            "bar_style": "",
            "max": 64,
            "_view_module": "@jupyter-widgets/controls",
            "_model_module_version": "1.5.0",
            "value": 64,
            "_view_count": null,
            "_view_module_version": "1.5.0",
            "orientation": "horizontal",
            "min": 0,
            "description_tooltip": null,
            "_model_module": "@jupyter-widgets/controls",
            "layout": "IPY_MODEL_b956a10118694c4990444262e32eee84"
          }
        },
        "6299a57ffa5c41ff9c364d99ad431c7a": {
          "model_module": "@jupyter-widgets/controls",
          "model_name": "HTMLModel",
          "state": {
            "_view_name": "HTMLView",
            "style": "IPY_MODEL_c34c0a433c744519b11c244b8b0f12f0",
            "_dom_classes": [],
            "description": "",
            "_model_name": "HTMLModel",
            "placeholder": "​",
            "_view_module": "@jupyter-widgets/controls",
            "_model_module_version": "1.5.0",
            "value": " 64/64 [02:26&lt;00:00,  2.27s/it]",
            "_view_count": null,
            "_view_module_version": "1.5.0",
            "description_tooltip": null,
            "_model_module": "@jupyter-widgets/controls",
            "layout": "IPY_MODEL_d5eea93903d74e11b132ae37549cb557"
          }
        },
        "f2049ee088714e7c84cf5db92beb3a3f": {
          "model_module": "@jupyter-widgets/controls",
          "model_name": "ProgressStyleModel",
          "state": {
            "_view_name": "StyleView",
            "_model_name": "ProgressStyleModel",
            "description_width": "initial",
            "_view_module": "@jupyter-widgets/base",
            "_model_module_version": "1.5.0",
            "_view_count": null,
            "_view_module_version": "1.2.0",
            "bar_color": null,
            "_model_module": "@jupyter-widgets/controls"
          }
        },
        "b956a10118694c4990444262e32eee84": {
          "model_module": "@jupyter-widgets/base",
          "model_name": "LayoutModel",
          "state": {
            "_view_name": "LayoutView",
            "grid_template_rows": null,
            "right": null,
            "justify_content": null,
            "_view_module": "@jupyter-widgets/base",
            "overflow": null,
            "_model_module_version": "1.2.0",
            "_view_count": null,
            "flex_flow": null,
            "width": null,
            "min_width": null,
            "border": null,
            "align_items": null,
            "bottom": null,
            "_model_module": "@jupyter-widgets/base",
            "top": null,
            "grid_column": null,
            "overflow_y": null,
            "overflow_x": null,
            "grid_auto_flow": null,
            "grid_area": null,
            "grid_template_columns": null,
            "flex": null,
            "_model_name": "LayoutModel",
            "justify_items": null,
            "grid_row": null,
            "max_height": null,
            "align_content": null,
            "visibility": null,
            "align_self": null,
            "height": null,
            "min_height": null,
            "padding": null,
            "grid_auto_rows": null,
            "grid_gap": null,
            "max_width": null,
            "order": null,
            "_view_module_version": "1.2.0",
            "grid_template_areas": null,
            "object_position": null,
            "object_fit": null,
            "grid_auto_columns": null,
            "margin": null,
            "display": null,
            "left": null
          }
        },
        "c34c0a433c744519b11c244b8b0f12f0": {
          "model_module": "@jupyter-widgets/controls",
          "model_name": "DescriptionStyleModel",
          "state": {
            "_view_name": "StyleView",
            "_model_name": "DescriptionStyleModel",
            "description_width": "",
            "_view_module": "@jupyter-widgets/base",
            "_model_module_version": "1.5.0",
            "_view_count": null,
            "_view_module_version": "1.2.0",
            "_model_module": "@jupyter-widgets/controls"
          }
        },
        "d5eea93903d74e11b132ae37549cb557": {
          "model_module": "@jupyter-widgets/base",
          "model_name": "LayoutModel",
          "state": {
            "_view_name": "LayoutView",
            "grid_template_rows": null,
            "right": null,
            "justify_content": null,
            "_view_module": "@jupyter-widgets/base",
            "overflow": null,
            "_model_module_version": "1.2.0",
            "_view_count": null,
            "flex_flow": null,
            "width": null,
            "min_width": null,
            "border": null,
            "align_items": null,
            "bottom": null,
            "_model_module": "@jupyter-widgets/base",
            "top": null,
            "grid_column": null,
            "overflow_y": null,
            "overflow_x": null,
            "grid_auto_flow": null,
            "grid_area": null,
            "grid_template_columns": null,
            "flex": null,
            "_model_name": "LayoutModel",
            "justify_items": null,
            "grid_row": null,
            "max_height": null,
            "align_content": null,
            "visibility": null,
            "align_self": null,
            "height": null,
            "min_height": null,
            "padding": null,
            "grid_auto_rows": null,
            "grid_gap": null,
            "max_width": null,
            "order": null,
            "_view_module_version": "1.2.0",
            "grid_template_areas": null,
            "object_position": null,
            "object_fit": null,
            "grid_auto_columns": null,
            "margin": null,
            "display": null,
            "left": null
          }
        },
        "ff0a898d0a0a496ba12ad9f7ad142c6b": {
          "model_module": "@jupyter-widgets/controls",
          "model_name": "HBoxModel",
          "state": {
            "_view_name": "HBoxView",
            "_dom_classes": [],
            "_model_name": "HBoxModel",
            "_view_module": "@jupyter-widgets/controls",
            "_model_module_version": "1.5.0",
            "_view_count": null,
            "_view_module_version": "1.5.0",
            "box_style": "",
            "layout": "IPY_MODEL_2348c4979fca46c185b8d5141f37c1b4",
            "_model_module": "@jupyter-widgets/controls",
            "children": [
              "IPY_MODEL_9b187c91c351401ebb95c1eb7a3bbef2",
              "IPY_MODEL_2811de8a4841422b98695c0cb0a9b7e7"
            ]
          }
        },
        "2348c4979fca46c185b8d5141f37c1b4": {
          "model_module": "@jupyter-widgets/base",
          "model_name": "LayoutModel",
          "state": {
            "_view_name": "LayoutView",
            "grid_template_rows": null,
            "right": null,
            "justify_content": null,
            "_view_module": "@jupyter-widgets/base",
            "overflow": null,
            "_model_module_version": "1.2.0",
            "_view_count": null,
            "flex_flow": null,
            "width": null,
            "min_width": null,
            "border": null,
            "align_items": null,
            "bottom": null,
            "_model_module": "@jupyter-widgets/base",
            "top": null,
            "grid_column": null,
            "overflow_y": null,
            "overflow_x": null,
            "grid_auto_flow": null,
            "grid_area": null,
            "grid_template_columns": null,
            "flex": null,
            "_model_name": "LayoutModel",
            "justify_items": null,
            "grid_row": null,
            "max_height": null,
            "align_content": null,
            "visibility": null,
            "align_self": null,
            "height": null,
            "min_height": null,
            "padding": null,
            "grid_auto_rows": null,
            "grid_gap": null,
            "max_width": null,
            "order": null,
            "_view_module_version": "1.2.0",
            "grid_template_areas": null,
            "object_position": null,
            "object_fit": null,
            "grid_auto_columns": null,
            "margin": null,
            "display": null,
            "left": null
          }
        },
        "9b187c91c351401ebb95c1eb7a3bbef2": {
          "model_module": "@jupyter-widgets/controls",
          "model_name": "FloatProgressModel",
          "state": {
            "_view_name": "ProgressView",
            "style": "IPY_MODEL_827b8ce799ed4fe885b0a7cac05f3e38",
            "_dom_classes": [],
            "description": "100%",
            "_model_name": "FloatProgressModel",
            "bar_style": "",
            "max": 64,
            "_view_module": "@jupyter-widgets/controls",
            "_model_module_version": "1.5.0",
            "value": 64,
            "_view_count": null,
            "_view_module_version": "1.5.0",
            "orientation": "horizontal",
            "min": 0,
            "description_tooltip": null,
            "_model_module": "@jupyter-widgets/controls",
            "layout": "IPY_MODEL_7402b075e27f4774a380c1c12299392a"
          }
        },
        "2811de8a4841422b98695c0cb0a9b7e7": {
          "model_module": "@jupyter-widgets/controls",
          "model_name": "HTMLModel",
          "state": {
            "_view_name": "HTMLView",
            "style": "IPY_MODEL_7b29b6b6674942f3888deb92545711a8",
            "_dom_classes": [],
            "description": "",
            "_model_name": "HTMLModel",
            "placeholder": "​",
            "_view_module": "@jupyter-widgets/controls",
            "_model_module_version": "1.5.0",
            "value": " 64/64 [00:46&lt;00:00,  1.40it/s]",
            "_view_count": null,
            "_view_module_version": "1.5.0",
            "description_tooltip": null,
            "_model_module": "@jupyter-widgets/controls",
            "layout": "IPY_MODEL_95ce42ad5b12431ca1b8de986c227565"
          }
        },
        "827b8ce799ed4fe885b0a7cac05f3e38": {
          "model_module": "@jupyter-widgets/controls",
          "model_name": "ProgressStyleModel",
          "state": {
            "_view_name": "StyleView",
            "_model_name": "ProgressStyleModel",
            "description_width": "initial",
            "_view_module": "@jupyter-widgets/base",
            "_model_module_version": "1.5.0",
            "_view_count": null,
            "_view_module_version": "1.2.0",
            "bar_color": null,
            "_model_module": "@jupyter-widgets/controls"
          }
        },
        "7402b075e27f4774a380c1c12299392a": {
          "model_module": "@jupyter-widgets/base",
          "model_name": "LayoutModel",
          "state": {
            "_view_name": "LayoutView",
            "grid_template_rows": null,
            "right": null,
            "justify_content": null,
            "_view_module": "@jupyter-widgets/base",
            "overflow": null,
            "_model_module_version": "1.2.0",
            "_view_count": null,
            "flex_flow": null,
            "width": null,
            "min_width": null,
            "border": null,
            "align_items": null,
            "bottom": null,
            "_model_module": "@jupyter-widgets/base",
            "top": null,
            "grid_column": null,
            "overflow_y": null,
            "overflow_x": null,
            "grid_auto_flow": null,
            "grid_area": null,
            "grid_template_columns": null,
            "flex": null,
            "_model_name": "LayoutModel",
            "justify_items": null,
            "grid_row": null,
            "max_height": null,
            "align_content": null,
            "visibility": null,
            "align_self": null,
            "height": null,
            "min_height": null,
            "padding": null,
            "grid_auto_rows": null,
            "grid_gap": null,
            "max_width": null,
            "order": null,
            "_view_module_version": "1.2.0",
            "grid_template_areas": null,
            "object_position": null,
            "object_fit": null,
            "grid_auto_columns": null,
            "margin": null,
            "display": null,
            "left": null
          }
        },
        "7b29b6b6674942f3888deb92545711a8": {
          "model_module": "@jupyter-widgets/controls",
          "model_name": "DescriptionStyleModel",
          "state": {
            "_view_name": "StyleView",
            "_model_name": "DescriptionStyleModel",
            "description_width": "",
            "_view_module": "@jupyter-widgets/base",
            "_model_module_version": "1.5.0",
            "_view_count": null,
            "_view_module_version": "1.2.0",
            "_model_module": "@jupyter-widgets/controls"
          }
        },
        "95ce42ad5b12431ca1b8de986c227565": {
          "model_module": "@jupyter-widgets/base",
          "model_name": "LayoutModel",
          "state": {
            "_view_name": "LayoutView",
            "grid_template_rows": null,
            "right": null,
            "justify_content": null,
            "_view_module": "@jupyter-widgets/base",
            "overflow": null,
            "_model_module_version": "1.2.0",
            "_view_count": null,
            "flex_flow": null,
            "width": null,
            "min_width": null,
            "border": null,
            "align_items": null,
            "bottom": null,
            "_model_module": "@jupyter-widgets/base",
            "top": null,
            "grid_column": null,
            "overflow_y": null,
            "overflow_x": null,
            "grid_auto_flow": null,
            "grid_area": null,
            "grid_template_columns": null,
            "flex": null,
            "_model_name": "LayoutModel",
            "justify_items": null,
            "grid_row": null,
            "max_height": null,
            "align_content": null,
            "visibility": null,
            "align_self": null,
            "height": null,
            "min_height": null,
            "padding": null,
            "grid_auto_rows": null,
            "grid_gap": null,
            "max_width": null,
            "order": null,
            "_view_module_version": "1.2.0",
            "grid_template_areas": null,
            "object_position": null,
            "object_fit": null,
            "grid_auto_columns": null,
            "margin": null,
            "display": null,
            "left": null
          }
        },
        "12655920a1b445deaeab7e3b59bc02ba": {
          "model_module": "@jupyter-widgets/controls",
          "model_name": "HBoxModel",
          "state": {
            "_view_name": "HBoxView",
            "_dom_classes": [],
            "_model_name": "HBoxModel",
            "_view_module": "@jupyter-widgets/controls",
            "_model_module_version": "1.5.0",
            "_view_count": null,
            "_view_module_version": "1.5.0",
            "box_style": "",
            "layout": "IPY_MODEL_103f233ccc2346f7aec8a281af13028c",
            "_model_module": "@jupyter-widgets/controls",
            "children": [
              "IPY_MODEL_4a5609222bd840b085e10e0239d2a0b7",
              "IPY_MODEL_29ca94a7e5244888bd2c19e46c50f0b1"
            ]
          }
        },
        "103f233ccc2346f7aec8a281af13028c": {
          "model_module": "@jupyter-widgets/base",
          "model_name": "LayoutModel",
          "state": {
            "_view_name": "LayoutView",
            "grid_template_rows": null,
            "right": null,
            "justify_content": null,
            "_view_module": "@jupyter-widgets/base",
            "overflow": null,
            "_model_module_version": "1.2.0",
            "_view_count": null,
            "flex_flow": null,
            "width": null,
            "min_width": null,
            "border": null,
            "align_items": null,
            "bottom": null,
            "_model_module": "@jupyter-widgets/base",
            "top": null,
            "grid_column": null,
            "overflow_y": null,
            "overflow_x": null,
            "grid_auto_flow": null,
            "grid_area": null,
            "grid_template_columns": null,
            "flex": null,
            "_model_name": "LayoutModel",
            "justify_items": null,
            "grid_row": null,
            "max_height": null,
            "align_content": null,
            "visibility": null,
            "align_self": null,
            "height": null,
            "min_height": null,
            "padding": null,
            "grid_auto_rows": null,
            "grid_gap": null,
            "max_width": null,
            "order": null,
            "_view_module_version": "1.2.0",
            "grid_template_areas": null,
            "object_position": null,
            "object_fit": null,
            "grid_auto_columns": null,
            "margin": null,
            "display": null,
            "left": null
          }
        },
        "4a5609222bd840b085e10e0239d2a0b7": {
          "model_module": "@jupyter-widgets/controls",
          "model_name": "FloatProgressModel",
          "state": {
            "_view_name": "ProgressView",
            "style": "IPY_MODEL_6d5f6605e63347908859cbed290191e7",
            "_dom_classes": [],
            "description": "100%",
            "_model_name": "FloatProgressModel",
            "bar_style": "",
            "max": 64,
            "_view_module": "@jupyter-widgets/controls",
            "_model_module_version": "1.5.0",
            "value": 64,
            "_view_count": null,
            "_view_module_version": "1.5.0",
            "orientation": "horizontal",
            "min": 0,
            "description_tooltip": null,
            "_model_module": "@jupyter-widgets/controls",
            "layout": "IPY_MODEL_4cdab2e3fb3948dba19b2c02e084cae5"
          }
        },
        "29ca94a7e5244888bd2c19e46c50f0b1": {
          "model_module": "@jupyter-widgets/controls",
          "model_name": "HTMLModel",
          "state": {
            "_view_name": "HTMLView",
            "style": "IPY_MODEL_628e4537ca524ebd93ea67e0ca6dcc2b",
            "_dom_classes": [],
            "description": "",
            "_model_name": "HTMLModel",
            "placeholder": "​",
            "_view_module": "@jupyter-widgets/controls",
            "_model_module_version": "1.5.0",
            "value": " 64/64 [02:26&lt;00:00,  2.27s/it]",
            "_view_count": null,
            "_view_module_version": "1.5.0",
            "description_tooltip": null,
            "_model_module": "@jupyter-widgets/controls",
            "layout": "IPY_MODEL_b19f489f0fa14e69a7a6ba146918818b"
          }
        },
        "6d5f6605e63347908859cbed290191e7": {
          "model_module": "@jupyter-widgets/controls",
          "model_name": "ProgressStyleModel",
          "state": {
            "_view_name": "StyleView",
            "_model_name": "ProgressStyleModel",
            "description_width": "initial",
            "_view_module": "@jupyter-widgets/base",
            "_model_module_version": "1.5.0",
            "_view_count": null,
            "_view_module_version": "1.2.0",
            "bar_color": null,
            "_model_module": "@jupyter-widgets/controls"
          }
        },
        "4cdab2e3fb3948dba19b2c02e084cae5": {
          "model_module": "@jupyter-widgets/base",
          "model_name": "LayoutModel",
          "state": {
            "_view_name": "LayoutView",
            "grid_template_rows": null,
            "right": null,
            "justify_content": null,
            "_view_module": "@jupyter-widgets/base",
            "overflow": null,
            "_model_module_version": "1.2.0",
            "_view_count": null,
            "flex_flow": null,
            "width": null,
            "min_width": null,
            "border": null,
            "align_items": null,
            "bottom": null,
            "_model_module": "@jupyter-widgets/base",
            "top": null,
            "grid_column": null,
            "overflow_y": null,
            "overflow_x": null,
            "grid_auto_flow": null,
            "grid_area": null,
            "grid_template_columns": null,
            "flex": null,
            "_model_name": "LayoutModel",
            "justify_items": null,
            "grid_row": null,
            "max_height": null,
            "align_content": null,
            "visibility": null,
            "align_self": null,
            "height": null,
            "min_height": null,
            "padding": null,
            "grid_auto_rows": null,
            "grid_gap": null,
            "max_width": null,
            "order": null,
            "_view_module_version": "1.2.0",
            "grid_template_areas": null,
            "object_position": null,
            "object_fit": null,
            "grid_auto_columns": null,
            "margin": null,
            "display": null,
            "left": null
          }
        },
        "628e4537ca524ebd93ea67e0ca6dcc2b": {
          "model_module": "@jupyter-widgets/controls",
          "model_name": "DescriptionStyleModel",
          "state": {
            "_view_name": "StyleView",
            "_model_name": "DescriptionStyleModel",
            "description_width": "",
            "_view_module": "@jupyter-widgets/base",
            "_model_module_version": "1.5.0",
            "_view_count": null,
            "_view_module_version": "1.2.0",
            "_model_module": "@jupyter-widgets/controls"
          }
        },
        "b19f489f0fa14e69a7a6ba146918818b": {
          "model_module": "@jupyter-widgets/base",
          "model_name": "LayoutModel",
          "state": {
            "_view_name": "LayoutView",
            "grid_template_rows": null,
            "right": null,
            "justify_content": null,
            "_view_module": "@jupyter-widgets/base",
            "overflow": null,
            "_model_module_version": "1.2.0",
            "_view_count": null,
            "flex_flow": null,
            "width": null,
            "min_width": null,
            "border": null,
            "align_items": null,
            "bottom": null,
            "_model_module": "@jupyter-widgets/base",
            "top": null,
            "grid_column": null,
            "overflow_y": null,
            "overflow_x": null,
            "grid_auto_flow": null,
            "grid_area": null,
            "grid_template_columns": null,
            "flex": null,
            "_model_name": "LayoutModel",
            "justify_items": null,
            "grid_row": null,
            "max_height": null,
            "align_content": null,
            "visibility": null,
            "align_self": null,
            "height": null,
            "min_height": null,
            "padding": null,
            "grid_auto_rows": null,
            "grid_gap": null,
            "max_width": null,
            "order": null,
            "_view_module_version": "1.2.0",
            "grid_template_areas": null,
            "object_position": null,
            "object_fit": null,
            "grid_auto_columns": null,
            "margin": null,
            "display": null,
            "left": null
          }
        },
        "0cbe727fde4f44aaae0e748275dcc708": {
          "model_module": "@jupyter-widgets/controls",
          "model_name": "HBoxModel",
          "state": {
            "_view_name": "HBoxView",
            "_dom_classes": [],
            "_model_name": "HBoxModel",
            "_view_module": "@jupyter-widgets/controls",
            "_model_module_version": "1.5.0",
            "_view_count": null,
            "_view_module_version": "1.5.0",
            "box_style": "",
            "layout": "IPY_MODEL_6703c012bbbc4774906b2cd66c9bd14b",
            "_model_module": "@jupyter-widgets/controls",
            "children": [
              "IPY_MODEL_b5e42f4d1bde441a9ba0c151cc695f5d",
              "IPY_MODEL_d4aa8cb539de43588f8004cfa2a315da"
            ]
          }
        },
        "6703c012bbbc4774906b2cd66c9bd14b": {
          "model_module": "@jupyter-widgets/base",
          "model_name": "LayoutModel",
          "state": {
            "_view_name": "LayoutView",
            "grid_template_rows": null,
            "right": null,
            "justify_content": null,
            "_view_module": "@jupyter-widgets/base",
            "overflow": null,
            "_model_module_version": "1.2.0",
            "_view_count": null,
            "flex_flow": null,
            "width": null,
            "min_width": null,
            "border": null,
            "align_items": null,
            "bottom": null,
            "_model_module": "@jupyter-widgets/base",
            "top": null,
            "grid_column": null,
            "overflow_y": null,
            "overflow_x": null,
            "grid_auto_flow": null,
            "grid_area": null,
            "grid_template_columns": null,
            "flex": null,
            "_model_name": "LayoutModel",
            "justify_items": null,
            "grid_row": null,
            "max_height": null,
            "align_content": null,
            "visibility": null,
            "align_self": null,
            "height": null,
            "min_height": null,
            "padding": null,
            "grid_auto_rows": null,
            "grid_gap": null,
            "max_width": null,
            "order": null,
            "_view_module_version": "1.2.0",
            "grid_template_areas": null,
            "object_position": null,
            "object_fit": null,
            "grid_auto_columns": null,
            "margin": null,
            "display": null,
            "left": null
          }
        },
        "b5e42f4d1bde441a9ba0c151cc695f5d": {
          "model_module": "@jupyter-widgets/controls",
          "model_name": "FloatProgressModel",
          "state": {
            "_view_name": "ProgressView",
            "style": "IPY_MODEL_17e4aa32338042ca8ce61f54784f78a7",
            "_dom_classes": [],
            "description": "100%",
            "_model_name": "FloatProgressModel",
            "bar_style": "",
            "max": 64,
            "_view_module": "@jupyter-widgets/controls",
            "_model_module_version": "1.5.0",
            "value": 64,
            "_view_count": null,
            "_view_module_version": "1.5.0",
            "orientation": "horizontal",
            "min": 0,
            "description_tooltip": null,
            "_model_module": "@jupyter-widgets/controls",
            "layout": "IPY_MODEL_f0a6a0eb31924a4780ca2655f9613ec2"
          }
        },
        "d4aa8cb539de43588f8004cfa2a315da": {
          "model_module": "@jupyter-widgets/controls",
          "model_name": "HTMLModel",
          "state": {
            "_view_name": "HTMLView",
            "style": "IPY_MODEL_95279e32f43f4dbf8cd77ae30a9eed34",
            "_dom_classes": [],
            "description": "",
            "_model_name": "HTMLModel",
            "placeholder": "​",
            "_view_module": "@jupyter-widgets/controls",
            "_model_module_version": "1.5.0",
            "value": " 64/64 [00:46&lt;00:00,  1.40it/s]",
            "_view_count": null,
            "_view_module_version": "1.5.0",
            "description_tooltip": null,
            "_model_module": "@jupyter-widgets/controls",
            "layout": "IPY_MODEL_99bed6655eac4d4ab96361cfc10b150f"
          }
        },
        "17e4aa32338042ca8ce61f54784f78a7": {
          "model_module": "@jupyter-widgets/controls",
          "model_name": "ProgressStyleModel",
          "state": {
            "_view_name": "StyleView",
            "_model_name": "ProgressStyleModel",
            "description_width": "initial",
            "_view_module": "@jupyter-widgets/base",
            "_model_module_version": "1.5.0",
            "_view_count": null,
            "_view_module_version": "1.2.0",
            "bar_color": null,
            "_model_module": "@jupyter-widgets/controls"
          }
        },
        "f0a6a0eb31924a4780ca2655f9613ec2": {
          "model_module": "@jupyter-widgets/base",
          "model_name": "LayoutModel",
          "state": {
            "_view_name": "LayoutView",
            "grid_template_rows": null,
            "right": null,
            "justify_content": null,
            "_view_module": "@jupyter-widgets/base",
            "overflow": null,
            "_model_module_version": "1.2.0",
            "_view_count": null,
            "flex_flow": null,
            "width": null,
            "min_width": null,
            "border": null,
            "align_items": null,
            "bottom": null,
            "_model_module": "@jupyter-widgets/base",
            "top": null,
            "grid_column": null,
            "overflow_y": null,
            "overflow_x": null,
            "grid_auto_flow": null,
            "grid_area": null,
            "grid_template_columns": null,
            "flex": null,
            "_model_name": "LayoutModel",
            "justify_items": null,
            "grid_row": null,
            "max_height": null,
            "align_content": null,
            "visibility": null,
            "align_self": null,
            "height": null,
            "min_height": null,
            "padding": null,
            "grid_auto_rows": null,
            "grid_gap": null,
            "max_width": null,
            "order": null,
            "_view_module_version": "1.2.0",
            "grid_template_areas": null,
            "object_position": null,
            "object_fit": null,
            "grid_auto_columns": null,
            "margin": null,
            "display": null,
            "left": null
          }
        },
        "95279e32f43f4dbf8cd77ae30a9eed34": {
          "model_module": "@jupyter-widgets/controls",
          "model_name": "DescriptionStyleModel",
          "state": {
            "_view_name": "StyleView",
            "_model_name": "DescriptionStyleModel",
            "description_width": "",
            "_view_module": "@jupyter-widgets/base",
            "_model_module_version": "1.5.0",
            "_view_count": null,
            "_view_module_version": "1.2.0",
            "_model_module": "@jupyter-widgets/controls"
          }
        },
        "99bed6655eac4d4ab96361cfc10b150f": {
          "model_module": "@jupyter-widgets/base",
          "model_name": "LayoutModel",
          "state": {
            "_view_name": "LayoutView",
            "grid_template_rows": null,
            "right": null,
            "justify_content": null,
            "_view_module": "@jupyter-widgets/base",
            "overflow": null,
            "_model_module_version": "1.2.0",
            "_view_count": null,
            "flex_flow": null,
            "width": null,
            "min_width": null,
            "border": null,
            "align_items": null,
            "bottom": null,
            "_model_module": "@jupyter-widgets/base",
            "top": null,
            "grid_column": null,
            "overflow_y": null,
            "overflow_x": null,
            "grid_auto_flow": null,
            "grid_area": null,
            "grid_template_columns": null,
            "flex": null,
            "_model_name": "LayoutModel",
            "justify_items": null,
            "grid_row": null,
            "max_height": null,
            "align_content": null,
            "visibility": null,
            "align_self": null,
            "height": null,
            "min_height": null,
            "padding": null,
            "grid_auto_rows": null,
            "grid_gap": null,
            "max_width": null,
            "order": null,
            "_view_module_version": "1.2.0",
            "grid_template_areas": null,
            "object_position": null,
            "object_fit": null,
            "grid_auto_columns": null,
            "margin": null,
            "display": null,
            "left": null
          }
        },
        "399ae3629b65418fb56650faaf99a637": {
          "model_module": "@jupyter-widgets/controls",
          "model_name": "HBoxModel",
          "state": {
            "_view_name": "HBoxView",
            "_dom_classes": [],
            "_model_name": "HBoxModel",
            "_view_module": "@jupyter-widgets/controls",
            "_model_module_version": "1.5.0",
            "_view_count": null,
            "_view_module_version": "1.5.0",
            "box_style": "",
            "layout": "IPY_MODEL_b46725f78ef34cc38e3ba3265b41144f",
            "_model_module": "@jupyter-widgets/controls",
            "children": [
              "IPY_MODEL_57999c3457254d33b504107d1b17135a",
              "IPY_MODEL_868d22490fe646e5a881d3750248177e"
            ]
          }
        },
        "b46725f78ef34cc38e3ba3265b41144f": {
          "model_module": "@jupyter-widgets/base",
          "model_name": "LayoutModel",
          "state": {
            "_view_name": "LayoutView",
            "grid_template_rows": null,
            "right": null,
            "justify_content": null,
            "_view_module": "@jupyter-widgets/base",
            "overflow": null,
            "_model_module_version": "1.2.0",
            "_view_count": null,
            "flex_flow": null,
            "width": null,
            "min_width": null,
            "border": null,
            "align_items": null,
            "bottom": null,
            "_model_module": "@jupyter-widgets/base",
            "top": null,
            "grid_column": null,
            "overflow_y": null,
            "overflow_x": null,
            "grid_auto_flow": null,
            "grid_area": null,
            "grid_template_columns": null,
            "flex": null,
            "_model_name": "LayoutModel",
            "justify_items": null,
            "grid_row": null,
            "max_height": null,
            "align_content": null,
            "visibility": null,
            "align_self": null,
            "height": null,
            "min_height": null,
            "padding": null,
            "grid_auto_rows": null,
            "grid_gap": null,
            "max_width": null,
            "order": null,
            "_view_module_version": "1.2.0",
            "grid_template_areas": null,
            "object_position": null,
            "object_fit": null,
            "grid_auto_columns": null,
            "margin": null,
            "display": null,
            "left": null
          }
        },
        "57999c3457254d33b504107d1b17135a": {
          "model_module": "@jupyter-widgets/controls",
          "model_name": "FloatProgressModel",
          "state": {
            "_view_name": "ProgressView",
            "style": "IPY_MODEL_5fafc9631e9043f49542a36ef78cf61c",
            "_dom_classes": [],
            "description": "100%",
            "_model_name": "FloatProgressModel",
            "bar_style": "",
            "max": 64,
            "_view_module": "@jupyter-widgets/controls",
            "_model_module_version": "1.5.0",
            "value": 64,
            "_view_count": null,
            "_view_module_version": "1.5.0",
            "orientation": "horizontal",
            "min": 0,
            "description_tooltip": null,
            "_model_module": "@jupyter-widgets/controls",
            "layout": "IPY_MODEL_4aed820cee8f434b85d787c545c8d1a1"
          }
        },
        "868d22490fe646e5a881d3750248177e": {
          "model_module": "@jupyter-widgets/controls",
          "model_name": "HTMLModel",
          "state": {
            "_view_name": "HTMLView",
            "style": "IPY_MODEL_2a5fbb5417974d10b0932ac3beda8259",
            "_dom_classes": [],
            "description": "",
            "_model_name": "HTMLModel",
            "placeholder": "​",
            "_view_module": "@jupyter-widgets/controls",
            "_model_module_version": "1.5.0",
            "value": " 64/64 [02:26&lt;00:00,  2.27s/it]",
            "_view_count": null,
            "_view_module_version": "1.5.0",
            "description_tooltip": null,
            "_model_module": "@jupyter-widgets/controls",
            "layout": "IPY_MODEL_a8b9daffd69e427ca6157af7b6049f53"
          }
        },
        "5fafc9631e9043f49542a36ef78cf61c": {
          "model_module": "@jupyter-widgets/controls",
          "model_name": "ProgressStyleModel",
          "state": {
            "_view_name": "StyleView",
            "_model_name": "ProgressStyleModel",
            "description_width": "initial",
            "_view_module": "@jupyter-widgets/base",
            "_model_module_version": "1.5.0",
            "_view_count": null,
            "_view_module_version": "1.2.0",
            "bar_color": null,
            "_model_module": "@jupyter-widgets/controls"
          }
        },
        "4aed820cee8f434b85d787c545c8d1a1": {
          "model_module": "@jupyter-widgets/base",
          "model_name": "LayoutModel",
          "state": {
            "_view_name": "LayoutView",
            "grid_template_rows": null,
            "right": null,
            "justify_content": null,
            "_view_module": "@jupyter-widgets/base",
            "overflow": null,
            "_model_module_version": "1.2.0",
            "_view_count": null,
            "flex_flow": null,
            "width": null,
            "min_width": null,
            "border": null,
            "align_items": null,
            "bottom": null,
            "_model_module": "@jupyter-widgets/base",
            "top": null,
            "grid_column": null,
            "overflow_y": null,
            "overflow_x": null,
            "grid_auto_flow": null,
            "grid_area": null,
            "grid_template_columns": null,
            "flex": null,
            "_model_name": "LayoutModel",
            "justify_items": null,
            "grid_row": null,
            "max_height": null,
            "align_content": null,
            "visibility": null,
            "align_self": null,
            "height": null,
            "min_height": null,
            "padding": null,
            "grid_auto_rows": null,
            "grid_gap": null,
            "max_width": null,
            "order": null,
            "_view_module_version": "1.2.0",
            "grid_template_areas": null,
            "object_position": null,
            "object_fit": null,
            "grid_auto_columns": null,
            "margin": null,
            "display": null,
            "left": null
          }
        },
        "2a5fbb5417974d10b0932ac3beda8259": {
          "model_module": "@jupyter-widgets/controls",
          "model_name": "DescriptionStyleModel",
          "state": {
            "_view_name": "StyleView",
            "_model_name": "DescriptionStyleModel",
            "description_width": "",
            "_view_module": "@jupyter-widgets/base",
            "_model_module_version": "1.5.0",
            "_view_count": null,
            "_view_module_version": "1.2.0",
            "_model_module": "@jupyter-widgets/controls"
          }
        },
        "a8b9daffd69e427ca6157af7b6049f53": {
          "model_module": "@jupyter-widgets/base",
          "model_name": "LayoutModel",
          "state": {
            "_view_name": "LayoutView",
            "grid_template_rows": null,
            "right": null,
            "justify_content": null,
            "_view_module": "@jupyter-widgets/base",
            "overflow": null,
            "_model_module_version": "1.2.0",
            "_view_count": null,
            "flex_flow": null,
            "width": null,
            "min_width": null,
            "border": null,
            "align_items": null,
            "bottom": null,
            "_model_module": "@jupyter-widgets/base",
            "top": null,
            "grid_column": null,
            "overflow_y": null,
            "overflow_x": null,
            "grid_auto_flow": null,
            "grid_area": null,
            "grid_template_columns": null,
            "flex": null,
            "_model_name": "LayoutModel",
            "justify_items": null,
            "grid_row": null,
            "max_height": null,
            "align_content": null,
            "visibility": null,
            "align_self": null,
            "height": null,
            "min_height": null,
            "padding": null,
            "grid_auto_rows": null,
            "grid_gap": null,
            "max_width": null,
            "order": null,
            "_view_module_version": "1.2.0",
            "grid_template_areas": null,
            "object_position": null,
            "object_fit": null,
            "grid_auto_columns": null,
            "margin": null,
            "display": null,
            "left": null
          }
        },
        "189ec2c0d411490ba2a42d11468432de": {
          "model_module": "@jupyter-widgets/controls",
          "model_name": "HBoxModel",
          "state": {
            "_view_name": "HBoxView",
            "_dom_classes": [],
            "_model_name": "HBoxModel",
            "_view_module": "@jupyter-widgets/controls",
            "_model_module_version": "1.5.0",
            "_view_count": null,
            "_view_module_version": "1.5.0",
            "box_style": "",
            "layout": "IPY_MODEL_0fed6f99982e4673a0260a5374bc1a22",
            "_model_module": "@jupyter-widgets/controls",
            "children": [
              "IPY_MODEL_7c232714aca94af7a2400f17e9b6f4f3",
              "IPY_MODEL_1ed11b0bcc8942ab9a5780bd3ab34d85"
            ]
          }
        },
        "0fed6f99982e4673a0260a5374bc1a22": {
          "model_module": "@jupyter-widgets/base",
          "model_name": "LayoutModel",
          "state": {
            "_view_name": "LayoutView",
            "grid_template_rows": null,
            "right": null,
            "justify_content": null,
            "_view_module": "@jupyter-widgets/base",
            "overflow": null,
            "_model_module_version": "1.2.0",
            "_view_count": null,
            "flex_flow": null,
            "width": null,
            "min_width": null,
            "border": null,
            "align_items": null,
            "bottom": null,
            "_model_module": "@jupyter-widgets/base",
            "top": null,
            "grid_column": null,
            "overflow_y": null,
            "overflow_x": null,
            "grid_auto_flow": null,
            "grid_area": null,
            "grid_template_columns": null,
            "flex": null,
            "_model_name": "LayoutModel",
            "justify_items": null,
            "grid_row": null,
            "max_height": null,
            "align_content": null,
            "visibility": null,
            "align_self": null,
            "height": null,
            "min_height": null,
            "padding": null,
            "grid_auto_rows": null,
            "grid_gap": null,
            "max_width": null,
            "order": null,
            "_view_module_version": "1.2.0",
            "grid_template_areas": null,
            "object_position": null,
            "object_fit": null,
            "grid_auto_columns": null,
            "margin": null,
            "display": null,
            "left": null
          }
        },
        "7c232714aca94af7a2400f17e9b6f4f3": {
          "model_module": "@jupyter-widgets/controls",
          "model_name": "FloatProgressModel",
          "state": {
            "_view_name": "ProgressView",
            "style": "IPY_MODEL_e29b21b16dce4d0cb41d369a0fa1462e",
            "_dom_classes": [],
            "description": "100%",
            "_model_name": "FloatProgressModel",
            "bar_style": "",
            "max": 64,
            "_view_module": "@jupyter-widgets/controls",
            "_model_module_version": "1.5.0",
            "value": 64,
            "_view_count": null,
            "_view_module_version": "1.5.0",
            "orientation": "horizontal",
            "min": 0,
            "description_tooltip": null,
            "_model_module": "@jupyter-widgets/controls",
            "layout": "IPY_MODEL_3850547d8296443fb43b71d48d170326"
          }
        },
        "1ed11b0bcc8942ab9a5780bd3ab34d85": {
          "model_module": "@jupyter-widgets/controls",
          "model_name": "HTMLModel",
          "state": {
            "_view_name": "HTMLView",
            "style": "IPY_MODEL_d5d1780557ee48bd86b6afd48a629d5a",
            "_dom_classes": [],
            "description": "",
            "_model_name": "HTMLModel",
            "placeholder": "​",
            "_view_module": "@jupyter-widgets/controls",
            "_model_module_version": "1.5.0",
            "value": " 64/64 [00:46&lt;00:00,  1.40it/s]",
            "_view_count": null,
            "_view_module_version": "1.5.0",
            "description_tooltip": null,
            "_model_module": "@jupyter-widgets/controls",
            "layout": "IPY_MODEL_fe9de7f6cdd3464ea1c63714d8c6fba2"
          }
        },
        "e29b21b16dce4d0cb41d369a0fa1462e": {
          "model_module": "@jupyter-widgets/controls",
          "model_name": "ProgressStyleModel",
          "state": {
            "_view_name": "StyleView",
            "_model_name": "ProgressStyleModel",
            "description_width": "initial",
            "_view_module": "@jupyter-widgets/base",
            "_model_module_version": "1.5.0",
            "_view_count": null,
            "_view_module_version": "1.2.0",
            "bar_color": null,
            "_model_module": "@jupyter-widgets/controls"
          }
        },
        "3850547d8296443fb43b71d48d170326": {
          "model_module": "@jupyter-widgets/base",
          "model_name": "LayoutModel",
          "state": {
            "_view_name": "LayoutView",
            "grid_template_rows": null,
            "right": null,
            "justify_content": null,
            "_view_module": "@jupyter-widgets/base",
            "overflow": null,
            "_model_module_version": "1.2.0",
            "_view_count": null,
            "flex_flow": null,
            "width": null,
            "min_width": null,
            "border": null,
            "align_items": null,
            "bottom": null,
            "_model_module": "@jupyter-widgets/base",
            "top": null,
            "grid_column": null,
            "overflow_y": null,
            "overflow_x": null,
            "grid_auto_flow": null,
            "grid_area": null,
            "grid_template_columns": null,
            "flex": null,
            "_model_name": "LayoutModel",
            "justify_items": null,
            "grid_row": null,
            "max_height": null,
            "align_content": null,
            "visibility": null,
            "align_self": null,
            "height": null,
            "min_height": null,
            "padding": null,
            "grid_auto_rows": null,
            "grid_gap": null,
            "max_width": null,
            "order": null,
            "_view_module_version": "1.2.0",
            "grid_template_areas": null,
            "object_position": null,
            "object_fit": null,
            "grid_auto_columns": null,
            "margin": null,
            "display": null,
            "left": null
          }
        },
        "d5d1780557ee48bd86b6afd48a629d5a": {
          "model_module": "@jupyter-widgets/controls",
          "model_name": "DescriptionStyleModel",
          "state": {
            "_view_name": "StyleView",
            "_model_name": "DescriptionStyleModel",
            "description_width": "",
            "_view_module": "@jupyter-widgets/base",
            "_model_module_version": "1.5.0",
            "_view_count": null,
            "_view_module_version": "1.2.0",
            "_model_module": "@jupyter-widgets/controls"
          }
        },
        "fe9de7f6cdd3464ea1c63714d8c6fba2": {
          "model_module": "@jupyter-widgets/base",
          "model_name": "LayoutModel",
          "state": {
            "_view_name": "LayoutView",
            "grid_template_rows": null,
            "right": null,
            "justify_content": null,
            "_view_module": "@jupyter-widgets/base",
            "overflow": null,
            "_model_module_version": "1.2.0",
            "_view_count": null,
            "flex_flow": null,
            "width": null,
            "min_width": null,
            "border": null,
            "align_items": null,
            "bottom": null,
            "_model_module": "@jupyter-widgets/base",
            "top": null,
            "grid_column": null,
            "overflow_y": null,
            "overflow_x": null,
            "grid_auto_flow": null,
            "grid_area": null,
            "grid_template_columns": null,
            "flex": null,
            "_model_name": "LayoutModel",
            "justify_items": null,
            "grid_row": null,
            "max_height": null,
            "align_content": null,
            "visibility": null,
            "align_self": null,
            "height": null,
            "min_height": null,
            "padding": null,
            "grid_auto_rows": null,
            "grid_gap": null,
            "max_width": null,
            "order": null,
            "_view_module_version": "1.2.0",
            "grid_template_areas": null,
            "object_position": null,
            "object_fit": null,
            "grid_auto_columns": null,
            "margin": null,
            "display": null,
            "left": null
          }
        },
        "58c0fab104184962b76c6aeb770eee98": {
          "model_module": "@jupyter-widgets/controls",
          "model_name": "HBoxModel",
          "state": {
            "_view_name": "HBoxView",
            "_dom_classes": [],
            "_model_name": "HBoxModel",
            "_view_module": "@jupyter-widgets/controls",
            "_model_module_version": "1.5.0",
            "_view_count": null,
            "_view_module_version": "1.5.0",
            "box_style": "",
            "layout": "IPY_MODEL_ce491c79489148f3a85bea571b2218ed",
            "_model_module": "@jupyter-widgets/controls",
            "children": [
              "IPY_MODEL_ad2e6f2b61fb4e60b1e59fec9bb2abdc",
              "IPY_MODEL_7dc9776140e34eaf863f94bbcfba5edb"
            ]
          }
        },
        "ce491c79489148f3a85bea571b2218ed": {
          "model_module": "@jupyter-widgets/base",
          "model_name": "LayoutModel",
          "state": {
            "_view_name": "LayoutView",
            "grid_template_rows": null,
            "right": null,
            "justify_content": null,
            "_view_module": "@jupyter-widgets/base",
            "overflow": null,
            "_model_module_version": "1.2.0",
            "_view_count": null,
            "flex_flow": null,
            "width": null,
            "min_width": null,
            "border": null,
            "align_items": null,
            "bottom": null,
            "_model_module": "@jupyter-widgets/base",
            "top": null,
            "grid_column": null,
            "overflow_y": null,
            "overflow_x": null,
            "grid_auto_flow": null,
            "grid_area": null,
            "grid_template_columns": null,
            "flex": null,
            "_model_name": "LayoutModel",
            "justify_items": null,
            "grid_row": null,
            "max_height": null,
            "align_content": null,
            "visibility": null,
            "align_self": null,
            "height": null,
            "min_height": null,
            "padding": null,
            "grid_auto_rows": null,
            "grid_gap": null,
            "max_width": null,
            "order": null,
            "_view_module_version": "1.2.0",
            "grid_template_areas": null,
            "object_position": null,
            "object_fit": null,
            "grid_auto_columns": null,
            "margin": null,
            "display": null,
            "left": null
          }
        },
        "ad2e6f2b61fb4e60b1e59fec9bb2abdc": {
          "model_module": "@jupyter-widgets/controls",
          "model_name": "FloatProgressModel",
          "state": {
            "_view_name": "ProgressView",
            "style": "IPY_MODEL_d5efe2b62de1406ab753fca9bd44efd2",
            "_dom_classes": [],
            "description": "100%",
            "_model_name": "FloatProgressModel",
            "bar_style": "",
            "max": 64,
            "_view_module": "@jupyter-widgets/controls",
            "_model_module_version": "1.5.0",
            "value": 64,
            "_view_count": null,
            "_view_module_version": "1.5.0",
            "orientation": "horizontal",
            "min": 0,
            "description_tooltip": null,
            "_model_module": "@jupyter-widgets/controls",
            "layout": "IPY_MODEL_1c217101ed194d4ea18798ae3888bdf7"
          }
        },
        "7dc9776140e34eaf863f94bbcfba5edb": {
          "model_module": "@jupyter-widgets/controls",
          "model_name": "HTMLModel",
          "state": {
            "_view_name": "HTMLView",
            "style": "IPY_MODEL_1e4c4343fce2463a84252310301cf6a5",
            "_dom_classes": [],
            "description": "",
            "_model_name": "HTMLModel",
            "placeholder": "​",
            "_view_module": "@jupyter-widgets/controls",
            "_model_module_version": "1.5.0",
            "value": " 64/64 [02:26&lt;00:00,  2.27s/it]",
            "_view_count": null,
            "_view_module_version": "1.5.0",
            "description_tooltip": null,
            "_model_module": "@jupyter-widgets/controls",
            "layout": "IPY_MODEL_015c851291994636b32a742ca0a89a8b"
          }
        },
        "d5efe2b62de1406ab753fca9bd44efd2": {
          "model_module": "@jupyter-widgets/controls",
          "model_name": "ProgressStyleModel",
          "state": {
            "_view_name": "StyleView",
            "_model_name": "ProgressStyleModel",
            "description_width": "initial",
            "_view_module": "@jupyter-widgets/base",
            "_model_module_version": "1.5.0",
            "_view_count": null,
            "_view_module_version": "1.2.0",
            "bar_color": null,
            "_model_module": "@jupyter-widgets/controls"
          }
        },
        "1c217101ed194d4ea18798ae3888bdf7": {
          "model_module": "@jupyter-widgets/base",
          "model_name": "LayoutModel",
          "state": {
            "_view_name": "LayoutView",
            "grid_template_rows": null,
            "right": null,
            "justify_content": null,
            "_view_module": "@jupyter-widgets/base",
            "overflow": null,
            "_model_module_version": "1.2.0",
            "_view_count": null,
            "flex_flow": null,
            "width": null,
            "min_width": null,
            "border": null,
            "align_items": null,
            "bottom": null,
            "_model_module": "@jupyter-widgets/base",
            "top": null,
            "grid_column": null,
            "overflow_y": null,
            "overflow_x": null,
            "grid_auto_flow": null,
            "grid_area": null,
            "grid_template_columns": null,
            "flex": null,
            "_model_name": "LayoutModel",
            "justify_items": null,
            "grid_row": null,
            "max_height": null,
            "align_content": null,
            "visibility": null,
            "align_self": null,
            "height": null,
            "min_height": null,
            "padding": null,
            "grid_auto_rows": null,
            "grid_gap": null,
            "max_width": null,
            "order": null,
            "_view_module_version": "1.2.0",
            "grid_template_areas": null,
            "object_position": null,
            "object_fit": null,
            "grid_auto_columns": null,
            "margin": null,
            "display": null,
            "left": null
          }
        },
        "1e4c4343fce2463a84252310301cf6a5": {
          "model_module": "@jupyter-widgets/controls",
          "model_name": "DescriptionStyleModel",
          "state": {
            "_view_name": "StyleView",
            "_model_name": "DescriptionStyleModel",
            "description_width": "",
            "_view_module": "@jupyter-widgets/base",
            "_model_module_version": "1.5.0",
            "_view_count": null,
            "_view_module_version": "1.2.0",
            "_model_module": "@jupyter-widgets/controls"
          }
        },
        "015c851291994636b32a742ca0a89a8b": {
          "model_module": "@jupyter-widgets/base",
          "model_name": "LayoutModel",
          "state": {
            "_view_name": "LayoutView",
            "grid_template_rows": null,
            "right": null,
            "justify_content": null,
            "_view_module": "@jupyter-widgets/base",
            "overflow": null,
            "_model_module_version": "1.2.0",
            "_view_count": null,
            "flex_flow": null,
            "width": null,
            "min_width": null,
            "border": null,
            "align_items": null,
            "bottom": null,
            "_model_module": "@jupyter-widgets/base",
            "top": null,
            "grid_column": null,
            "overflow_y": null,
            "overflow_x": null,
            "grid_auto_flow": null,
            "grid_area": null,
            "grid_template_columns": null,
            "flex": null,
            "_model_name": "LayoutModel",
            "justify_items": null,
            "grid_row": null,
            "max_height": null,
            "align_content": null,
            "visibility": null,
            "align_self": null,
            "height": null,
            "min_height": null,
            "padding": null,
            "grid_auto_rows": null,
            "grid_gap": null,
            "max_width": null,
            "order": null,
            "_view_module_version": "1.2.0",
            "grid_template_areas": null,
            "object_position": null,
            "object_fit": null,
            "grid_auto_columns": null,
            "margin": null,
            "display": null,
            "left": null
          }
        },
        "7b0897df1b35409483978053a8835222": {
          "model_module": "@jupyter-widgets/controls",
          "model_name": "HBoxModel",
          "state": {
            "_view_name": "HBoxView",
            "_dom_classes": [],
            "_model_name": "HBoxModel",
            "_view_module": "@jupyter-widgets/controls",
            "_model_module_version": "1.5.0",
            "_view_count": null,
            "_view_module_version": "1.5.0",
            "box_style": "",
            "layout": "IPY_MODEL_7c33aaf0d5044554936be6ce73e78861",
            "_model_module": "@jupyter-widgets/controls",
            "children": [
              "IPY_MODEL_b4a6dfd315fb43608d5602dc5f76ce3e",
              "IPY_MODEL_ff885d24d17b4deeb927eb9fee9ebbc2"
            ]
          }
        },
        "7c33aaf0d5044554936be6ce73e78861": {
          "model_module": "@jupyter-widgets/base",
          "model_name": "LayoutModel",
          "state": {
            "_view_name": "LayoutView",
            "grid_template_rows": null,
            "right": null,
            "justify_content": null,
            "_view_module": "@jupyter-widgets/base",
            "overflow": null,
            "_model_module_version": "1.2.0",
            "_view_count": null,
            "flex_flow": null,
            "width": null,
            "min_width": null,
            "border": null,
            "align_items": null,
            "bottom": null,
            "_model_module": "@jupyter-widgets/base",
            "top": null,
            "grid_column": null,
            "overflow_y": null,
            "overflow_x": null,
            "grid_auto_flow": null,
            "grid_area": null,
            "grid_template_columns": null,
            "flex": null,
            "_model_name": "LayoutModel",
            "justify_items": null,
            "grid_row": null,
            "max_height": null,
            "align_content": null,
            "visibility": null,
            "align_self": null,
            "height": null,
            "min_height": null,
            "padding": null,
            "grid_auto_rows": null,
            "grid_gap": null,
            "max_width": null,
            "order": null,
            "_view_module_version": "1.2.0",
            "grid_template_areas": null,
            "object_position": null,
            "object_fit": null,
            "grid_auto_columns": null,
            "margin": null,
            "display": null,
            "left": null
          }
        },
        "b4a6dfd315fb43608d5602dc5f76ce3e": {
          "model_module": "@jupyter-widgets/controls",
          "model_name": "FloatProgressModel",
          "state": {
            "_view_name": "ProgressView",
            "style": "IPY_MODEL_5ee5acf07b2847f6a560b998dea9b3dc",
            "_dom_classes": [],
            "description": "100%",
            "_model_name": "FloatProgressModel",
            "bar_style": "",
            "max": 64,
            "_view_module": "@jupyter-widgets/controls",
            "_model_module_version": "1.5.0",
            "value": 64,
            "_view_count": null,
            "_view_module_version": "1.5.0",
            "orientation": "horizontal",
            "min": 0,
            "description_tooltip": null,
            "_model_module": "@jupyter-widgets/controls",
            "layout": "IPY_MODEL_2e06f4936df443b69ab872bc30aae8cd"
          }
        },
        "ff885d24d17b4deeb927eb9fee9ebbc2": {
          "model_module": "@jupyter-widgets/controls",
          "model_name": "HTMLModel",
          "state": {
            "_view_name": "HTMLView",
            "style": "IPY_MODEL_43faa9a1083a4ffeb55a137652bf13f8",
            "_dom_classes": [],
            "description": "",
            "_model_name": "HTMLModel",
            "placeholder": "​",
            "_view_module": "@jupyter-widgets/controls",
            "_model_module_version": "1.5.0",
            "value": " 64/64 [00:46&lt;00:00,  1.40it/s]",
            "_view_count": null,
            "_view_module_version": "1.5.0",
            "description_tooltip": null,
            "_model_module": "@jupyter-widgets/controls",
            "layout": "IPY_MODEL_bd147fb6b0104cbc9bd199b7d5b88bd1"
          }
        },
        "5ee5acf07b2847f6a560b998dea9b3dc": {
          "model_module": "@jupyter-widgets/controls",
          "model_name": "ProgressStyleModel",
          "state": {
            "_view_name": "StyleView",
            "_model_name": "ProgressStyleModel",
            "description_width": "initial",
            "_view_module": "@jupyter-widgets/base",
            "_model_module_version": "1.5.0",
            "_view_count": null,
            "_view_module_version": "1.2.0",
            "bar_color": null,
            "_model_module": "@jupyter-widgets/controls"
          }
        },
        "2e06f4936df443b69ab872bc30aae8cd": {
          "model_module": "@jupyter-widgets/base",
          "model_name": "LayoutModel",
          "state": {
            "_view_name": "LayoutView",
            "grid_template_rows": null,
            "right": null,
            "justify_content": null,
            "_view_module": "@jupyter-widgets/base",
            "overflow": null,
            "_model_module_version": "1.2.0",
            "_view_count": null,
            "flex_flow": null,
            "width": null,
            "min_width": null,
            "border": null,
            "align_items": null,
            "bottom": null,
            "_model_module": "@jupyter-widgets/base",
            "top": null,
            "grid_column": null,
            "overflow_y": null,
            "overflow_x": null,
            "grid_auto_flow": null,
            "grid_area": null,
            "grid_template_columns": null,
            "flex": null,
            "_model_name": "LayoutModel",
            "justify_items": null,
            "grid_row": null,
            "max_height": null,
            "align_content": null,
            "visibility": null,
            "align_self": null,
            "height": null,
            "min_height": null,
            "padding": null,
            "grid_auto_rows": null,
            "grid_gap": null,
            "max_width": null,
            "order": null,
            "_view_module_version": "1.2.0",
            "grid_template_areas": null,
            "object_position": null,
            "object_fit": null,
            "grid_auto_columns": null,
            "margin": null,
            "display": null,
            "left": null
          }
        },
        "43faa9a1083a4ffeb55a137652bf13f8": {
          "model_module": "@jupyter-widgets/controls",
          "model_name": "DescriptionStyleModel",
          "state": {
            "_view_name": "StyleView",
            "_model_name": "DescriptionStyleModel",
            "description_width": "",
            "_view_module": "@jupyter-widgets/base",
            "_model_module_version": "1.5.0",
            "_view_count": null,
            "_view_module_version": "1.2.0",
            "_model_module": "@jupyter-widgets/controls"
          }
        },
        "bd147fb6b0104cbc9bd199b7d5b88bd1": {
          "model_module": "@jupyter-widgets/base",
          "model_name": "LayoutModel",
          "state": {
            "_view_name": "LayoutView",
            "grid_template_rows": null,
            "right": null,
            "justify_content": null,
            "_view_module": "@jupyter-widgets/base",
            "overflow": null,
            "_model_module_version": "1.2.0",
            "_view_count": null,
            "flex_flow": null,
            "width": null,
            "min_width": null,
            "border": null,
            "align_items": null,
            "bottom": null,
            "_model_module": "@jupyter-widgets/base",
            "top": null,
            "grid_column": null,
            "overflow_y": null,
            "overflow_x": null,
            "grid_auto_flow": null,
            "grid_area": null,
            "grid_template_columns": null,
            "flex": null,
            "_model_name": "LayoutModel",
            "justify_items": null,
            "grid_row": null,
            "max_height": null,
            "align_content": null,
            "visibility": null,
            "align_self": null,
            "height": null,
            "min_height": null,
            "padding": null,
            "grid_auto_rows": null,
            "grid_gap": null,
            "max_width": null,
            "order": null,
            "_view_module_version": "1.2.0",
            "grid_template_areas": null,
            "object_position": null,
            "object_fit": null,
            "grid_auto_columns": null,
            "margin": null,
            "display": null,
            "left": null
          }
        },
        "6aab989261e44ad5bfe4ed55bbb8dd76": {
          "model_module": "@jupyter-widgets/controls",
          "model_name": "HBoxModel",
          "state": {
            "_view_name": "HBoxView",
            "_dom_classes": [],
            "_model_name": "HBoxModel",
            "_view_module": "@jupyter-widgets/controls",
            "_model_module_version": "1.5.0",
            "_view_count": null,
            "_view_module_version": "1.5.0",
            "box_style": "",
            "layout": "IPY_MODEL_723e1c09794e4fe9bd03dc7ecd115499",
            "_model_module": "@jupyter-widgets/controls",
            "children": [
              "IPY_MODEL_ce9e8722f47b4289925d1a74c9efec75",
              "IPY_MODEL_537794d91ab447af8323cc9e8d63245f"
            ]
          }
        },
        "723e1c09794e4fe9bd03dc7ecd115499": {
          "model_module": "@jupyter-widgets/base",
          "model_name": "LayoutModel",
          "state": {
            "_view_name": "LayoutView",
            "grid_template_rows": null,
            "right": null,
            "justify_content": null,
            "_view_module": "@jupyter-widgets/base",
            "overflow": null,
            "_model_module_version": "1.2.0",
            "_view_count": null,
            "flex_flow": null,
            "width": null,
            "min_width": null,
            "border": null,
            "align_items": null,
            "bottom": null,
            "_model_module": "@jupyter-widgets/base",
            "top": null,
            "grid_column": null,
            "overflow_y": null,
            "overflow_x": null,
            "grid_auto_flow": null,
            "grid_area": null,
            "grid_template_columns": null,
            "flex": null,
            "_model_name": "LayoutModel",
            "justify_items": null,
            "grid_row": null,
            "max_height": null,
            "align_content": null,
            "visibility": null,
            "align_self": null,
            "height": null,
            "min_height": null,
            "padding": null,
            "grid_auto_rows": null,
            "grid_gap": null,
            "max_width": null,
            "order": null,
            "_view_module_version": "1.2.0",
            "grid_template_areas": null,
            "object_position": null,
            "object_fit": null,
            "grid_auto_columns": null,
            "margin": null,
            "display": null,
            "left": null
          }
        },
        "ce9e8722f47b4289925d1a74c9efec75": {
          "model_module": "@jupyter-widgets/controls",
          "model_name": "FloatProgressModel",
          "state": {
            "_view_name": "ProgressView",
            "style": "IPY_MODEL_554237fc81e945468d44a0ffa0be588c",
            "_dom_classes": [],
            "description": "100%",
            "_model_name": "FloatProgressModel",
            "bar_style": "",
            "max": 64,
            "_view_module": "@jupyter-widgets/controls",
            "_model_module_version": "1.5.0",
            "value": 64,
            "_view_count": null,
            "_view_module_version": "1.5.0",
            "orientation": "horizontal",
            "min": 0,
            "description_tooltip": null,
            "_model_module": "@jupyter-widgets/controls",
            "layout": "IPY_MODEL_df6dead901834c89b7113be6cd6a1d4d"
          }
        },
        "537794d91ab447af8323cc9e8d63245f": {
          "model_module": "@jupyter-widgets/controls",
          "model_name": "HTMLModel",
          "state": {
            "_view_name": "HTMLView",
            "style": "IPY_MODEL_8de78cc55c134ecea0bf661c1cc6d649",
            "_dom_classes": [],
            "description": "",
            "_model_name": "HTMLModel",
            "placeholder": "​",
            "_view_module": "@jupyter-widgets/controls",
            "_model_module_version": "1.5.0",
            "value": " 64/64 [02:26&lt;00:00,  2.27s/it]",
            "_view_count": null,
            "_view_module_version": "1.5.0",
            "description_tooltip": null,
            "_model_module": "@jupyter-widgets/controls",
            "layout": "IPY_MODEL_ac69dd6714e54dd7a8a6782c73102094"
          }
        },
        "554237fc81e945468d44a0ffa0be588c": {
          "model_module": "@jupyter-widgets/controls",
          "model_name": "ProgressStyleModel",
          "state": {
            "_view_name": "StyleView",
            "_model_name": "ProgressStyleModel",
            "description_width": "initial",
            "_view_module": "@jupyter-widgets/base",
            "_model_module_version": "1.5.0",
            "_view_count": null,
            "_view_module_version": "1.2.0",
            "bar_color": null,
            "_model_module": "@jupyter-widgets/controls"
          }
        },
        "df6dead901834c89b7113be6cd6a1d4d": {
          "model_module": "@jupyter-widgets/base",
          "model_name": "LayoutModel",
          "state": {
            "_view_name": "LayoutView",
            "grid_template_rows": null,
            "right": null,
            "justify_content": null,
            "_view_module": "@jupyter-widgets/base",
            "overflow": null,
            "_model_module_version": "1.2.0",
            "_view_count": null,
            "flex_flow": null,
            "width": null,
            "min_width": null,
            "border": null,
            "align_items": null,
            "bottom": null,
            "_model_module": "@jupyter-widgets/base",
            "top": null,
            "grid_column": null,
            "overflow_y": null,
            "overflow_x": null,
            "grid_auto_flow": null,
            "grid_area": null,
            "grid_template_columns": null,
            "flex": null,
            "_model_name": "LayoutModel",
            "justify_items": null,
            "grid_row": null,
            "max_height": null,
            "align_content": null,
            "visibility": null,
            "align_self": null,
            "height": null,
            "min_height": null,
            "padding": null,
            "grid_auto_rows": null,
            "grid_gap": null,
            "max_width": null,
            "order": null,
            "_view_module_version": "1.2.0",
            "grid_template_areas": null,
            "object_position": null,
            "object_fit": null,
            "grid_auto_columns": null,
            "margin": null,
            "display": null,
            "left": null
          }
        },
        "8de78cc55c134ecea0bf661c1cc6d649": {
          "model_module": "@jupyter-widgets/controls",
          "model_name": "DescriptionStyleModel",
          "state": {
            "_view_name": "StyleView",
            "_model_name": "DescriptionStyleModel",
            "description_width": "",
            "_view_module": "@jupyter-widgets/base",
            "_model_module_version": "1.5.0",
            "_view_count": null,
            "_view_module_version": "1.2.0",
            "_model_module": "@jupyter-widgets/controls"
          }
        },
        "ac69dd6714e54dd7a8a6782c73102094": {
          "model_module": "@jupyter-widgets/base",
          "model_name": "LayoutModel",
          "state": {
            "_view_name": "LayoutView",
            "grid_template_rows": null,
            "right": null,
            "justify_content": null,
            "_view_module": "@jupyter-widgets/base",
            "overflow": null,
            "_model_module_version": "1.2.0",
            "_view_count": null,
            "flex_flow": null,
            "width": null,
            "min_width": null,
            "border": null,
            "align_items": null,
            "bottom": null,
            "_model_module": "@jupyter-widgets/base",
            "top": null,
            "grid_column": null,
            "overflow_y": null,
            "overflow_x": null,
            "grid_auto_flow": null,
            "grid_area": null,
            "grid_template_columns": null,
            "flex": null,
            "_model_name": "LayoutModel",
            "justify_items": null,
            "grid_row": null,
            "max_height": null,
            "align_content": null,
            "visibility": null,
            "align_self": null,
            "height": null,
            "min_height": null,
            "padding": null,
            "grid_auto_rows": null,
            "grid_gap": null,
            "max_width": null,
            "order": null,
            "_view_module_version": "1.2.0",
            "grid_template_areas": null,
            "object_position": null,
            "object_fit": null,
            "grid_auto_columns": null,
            "margin": null,
            "display": null,
            "left": null
          }
        },
        "ad2eed327bdf4a34a2030a5559433545": {
          "model_module": "@jupyter-widgets/controls",
          "model_name": "HBoxModel",
          "state": {
            "_view_name": "HBoxView",
            "_dom_classes": [],
            "_model_name": "HBoxModel",
            "_view_module": "@jupyter-widgets/controls",
            "_model_module_version": "1.5.0",
            "_view_count": null,
            "_view_module_version": "1.5.0",
            "box_style": "",
            "layout": "IPY_MODEL_90bacbedc55d4a4a929844999334b2d0",
            "_model_module": "@jupyter-widgets/controls",
            "children": [
              "IPY_MODEL_1e7a25eeb0bd4443bb9fc0c5e4fbbc89",
              "IPY_MODEL_b9e655a957d5447ca47d2526e6724f82"
            ]
          }
        },
        "90bacbedc55d4a4a929844999334b2d0": {
          "model_module": "@jupyter-widgets/base",
          "model_name": "LayoutModel",
          "state": {
            "_view_name": "LayoutView",
            "grid_template_rows": null,
            "right": null,
            "justify_content": null,
            "_view_module": "@jupyter-widgets/base",
            "overflow": null,
            "_model_module_version": "1.2.0",
            "_view_count": null,
            "flex_flow": null,
            "width": null,
            "min_width": null,
            "border": null,
            "align_items": null,
            "bottom": null,
            "_model_module": "@jupyter-widgets/base",
            "top": null,
            "grid_column": null,
            "overflow_y": null,
            "overflow_x": null,
            "grid_auto_flow": null,
            "grid_area": null,
            "grid_template_columns": null,
            "flex": null,
            "_model_name": "LayoutModel",
            "justify_items": null,
            "grid_row": null,
            "max_height": null,
            "align_content": null,
            "visibility": null,
            "align_self": null,
            "height": null,
            "min_height": null,
            "padding": null,
            "grid_auto_rows": null,
            "grid_gap": null,
            "max_width": null,
            "order": null,
            "_view_module_version": "1.2.0",
            "grid_template_areas": null,
            "object_position": null,
            "object_fit": null,
            "grid_auto_columns": null,
            "margin": null,
            "display": null,
            "left": null
          }
        },
        "1e7a25eeb0bd4443bb9fc0c5e4fbbc89": {
          "model_module": "@jupyter-widgets/controls",
          "model_name": "FloatProgressModel",
          "state": {
            "_view_name": "ProgressView",
            "style": "IPY_MODEL_2051689d5f124bb7ab6b09bd23de0431",
            "_dom_classes": [],
            "description": "100%",
            "_model_name": "FloatProgressModel",
            "bar_style": "",
            "max": 64,
            "_view_module": "@jupyter-widgets/controls",
            "_model_module_version": "1.5.0",
            "value": 64,
            "_view_count": null,
            "_view_module_version": "1.5.0",
            "orientation": "horizontal",
            "min": 0,
            "description_tooltip": null,
            "_model_module": "@jupyter-widgets/controls",
            "layout": "IPY_MODEL_647ab5088cc8448cb37ec0b44aee60ac"
          }
        },
        "b9e655a957d5447ca47d2526e6724f82": {
          "model_module": "@jupyter-widgets/controls",
          "model_name": "HTMLModel",
          "state": {
            "_view_name": "HTMLView",
            "style": "IPY_MODEL_419c2faf016745c9a576608344dd7b9a",
            "_dom_classes": [],
            "description": "",
            "_model_name": "HTMLModel",
            "placeholder": "​",
            "_view_module": "@jupyter-widgets/controls",
            "_model_module_version": "1.5.0",
            "value": " 64/64 [00:46&lt;00:00,  1.40it/s]",
            "_view_count": null,
            "_view_module_version": "1.5.0",
            "description_tooltip": null,
            "_model_module": "@jupyter-widgets/controls",
            "layout": "IPY_MODEL_d7d49ac3954649579395a05764d24239"
          }
        },
        "2051689d5f124bb7ab6b09bd23de0431": {
          "model_module": "@jupyter-widgets/controls",
          "model_name": "ProgressStyleModel",
          "state": {
            "_view_name": "StyleView",
            "_model_name": "ProgressStyleModel",
            "description_width": "initial",
            "_view_module": "@jupyter-widgets/base",
            "_model_module_version": "1.5.0",
            "_view_count": null,
            "_view_module_version": "1.2.0",
            "bar_color": null,
            "_model_module": "@jupyter-widgets/controls"
          }
        },
        "647ab5088cc8448cb37ec0b44aee60ac": {
          "model_module": "@jupyter-widgets/base",
          "model_name": "LayoutModel",
          "state": {
            "_view_name": "LayoutView",
            "grid_template_rows": null,
            "right": null,
            "justify_content": null,
            "_view_module": "@jupyter-widgets/base",
            "overflow": null,
            "_model_module_version": "1.2.0",
            "_view_count": null,
            "flex_flow": null,
            "width": null,
            "min_width": null,
            "border": null,
            "align_items": null,
            "bottom": null,
            "_model_module": "@jupyter-widgets/base",
            "top": null,
            "grid_column": null,
            "overflow_y": null,
            "overflow_x": null,
            "grid_auto_flow": null,
            "grid_area": null,
            "grid_template_columns": null,
            "flex": null,
            "_model_name": "LayoutModel",
            "justify_items": null,
            "grid_row": null,
            "max_height": null,
            "align_content": null,
            "visibility": null,
            "align_self": null,
            "height": null,
            "min_height": null,
            "padding": null,
            "grid_auto_rows": null,
            "grid_gap": null,
            "max_width": null,
            "order": null,
            "_view_module_version": "1.2.0",
            "grid_template_areas": null,
            "object_position": null,
            "object_fit": null,
            "grid_auto_columns": null,
            "margin": null,
            "display": null,
            "left": null
          }
        },
        "419c2faf016745c9a576608344dd7b9a": {
          "model_module": "@jupyter-widgets/controls",
          "model_name": "DescriptionStyleModel",
          "state": {
            "_view_name": "StyleView",
            "_model_name": "DescriptionStyleModel",
            "description_width": "",
            "_view_module": "@jupyter-widgets/base",
            "_model_module_version": "1.5.0",
            "_view_count": null,
            "_view_module_version": "1.2.0",
            "_model_module": "@jupyter-widgets/controls"
          }
        },
        "d7d49ac3954649579395a05764d24239": {
          "model_module": "@jupyter-widgets/base",
          "model_name": "LayoutModel",
          "state": {
            "_view_name": "LayoutView",
            "grid_template_rows": null,
            "right": null,
            "justify_content": null,
            "_view_module": "@jupyter-widgets/base",
            "overflow": null,
            "_model_module_version": "1.2.0",
            "_view_count": null,
            "flex_flow": null,
            "width": null,
            "min_width": null,
            "border": null,
            "align_items": null,
            "bottom": null,
            "_model_module": "@jupyter-widgets/base",
            "top": null,
            "grid_column": null,
            "overflow_y": null,
            "overflow_x": null,
            "grid_auto_flow": null,
            "grid_area": null,
            "grid_template_columns": null,
            "flex": null,
            "_model_name": "LayoutModel",
            "justify_items": null,
            "grid_row": null,
            "max_height": null,
            "align_content": null,
            "visibility": null,
            "align_self": null,
            "height": null,
            "min_height": null,
            "padding": null,
            "grid_auto_rows": null,
            "grid_gap": null,
            "max_width": null,
            "order": null,
            "_view_module_version": "1.2.0",
            "grid_template_areas": null,
            "object_position": null,
            "object_fit": null,
            "grid_auto_columns": null,
            "margin": null,
            "display": null,
            "left": null
          }
        },
        "1e071c4fa30c449a8a74493efb8fb6e0": {
          "model_module": "@jupyter-widgets/controls",
          "model_name": "HBoxModel",
          "state": {
            "_view_name": "HBoxView",
            "_dom_classes": [],
            "_model_name": "HBoxModel",
            "_view_module": "@jupyter-widgets/controls",
            "_model_module_version": "1.5.0",
            "_view_count": null,
            "_view_module_version": "1.5.0",
            "box_style": "",
            "layout": "IPY_MODEL_9c189c5a8f714ea5be51d971eeab6035",
            "_model_module": "@jupyter-widgets/controls",
            "children": [
              "IPY_MODEL_7ca2ce1a56ee4624b94c8127f9c5909c",
              "IPY_MODEL_abcb99bbcb6043cda4e8dc01abb10e51"
            ]
          }
        },
        "9c189c5a8f714ea5be51d971eeab6035": {
          "model_module": "@jupyter-widgets/base",
          "model_name": "LayoutModel",
          "state": {
            "_view_name": "LayoutView",
            "grid_template_rows": null,
            "right": null,
            "justify_content": null,
            "_view_module": "@jupyter-widgets/base",
            "overflow": null,
            "_model_module_version": "1.2.0",
            "_view_count": null,
            "flex_flow": null,
            "width": null,
            "min_width": null,
            "border": null,
            "align_items": null,
            "bottom": null,
            "_model_module": "@jupyter-widgets/base",
            "top": null,
            "grid_column": null,
            "overflow_y": null,
            "overflow_x": null,
            "grid_auto_flow": null,
            "grid_area": null,
            "grid_template_columns": null,
            "flex": null,
            "_model_name": "LayoutModel",
            "justify_items": null,
            "grid_row": null,
            "max_height": null,
            "align_content": null,
            "visibility": null,
            "align_self": null,
            "height": null,
            "min_height": null,
            "padding": null,
            "grid_auto_rows": null,
            "grid_gap": null,
            "max_width": null,
            "order": null,
            "_view_module_version": "1.2.0",
            "grid_template_areas": null,
            "object_position": null,
            "object_fit": null,
            "grid_auto_columns": null,
            "margin": null,
            "display": null,
            "left": null
          }
        },
        "7ca2ce1a56ee4624b94c8127f9c5909c": {
          "model_module": "@jupyter-widgets/controls",
          "model_name": "FloatProgressModel",
          "state": {
            "_view_name": "ProgressView",
            "style": "IPY_MODEL_f820f2aef8474500914a85c22ef59f35",
            "_dom_classes": [],
            "description": "100%",
            "_model_name": "FloatProgressModel",
            "bar_style": "",
            "max": 64,
            "_view_module": "@jupyter-widgets/controls",
            "_model_module_version": "1.5.0",
            "value": 64,
            "_view_count": null,
            "_view_module_version": "1.5.0",
            "orientation": "horizontal",
            "min": 0,
            "description_tooltip": null,
            "_model_module": "@jupyter-widgets/controls",
            "layout": "IPY_MODEL_33204f10d4e649f4a7e690f67c167132"
          }
        },
        "abcb99bbcb6043cda4e8dc01abb10e51": {
          "model_module": "@jupyter-widgets/controls",
          "model_name": "HTMLModel",
          "state": {
            "_view_name": "HTMLView",
            "style": "IPY_MODEL_fb3a5f9f5808453f853b5914e49f5b78",
            "_dom_classes": [],
            "description": "",
            "_model_name": "HTMLModel",
            "placeholder": "​",
            "_view_module": "@jupyter-widgets/controls",
            "_model_module_version": "1.5.0",
            "value": " 64/64 [02:26&lt;00:00,  2.27s/it]",
            "_view_count": null,
            "_view_module_version": "1.5.0",
            "description_tooltip": null,
            "_model_module": "@jupyter-widgets/controls",
            "layout": "IPY_MODEL_3cb7d269b5234981b3a81967dc4ba0a4"
          }
        },
        "f820f2aef8474500914a85c22ef59f35": {
          "model_module": "@jupyter-widgets/controls",
          "model_name": "ProgressStyleModel",
          "state": {
            "_view_name": "StyleView",
            "_model_name": "ProgressStyleModel",
            "description_width": "initial",
            "_view_module": "@jupyter-widgets/base",
            "_model_module_version": "1.5.0",
            "_view_count": null,
            "_view_module_version": "1.2.0",
            "bar_color": null,
            "_model_module": "@jupyter-widgets/controls"
          }
        },
        "33204f10d4e649f4a7e690f67c167132": {
          "model_module": "@jupyter-widgets/base",
          "model_name": "LayoutModel",
          "state": {
            "_view_name": "LayoutView",
            "grid_template_rows": null,
            "right": null,
            "justify_content": null,
            "_view_module": "@jupyter-widgets/base",
            "overflow": null,
            "_model_module_version": "1.2.0",
            "_view_count": null,
            "flex_flow": null,
            "width": null,
            "min_width": null,
            "border": null,
            "align_items": null,
            "bottom": null,
            "_model_module": "@jupyter-widgets/base",
            "top": null,
            "grid_column": null,
            "overflow_y": null,
            "overflow_x": null,
            "grid_auto_flow": null,
            "grid_area": null,
            "grid_template_columns": null,
            "flex": null,
            "_model_name": "LayoutModel",
            "justify_items": null,
            "grid_row": null,
            "max_height": null,
            "align_content": null,
            "visibility": null,
            "align_self": null,
            "height": null,
            "min_height": null,
            "padding": null,
            "grid_auto_rows": null,
            "grid_gap": null,
            "max_width": null,
            "order": null,
            "_view_module_version": "1.2.0",
            "grid_template_areas": null,
            "object_position": null,
            "object_fit": null,
            "grid_auto_columns": null,
            "margin": null,
            "display": null,
            "left": null
          }
        },
        "fb3a5f9f5808453f853b5914e49f5b78": {
          "model_module": "@jupyter-widgets/controls",
          "model_name": "DescriptionStyleModel",
          "state": {
            "_view_name": "StyleView",
            "_model_name": "DescriptionStyleModel",
            "description_width": "",
            "_view_module": "@jupyter-widgets/base",
            "_model_module_version": "1.5.0",
            "_view_count": null,
            "_view_module_version": "1.2.0",
            "_model_module": "@jupyter-widgets/controls"
          }
        },
        "3cb7d269b5234981b3a81967dc4ba0a4": {
          "model_module": "@jupyter-widgets/base",
          "model_name": "LayoutModel",
          "state": {
            "_view_name": "LayoutView",
            "grid_template_rows": null,
            "right": null,
            "justify_content": null,
            "_view_module": "@jupyter-widgets/base",
            "overflow": null,
            "_model_module_version": "1.2.0",
            "_view_count": null,
            "flex_flow": null,
            "width": null,
            "min_width": null,
            "border": null,
            "align_items": null,
            "bottom": null,
            "_model_module": "@jupyter-widgets/base",
            "top": null,
            "grid_column": null,
            "overflow_y": null,
            "overflow_x": null,
            "grid_auto_flow": null,
            "grid_area": null,
            "grid_template_columns": null,
            "flex": null,
            "_model_name": "LayoutModel",
            "justify_items": null,
            "grid_row": null,
            "max_height": null,
            "align_content": null,
            "visibility": null,
            "align_self": null,
            "height": null,
            "min_height": null,
            "padding": null,
            "grid_auto_rows": null,
            "grid_gap": null,
            "max_width": null,
            "order": null,
            "_view_module_version": "1.2.0",
            "grid_template_areas": null,
            "object_position": null,
            "object_fit": null,
            "grid_auto_columns": null,
            "margin": null,
            "display": null,
            "left": null
          }
        },
        "2d54b2ea77ca458e816f8d8b966fe9e7": {
          "model_module": "@jupyter-widgets/controls",
          "model_name": "HBoxModel",
          "state": {
            "_view_name": "HBoxView",
            "_dom_classes": [],
            "_model_name": "HBoxModel",
            "_view_module": "@jupyter-widgets/controls",
            "_model_module_version": "1.5.0",
            "_view_count": null,
            "_view_module_version": "1.5.0",
            "box_style": "",
            "layout": "IPY_MODEL_d0e29d671cb74b0886caa0d7daaf2f01",
            "_model_module": "@jupyter-widgets/controls",
            "children": [
              "IPY_MODEL_b79cf72078aa4e10bb31b0c97b3b90c9",
              "IPY_MODEL_0cb536f978984b65b5dee7957231efb4"
            ]
          }
        },
        "d0e29d671cb74b0886caa0d7daaf2f01": {
          "model_module": "@jupyter-widgets/base",
          "model_name": "LayoutModel",
          "state": {
            "_view_name": "LayoutView",
            "grid_template_rows": null,
            "right": null,
            "justify_content": null,
            "_view_module": "@jupyter-widgets/base",
            "overflow": null,
            "_model_module_version": "1.2.0",
            "_view_count": null,
            "flex_flow": null,
            "width": null,
            "min_width": null,
            "border": null,
            "align_items": null,
            "bottom": null,
            "_model_module": "@jupyter-widgets/base",
            "top": null,
            "grid_column": null,
            "overflow_y": null,
            "overflow_x": null,
            "grid_auto_flow": null,
            "grid_area": null,
            "grid_template_columns": null,
            "flex": null,
            "_model_name": "LayoutModel",
            "justify_items": null,
            "grid_row": null,
            "max_height": null,
            "align_content": null,
            "visibility": null,
            "align_self": null,
            "height": null,
            "min_height": null,
            "padding": null,
            "grid_auto_rows": null,
            "grid_gap": null,
            "max_width": null,
            "order": null,
            "_view_module_version": "1.2.0",
            "grid_template_areas": null,
            "object_position": null,
            "object_fit": null,
            "grid_auto_columns": null,
            "margin": null,
            "display": null,
            "left": null
          }
        },
        "b79cf72078aa4e10bb31b0c97b3b90c9": {
          "model_module": "@jupyter-widgets/controls",
          "model_name": "FloatProgressModel",
          "state": {
            "_view_name": "ProgressView",
            "style": "IPY_MODEL_6b67bffc540248e8ad816f4deaefffb3",
            "_dom_classes": [],
            "description": "100%",
            "_model_name": "FloatProgressModel",
            "bar_style": "",
            "max": 64,
            "_view_module": "@jupyter-widgets/controls",
            "_model_module_version": "1.5.0",
            "value": 64,
            "_view_count": null,
            "_view_module_version": "1.5.0",
            "orientation": "horizontal",
            "min": 0,
            "description_tooltip": null,
            "_model_module": "@jupyter-widgets/controls",
            "layout": "IPY_MODEL_8d4373a873164d0aaf3d8eb93c56dbcb"
          }
        },
        "0cb536f978984b65b5dee7957231efb4": {
          "model_module": "@jupyter-widgets/controls",
          "model_name": "HTMLModel",
          "state": {
            "_view_name": "HTMLView",
            "style": "IPY_MODEL_294a5ed64c6e4eff9fb4725481a75b8b",
            "_dom_classes": [],
            "description": "",
            "_model_name": "HTMLModel",
            "placeholder": "​",
            "_view_module": "@jupyter-widgets/controls",
            "_model_module_version": "1.5.0",
            "value": " 64/64 [00:46&lt;00:00,  1.40it/s]",
            "_view_count": null,
            "_view_module_version": "1.5.0",
            "description_tooltip": null,
            "_model_module": "@jupyter-widgets/controls",
            "layout": "IPY_MODEL_d96b0beabc3f4441b9040a31d4fc26c1"
          }
        },
        "6b67bffc540248e8ad816f4deaefffb3": {
          "model_module": "@jupyter-widgets/controls",
          "model_name": "ProgressStyleModel",
          "state": {
            "_view_name": "StyleView",
            "_model_name": "ProgressStyleModel",
            "description_width": "initial",
            "_view_module": "@jupyter-widgets/base",
            "_model_module_version": "1.5.0",
            "_view_count": null,
            "_view_module_version": "1.2.0",
            "bar_color": null,
            "_model_module": "@jupyter-widgets/controls"
          }
        },
        "8d4373a873164d0aaf3d8eb93c56dbcb": {
          "model_module": "@jupyter-widgets/base",
          "model_name": "LayoutModel",
          "state": {
            "_view_name": "LayoutView",
            "grid_template_rows": null,
            "right": null,
            "justify_content": null,
            "_view_module": "@jupyter-widgets/base",
            "overflow": null,
            "_model_module_version": "1.2.0",
            "_view_count": null,
            "flex_flow": null,
            "width": null,
            "min_width": null,
            "border": null,
            "align_items": null,
            "bottom": null,
            "_model_module": "@jupyter-widgets/base",
            "top": null,
            "grid_column": null,
            "overflow_y": null,
            "overflow_x": null,
            "grid_auto_flow": null,
            "grid_area": null,
            "grid_template_columns": null,
            "flex": null,
            "_model_name": "LayoutModel",
            "justify_items": null,
            "grid_row": null,
            "max_height": null,
            "align_content": null,
            "visibility": null,
            "align_self": null,
            "height": null,
            "min_height": null,
            "padding": null,
            "grid_auto_rows": null,
            "grid_gap": null,
            "max_width": null,
            "order": null,
            "_view_module_version": "1.2.0",
            "grid_template_areas": null,
            "object_position": null,
            "object_fit": null,
            "grid_auto_columns": null,
            "margin": null,
            "display": null,
            "left": null
          }
        },
        "294a5ed64c6e4eff9fb4725481a75b8b": {
          "model_module": "@jupyter-widgets/controls",
          "model_name": "DescriptionStyleModel",
          "state": {
            "_view_name": "StyleView",
            "_model_name": "DescriptionStyleModel",
            "description_width": "",
            "_view_module": "@jupyter-widgets/base",
            "_model_module_version": "1.5.0",
            "_view_count": null,
            "_view_module_version": "1.2.0",
            "_model_module": "@jupyter-widgets/controls"
          }
        },
        "d96b0beabc3f4441b9040a31d4fc26c1": {
          "model_module": "@jupyter-widgets/base",
          "model_name": "LayoutModel",
          "state": {
            "_view_name": "LayoutView",
            "grid_template_rows": null,
            "right": null,
            "justify_content": null,
            "_view_module": "@jupyter-widgets/base",
            "overflow": null,
            "_model_module_version": "1.2.0",
            "_view_count": null,
            "flex_flow": null,
            "width": null,
            "min_width": null,
            "border": null,
            "align_items": null,
            "bottom": null,
            "_model_module": "@jupyter-widgets/base",
            "top": null,
            "grid_column": null,
            "overflow_y": null,
            "overflow_x": null,
            "grid_auto_flow": null,
            "grid_area": null,
            "grid_template_columns": null,
            "flex": null,
            "_model_name": "LayoutModel",
            "justify_items": null,
            "grid_row": null,
            "max_height": null,
            "align_content": null,
            "visibility": null,
            "align_self": null,
            "height": null,
            "min_height": null,
            "padding": null,
            "grid_auto_rows": null,
            "grid_gap": null,
            "max_width": null,
            "order": null,
            "_view_module_version": "1.2.0",
            "grid_template_areas": null,
            "object_position": null,
            "object_fit": null,
            "grid_auto_columns": null,
            "margin": null,
            "display": null,
            "left": null
          }
        },
        "85a778ffcb584b10804aa808bcfb9148": {
          "model_module": "@jupyter-widgets/controls",
          "model_name": "HBoxModel",
          "state": {
            "_view_name": "HBoxView",
            "_dom_classes": [],
            "_model_name": "HBoxModel",
            "_view_module": "@jupyter-widgets/controls",
            "_model_module_version": "1.5.0",
            "_view_count": null,
            "_view_module_version": "1.5.0",
            "box_style": "",
            "layout": "IPY_MODEL_97fb5baaef7d4b529f813e50580b4761",
            "_model_module": "@jupyter-widgets/controls",
            "children": [
              "IPY_MODEL_64162d43f1da4236a584e2f37ab6ccb0",
              "IPY_MODEL_5328a8492af44ab7a1114578004f9d62"
            ]
          }
        },
        "97fb5baaef7d4b529f813e50580b4761": {
          "model_module": "@jupyter-widgets/base",
          "model_name": "LayoutModel",
          "state": {
            "_view_name": "LayoutView",
            "grid_template_rows": null,
            "right": null,
            "justify_content": null,
            "_view_module": "@jupyter-widgets/base",
            "overflow": null,
            "_model_module_version": "1.2.0",
            "_view_count": null,
            "flex_flow": null,
            "width": null,
            "min_width": null,
            "border": null,
            "align_items": null,
            "bottom": null,
            "_model_module": "@jupyter-widgets/base",
            "top": null,
            "grid_column": null,
            "overflow_y": null,
            "overflow_x": null,
            "grid_auto_flow": null,
            "grid_area": null,
            "grid_template_columns": null,
            "flex": null,
            "_model_name": "LayoutModel",
            "justify_items": null,
            "grid_row": null,
            "max_height": null,
            "align_content": null,
            "visibility": null,
            "align_self": null,
            "height": null,
            "min_height": null,
            "padding": null,
            "grid_auto_rows": null,
            "grid_gap": null,
            "max_width": null,
            "order": null,
            "_view_module_version": "1.2.0",
            "grid_template_areas": null,
            "object_position": null,
            "object_fit": null,
            "grid_auto_columns": null,
            "margin": null,
            "display": null,
            "left": null
          }
        },
        "64162d43f1da4236a584e2f37ab6ccb0": {
          "model_module": "@jupyter-widgets/controls",
          "model_name": "FloatProgressModel",
          "state": {
            "_view_name": "ProgressView",
            "style": "IPY_MODEL_4caa96500d724e799c94e7e8bd4ebb32",
            "_dom_classes": [],
            "description": "100%",
            "_model_name": "FloatProgressModel",
            "bar_style": "",
            "max": 64,
            "_view_module": "@jupyter-widgets/controls",
            "_model_module_version": "1.5.0",
            "value": 64,
            "_view_count": null,
            "_view_module_version": "1.5.0",
            "orientation": "horizontal",
            "min": 0,
            "description_tooltip": null,
            "_model_module": "@jupyter-widgets/controls",
            "layout": "IPY_MODEL_d7e349a5b2c2418589a667544b08c6ae"
          }
        },
        "5328a8492af44ab7a1114578004f9d62": {
          "model_module": "@jupyter-widgets/controls",
          "model_name": "HTMLModel",
          "state": {
            "_view_name": "HTMLView",
            "style": "IPY_MODEL_81e19b59237e43c9818c388e775ec20e",
            "_dom_classes": [],
            "description": "",
            "_model_name": "HTMLModel",
            "placeholder": "​",
            "_view_module": "@jupyter-widgets/controls",
            "_model_module_version": "1.5.0",
            "value": " 64/64 [02:26&lt;00:00,  2.27s/it]",
            "_view_count": null,
            "_view_module_version": "1.5.0",
            "description_tooltip": null,
            "_model_module": "@jupyter-widgets/controls",
            "layout": "IPY_MODEL_2f9c63a389be480f8db15f852b18f336"
          }
        },
        "4caa96500d724e799c94e7e8bd4ebb32": {
          "model_module": "@jupyter-widgets/controls",
          "model_name": "ProgressStyleModel",
          "state": {
            "_view_name": "StyleView",
            "_model_name": "ProgressStyleModel",
            "description_width": "initial",
            "_view_module": "@jupyter-widgets/base",
            "_model_module_version": "1.5.0",
            "_view_count": null,
            "_view_module_version": "1.2.0",
            "bar_color": null,
            "_model_module": "@jupyter-widgets/controls"
          }
        },
        "d7e349a5b2c2418589a667544b08c6ae": {
          "model_module": "@jupyter-widgets/base",
          "model_name": "LayoutModel",
          "state": {
            "_view_name": "LayoutView",
            "grid_template_rows": null,
            "right": null,
            "justify_content": null,
            "_view_module": "@jupyter-widgets/base",
            "overflow": null,
            "_model_module_version": "1.2.0",
            "_view_count": null,
            "flex_flow": null,
            "width": null,
            "min_width": null,
            "border": null,
            "align_items": null,
            "bottom": null,
            "_model_module": "@jupyter-widgets/base",
            "top": null,
            "grid_column": null,
            "overflow_y": null,
            "overflow_x": null,
            "grid_auto_flow": null,
            "grid_area": null,
            "grid_template_columns": null,
            "flex": null,
            "_model_name": "LayoutModel",
            "justify_items": null,
            "grid_row": null,
            "max_height": null,
            "align_content": null,
            "visibility": null,
            "align_self": null,
            "height": null,
            "min_height": null,
            "padding": null,
            "grid_auto_rows": null,
            "grid_gap": null,
            "max_width": null,
            "order": null,
            "_view_module_version": "1.2.0",
            "grid_template_areas": null,
            "object_position": null,
            "object_fit": null,
            "grid_auto_columns": null,
            "margin": null,
            "display": null,
            "left": null
          }
        },
        "81e19b59237e43c9818c388e775ec20e": {
          "model_module": "@jupyter-widgets/controls",
          "model_name": "DescriptionStyleModel",
          "state": {
            "_view_name": "StyleView",
            "_model_name": "DescriptionStyleModel",
            "description_width": "",
            "_view_module": "@jupyter-widgets/base",
            "_model_module_version": "1.5.0",
            "_view_count": null,
            "_view_module_version": "1.2.0",
            "_model_module": "@jupyter-widgets/controls"
          }
        },
        "2f9c63a389be480f8db15f852b18f336": {
          "model_module": "@jupyter-widgets/base",
          "model_name": "LayoutModel",
          "state": {
            "_view_name": "LayoutView",
            "grid_template_rows": null,
            "right": null,
            "justify_content": null,
            "_view_module": "@jupyter-widgets/base",
            "overflow": null,
            "_model_module_version": "1.2.0",
            "_view_count": null,
            "flex_flow": null,
            "width": null,
            "min_width": null,
            "border": null,
            "align_items": null,
            "bottom": null,
            "_model_module": "@jupyter-widgets/base",
            "top": null,
            "grid_column": null,
            "overflow_y": null,
            "overflow_x": null,
            "grid_auto_flow": null,
            "grid_area": null,
            "grid_template_columns": null,
            "flex": null,
            "_model_name": "LayoutModel",
            "justify_items": null,
            "grid_row": null,
            "max_height": null,
            "align_content": null,
            "visibility": null,
            "align_self": null,
            "height": null,
            "min_height": null,
            "padding": null,
            "grid_auto_rows": null,
            "grid_gap": null,
            "max_width": null,
            "order": null,
            "_view_module_version": "1.2.0",
            "grid_template_areas": null,
            "object_position": null,
            "object_fit": null,
            "grid_auto_columns": null,
            "margin": null,
            "display": null,
            "left": null
          }
        },
        "d8eccb6192234e3b8f3fc821ec4ca6d0": {
          "model_module": "@jupyter-widgets/controls",
          "model_name": "HBoxModel",
          "state": {
            "_view_name": "HBoxView",
            "_dom_classes": [],
            "_model_name": "HBoxModel",
            "_view_module": "@jupyter-widgets/controls",
            "_model_module_version": "1.5.0",
            "_view_count": null,
            "_view_module_version": "1.5.0",
            "box_style": "",
            "layout": "IPY_MODEL_6bb4366c74514a12ade8374721a62e7a",
            "_model_module": "@jupyter-widgets/controls",
            "children": [
              "IPY_MODEL_e83997058ef347c6ad8ec8fe4ea5434c",
              "IPY_MODEL_1f6eea9f52a64d66952405bb20cc56eb"
            ]
          }
        },
        "6bb4366c74514a12ade8374721a62e7a": {
          "model_module": "@jupyter-widgets/base",
          "model_name": "LayoutModel",
          "state": {
            "_view_name": "LayoutView",
            "grid_template_rows": null,
            "right": null,
            "justify_content": null,
            "_view_module": "@jupyter-widgets/base",
            "overflow": null,
            "_model_module_version": "1.2.0",
            "_view_count": null,
            "flex_flow": null,
            "width": null,
            "min_width": null,
            "border": null,
            "align_items": null,
            "bottom": null,
            "_model_module": "@jupyter-widgets/base",
            "top": null,
            "grid_column": null,
            "overflow_y": null,
            "overflow_x": null,
            "grid_auto_flow": null,
            "grid_area": null,
            "grid_template_columns": null,
            "flex": null,
            "_model_name": "LayoutModel",
            "justify_items": null,
            "grid_row": null,
            "max_height": null,
            "align_content": null,
            "visibility": null,
            "align_self": null,
            "height": null,
            "min_height": null,
            "padding": null,
            "grid_auto_rows": null,
            "grid_gap": null,
            "max_width": null,
            "order": null,
            "_view_module_version": "1.2.0",
            "grid_template_areas": null,
            "object_position": null,
            "object_fit": null,
            "grid_auto_columns": null,
            "margin": null,
            "display": null,
            "left": null
          }
        },
        "e83997058ef347c6ad8ec8fe4ea5434c": {
          "model_module": "@jupyter-widgets/controls",
          "model_name": "FloatProgressModel",
          "state": {
            "_view_name": "ProgressView",
            "style": "IPY_MODEL_6f063bc8eaa34badaf1edd9c01d8b87e",
            "_dom_classes": [],
            "description": "100%",
            "_model_name": "FloatProgressModel",
            "bar_style": "",
            "max": 64,
            "_view_module": "@jupyter-widgets/controls",
            "_model_module_version": "1.5.0",
            "value": 64,
            "_view_count": null,
            "_view_module_version": "1.5.0",
            "orientation": "horizontal",
            "min": 0,
            "description_tooltip": null,
            "_model_module": "@jupyter-widgets/controls",
            "layout": "IPY_MODEL_734a3d02f49548f895aba14c93de63eb"
          }
        },
        "1f6eea9f52a64d66952405bb20cc56eb": {
          "model_module": "@jupyter-widgets/controls",
          "model_name": "HTMLModel",
          "state": {
            "_view_name": "HTMLView",
            "style": "IPY_MODEL_168d3fe21a2b486fbe7745948fa6d6d0",
            "_dom_classes": [],
            "description": "",
            "_model_name": "HTMLModel",
            "placeholder": "​",
            "_view_module": "@jupyter-widgets/controls",
            "_model_module_version": "1.5.0",
            "value": " 64/64 [00:46&lt;00:00,  1.40it/s]",
            "_view_count": null,
            "_view_module_version": "1.5.0",
            "description_tooltip": null,
            "_model_module": "@jupyter-widgets/controls",
            "layout": "IPY_MODEL_a08634cb59134169b531ce96dbbbb3cc"
          }
        },
        "6f063bc8eaa34badaf1edd9c01d8b87e": {
          "model_module": "@jupyter-widgets/controls",
          "model_name": "ProgressStyleModel",
          "state": {
            "_view_name": "StyleView",
            "_model_name": "ProgressStyleModel",
            "description_width": "initial",
            "_view_module": "@jupyter-widgets/base",
            "_model_module_version": "1.5.0",
            "_view_count": null,
            "_view_module_version": "1.2.0",
            "bar_color": null,
            "_model_module": "@jupyter-widgets/controls"
          }
        },
        "734a3d02f49548f895aba14c93de63eb": {
          "model_module": "@jupyter-widgets/base",
          "model_name": "LayoutModel",
          "state": {
            "_view_name": "LayoutView",
            "grid_template_rows": null,
            "right": null,
            "justify_content": null,
            "_view_module": "@jupyter-widgets/base",
            "overflow": null,
            "_model_module_version": "1.2.0",
            "_view_count": null,
            "flex_flow": null,
            "width": null,
            "min_width": null,
            "border": null,
            "align_items": null,
            "bottom": null,
            "_model_module": "@jupyter-widgets/base",
            "top": null,
            "grid_column": null,
            "overflow_y": null,
            "overflow_x": null,
            "grid_auto_flow": null,
            "grid_area": null,
            "grid_template_columns": null,
            "flex": null,
            "_model_name": "LayoutModel",
            "justify_items": null,
            "grid_row": null,
            "max_height": null,
            "align_content": null,
            "visibility": null,
            "align_self": null,
            "height": null,
            "min_height": null,
            "padding": null,
            "grid_auto_rows": null,
            "grid_gap": null,
            "max_width": null,
            "order": null,
            "_view_module_version": "1.2.0",
            "grid_template_areas": null,
            "object_position": null,
            "object_fit": null,
            "grid_auto_columns": null,
            "margin": null,
            "display": null,
            "left": null
          }
        },
        "168d3fe21a2b486fbe7745948fa6d6d0": {
          "model_module": "@jupyter-widgets/controls",
          "model_name": "DescriptionStyleModel",
          "state": {
            "_view_name": "StyleView",
            "_model_name": "DescriptionStyleModel",
            "description_width": "",
            "_view_module": "@jupyter-widgets/base",
            "_model_module_version": "1.5.0",
            "_view_count": null,
            "_view_module_version": "1.2.0",
            "_model_module": "@jupyter-widgets/controls"
          }
        },
        "a08634cb59134169b531ce96dbbbb3cc": {
          "model_module": "@jupyter-widgets/base",
          "model_name": "LayoutModel",
          "state": {
            "_view_name": "LayoutView",
            "grid_template_rows": null,
            "right": null,
            "justify_content": null,
            "_view_module": "@jupyter-widgets/base",
            "overflow": null,
            "_model_module_version": "1.2.0",
            "_view_count": null,
            "flex_flow": null,
            "width": null,
            "min_width": null,
            "border": null,
            "align_items": null,
            "bottom": null,
            "_model_module": "@jupyter-widgets/base",
            "top": null,
            "grid_column": null,
            "overflow_y": null,
            "overflow_x": null,
            "grid_auto_flow": null,
            "grid_area": null,
            "grid_template_columns": null,
            "flex": null,
            "_model_name": "LayoutModel",
            "justify_items": null,
            "grid_row": null,
            "max_height": null,
            "align_content": null,
            "visibility": null,
            "align_self": null,
            "height": null,
            "min_height": null,
            "padding": null,
            "grid_auto_rows": null,
            "grid_gap": null,
            "max_width": null,
            "order": null,
            "_view_module_version": "1.2.0",
            "grid_template_areas": null,
            "object_position": null,
            "object_fit": null,
            "grid_auto_columns": null,
            "margin": null,
            "display": null,
            "left": null
          }
        },
        "70190f905e0e41438a8cd993c2890d5e": {
          "model_module": "@jupyter-widgets/controls",
          "model_name": "HBoxModel",
          "state": {
            "_view_name": "HBoxView",
            "_dom_classes": [],
            "_model_name": "HBoxModel",
            "_view_module": "@jupyter-widgets/controls",
            "_model_module_version": "1.5.0",
            "_view_count": null,
            "_view_module_version": "1.5.0",
            "box_style": "",
            "layout": "IPY_MODEL_2c422396f8794fb4a6dcfa91deda2988",
            "_model_module": "@jupyter-widgets/controls",
            "children": [
              "IPY_MODEL_a116ac87288d4b498db8d9c93a614eb6",
              "IPY_MODEL_3c8d34ae014247beac0fbc9e10c92b09"
            ]
          }
        },
        "2c422396f8794fb4a6dcfa91deda2988": {
          "model_module": "@jupyter-widgets/base",
          "model_name": "LayoutModel",
          "state": {
            "_view_name": "LayoutView",
            "grid_template_rows": null,
            "right": null,
            "justify_content": null,
            "_view_module": "@jupyter-widgets/base",
            "overflow": null,
            "_model_module_version": "1.2.0",
            "_view_count": null,
            "flex_flow": null,
            "width": null,
            "min_width": null,
            "border": null,
            "align_items": null,
            "bottom": null,
            "_model_module": "@jupyter-widgets/base",
            "top": null,
            "grid_column": null,
            "overflow_y": null,
            "overflow_x": null,
            "grid_auto_flow": null,
            "grid_area": null,
            "grid_template_columns": null,
            "flex": null,
            "_model_name": "LayoutModel",
            "justify_items": null,
            "grid_row": null,
            "max_height": null,
            "align_content": null,
            "visibility": null,
            "align_self": null,
            "height": null,
            "min_height": null,
            "padding": null,
            "grid_auto_rows": null,
            "grid_gap": null,
            "max_width": null,
            "order": null,
            "_view_module_version": "1.2.0",
            "grid_template_areas": null,
            "object_position": null,
            "object_fit": null,
            "grid_auto_columns": null,
            "margin": null,
            "display": null,
            "left": null
          }
        },
        "a116ac87288d4b498db8d9c93a614eb6": {
          "model_module": "@jupyter-widgets/controls",
          "model_name": "FloatProgressModel",
          "state": {
            "_view_name": "ProgressView",
            "style": "IPY_MODEL_a2155e86f6a543d99e4bdbf420c51d5f",
            "_dom_classes": [],
            "description": "100%",
            "_model_name": "FloatProgressModel",
            "bar_style": "",
            "max": 64,
            "_view_module": "@jupyter-widgets/controls",
            "_model_module_version": "1.5.0",
            "value": 64,
            "_view_count": null,
            "_view_module_version": "1.5.0",
            "orientation": "horizontal",
            "min": 0,
            "description_tooltip": null,
            "_model_module": "@jupyter-widgets/controls",
            "layout": "IPY_MODEL_100a959b9c894649a6df7dc9c40226fb"
          }
        },
        "3c8d34ae014247beac0fbc9e10c92b09": {
          "model_module": "@jupyter-widgets/controls",
          "model_name": "HTMLModel",
          "state": {
            "_view_name": "HTMLView",
            "style": "IPY_MODEL_f348b3f41db148fb84291df34171de6b",
            "_dom_classes": [],
            "description": "",
            "_model_name": "HTMLModel",
            "placeholder": "​",
            "_view_module": "@jupyter-widgets/controls",
            "_model_module_version": "1.5.0",
            "value": " 64/64 [02:26&lt;00:00,  2.27s/it]",
            "_view_count": null,
            "_view_module_version": "1.5.0",
            "description_tooltip": null,
            "_model_module": "@jupyter-widgets/controls",
            "layout": "IPY_MODEL_56653621cdfa40b19c13a9a744749ef1"
          }
        },
        "a2155e86f6a543d99e4bdbf420c51d5f": {
          "model_module": "@jupyter-widgets/controls",
          "model_name": "ProgressStyleModel",
          "state": {
            "_view_name": "StyleView",
            "_model_name": "ProgressStyleModel",
            "description_width": "initial",
            "_view_module": "@jupyter-widgets/base",
            "_model_module_version": "1.5.0",
            "_view_count": null,
            "_view_module_version": "1.2.0",
            "bar_color": null,
            "_model_module": "@jupyter-widgets/controls"
          }
        },
        "100a959b9c894649a6df7dc9c40226fb": {
          "model_module": "@jupyter-widgets/base",
          "model_name": "LayoutModel",
          "state": {
            "_view_name": "LayoutView",
            "grid_template_rows": null,
            "right": null,
            "justify_content": null,
            "_view_module": "@jupyter-widgets/base",
            "overflow": null,
            "_model_module_version": "1.2.0",
            "_view_count": null,
            "flex_flow": null,
            "width": null,
            "min_width": null,
            "border": null,
            "align_items": null,
            "bottom": null,
            "_model_module": "@jupyter-widgets/base",
            "top": null,
            "grid_column": null,
            "overflow_y": null,
            "overflow_x": null,
            "grid_auto_flow": null,
            "grid_area": null,
            "grid_template_columns": null,
            "flex": null,
            "_model_name": "LayoutModel",
            "justify_items": null,
            "grid_row": null,
            "max_height": null,
            "align_content": null,
            "visibility": null,
            "align_self": null,
            "height": null,
            "min_height": null,
            "padding": null,
            "grid_auto_rows": null,
            "grid_gap": null,
            "max_width": null,
            "order": null,
            "_view_module_version": "1.2.0",
            "grid_template_areas": null,
            "object_position": null,
            "object_fit": null,
            "grid_auto_columns": null,
            "margin": null,
            "display": null,
            "left": null
          }
        },
        "f348b3f41db148fb84291df34171de6b": {
          "model_module": "@jupyter-widgets/controls",
          "model_name": "DescriptionStyleModel",
          "state": {
            "_view_name": "StyleView",
            "_model_name": "DescriptionStyleModel",
            "description_width": "",
            "_view_module": "@jupyter-widgets/base",
            "_model_module_version": "1.5.0",
            "_view_count": null,
            "_view_module_version": "1.2.0",
            "_model_module": "@jupyter-widgets/controls"
          }
        },
        "56653621cdfa40b19c13a9a744749ef1": {
          "model_module": "@jupyter-widgets/base",
          "model_name": "LayoutModel",
          "state": {
            "_view_name": "LayoutView",
            "grid_template_rows": null,
            "right": null,
            "justify_content": null,
            "_view_module": "@jupyter-widgets/base",
            "overflow": null,
            "_model_module_version": "1.2.0",
            "_view_count": null,
            "flex_flow": null,
            "width": null,
            "min_width": null,
            "border": null,
            "align_items": null,
            "bottom": null,
            "_model_module": "@jupyter-widgets/base",
            "top": null,
            "grid_column": null,
            "overflow_y": null,
            "overflow_x": null,
            "grid_auto_flow": null,
            "grid_area": null,
            "grid_template_columns": null,
            "flex": null,
            "_model_name": "LayoutModel",
            "justify_items": null,
            "grid_row": null,
            "max_height": null,
            "align_content": null,
            "visibility": null,
            "align_self": null,
            "height": null,
            "min_height": null,
            "padding": null,
            "grid_auto_rows": null,
            "grid_gap": null,
            "max_width": null,
            "order": null,
            "_view_module_version": "1.2.0",
            "grid_template_areas": null,
            "object_position": null,
            "object_fit": null,
            "grid_auto_columns": null,
            "margin": null,
            "display": null,
            "left": null
          }
        },
        "c30fafeee49643cfb114b6e749211e89": {
          "model_module": "@jupyter-widgets/controls",
          "model_name": "HBoxModel",
          "state": {
            "_view_name": "HBoxView",
            "_dom_classes": [],
            "_model_name": "HBoxModel",
            "_view_module": "@jupyter-widgets/controls",
            "_model_module_version": "1.5.0",
            "_view_count": null,
            "_view_module_version": "1.5.0",
            "box_style": "",
            "layout": "IPY_MODEL_38795883ceec438d8197080f85f8ab67",
            "_model_module": "@jupyter-widgets/controls",
            "children": [
              "IPY_MODEL_619a62c74c724347a8041dcd307a3cae",
              "IPY_MODEL_aaee721f361c429abc01c9700461b1da"
            ]
          }
        },
        "38795883ceec438d8197080f85f8ab67": {
          "model_module": "@jupyter-widgets/base",
          "model_name": "LayoutModel",
          "state": {
            "_view_name": "LayoutView",
            "grid_template_rows": null,
            "right": null,
            "justify_content": null,
            "_view_module": "@jupyter-widgets/base",
            "overflow": null,
            "_model_module_version": "1.2.0",
            "_view_count": null,
            "flex_flow": null,
            "width": null,
            "min_width": null,
            "border": null,
            "align_items": null,
            "bottom": null,
            "_model_module": "@jupyter-widgets/base",
            "top": null,
            "grid_column": null,
            "overflow_y": null,
            "overflow_x": null,
            "grid_auto_flow": null,
            "grid_area": null,
            "grid_template_columns": null,
            "flex": null,
            "_model_name": "LayoutModel",
            "justify_items": null,
            "grid_row": null,
            "max_height": null,
            "align_content": null,
            "visibility": null,
            "align_self": null,
            "height": null,
            "min_height": null,
            "padding": null,
            "grid_auto_rows": null,
            "grid_gap": null,
            "max_width": null,
            "order": null,
            "_view_module_version": "1.2.0",
            "grid_template_areas": null,
            "object_position": null,
            "object_fit": null,
            "grid_auto_columns": null,
            "margin": null,
            "display": null,
            "left": null
          }
        },
        "619a62c74c724347a8041dcd307a3cae": {
          "model_module": "@jupyter-widgets/controls",
          "model_name": "FloatProgressModel",
          "state": {
            "_view_name": "ProgressView",
            "style": "IPY_MODEL_ea265fe7265f4d2b9efddba063901980",
            "_dom_classes": [],
            "description": "100%",
            "_model_name": "FloatProgressModel",
            "bar_style": "",
            "max": 64,
            "_view_module": "@jupyter-widgets/controls",
            "_model_module_version": "1.5.0",
            "value": 64,
            "_view_count": null,
            "_view_module_version": "1.5.0",
            "orientation": "horizontal",
            "min": 0,
            "description_tooltip": null,
            "_model_module": "@jupyter-widgets/controls",
            "layout": "IPY_MODEL_ad65432429ef4d949ef98f8399fb71c3"
          }
        },
        "aaee721f361c429abc01c9700461b1da": {
          "model_module": "@jupyter-widgets/controls",
          "model_name": "HTMLModel",
          "state": {
            "_view_name": "HTMLView",
            "style": "IPY_MODEL_0cb32826faaa45d18f7409c0be8285ac",
            "_dom_classes": [],
            "description": "",
            "_model_name": "HTMLModel",
            "placeholder": "​",
            "_view_module": "@jupyter-widgets/controls",
            "_model_module_version": "1.5.0",
            "value": " 64/64 [00:46&lt;00:00,  1.40it/s]",
            "_view_count": null,
            "_view_module_version": "1.5.0",
            "description_tooltip": null,
            "_model_module": "@jupyter-widgets/controls",
            "layout": "IPY_MODEL_d2cbc6615cf940b983e9cc4e6082bcac"
          }
        },
        "ea265fe7265f4d2b9efddba063901980": {
          "model_module": "@jupyter-widgets/controls",
          "model_name": "ProgressStyleModel",
          "state": {
            "_view_name": "StyleView",
            "_model_name": "ProgressStyleModel",
            "description_width": "initial",
            "_view_module": "@jupyter-widgets/base",
            "_model_module_version": "1.5.0",
            "_view_count": null,
            "_view_module_version": "1.2.0",
            "bar_color": null,
            "_model_module": "@jupyter-widgets/controls"
          }
        },
        "ad65432429ef4d949ef98f8399fb71c3": {
          "model_module": "@jupyter-widgets/base",
          "model_name": "LayoutModel",
          "state": {
            "_view_name": "LayoutView",
            "grid_template_rows": null,
            "right": null,
            "justify_content": null,
            "_view_module": "@jupyter-widgets/base",
            "overflow": null,
            "_model_module_version": "1.2.0",
            "_view_count": null,
            "flex_flow": null,
            "width": null,
            "min_width": null,
            "border": null,
            "align_items": null,
            "bottom": null,
            "_model_module": "@jupyter-widgets/base",
            "top": null,
            "grid_column": null,
            "overflow_y": null,
            "overflow_x": null,
            "grid_auto_flow": null,
            "grid_area": null,
            "grid_template_columns": null,
            "flex": null,
            "_model_name": "LayoutModel",
            "justify_items": null,
            "grid_row": null,
            "max_height": null,
            "align_content": null,
            "visibility": null,
            "align_self": null,
            "height": null,
            "min_height": null,
            "padding": null,
            "grid_auto_rows": null,
            "grid_gap": null,
            "max_width": null,
            "order": null,
            "_view_module_version": "1.2.0",
            "grid_template_areas": null,
            "object_position": null,
            "object_fit": null,
            "grid_auto_columns": null,
            "margin": null,
            "display": null,
            "left": null
          }
        },
        "0cb32826faaa45d18f7409c0be8285ac": {
          "model_module": "@jupyter-widgets/controls",
          "model_name": "DescriptionStyleModel",
          "state": {
            "_view_name": "StyleView",
            "_model_name": "DescriptionStyleModel",
            "description_width": "",
            "_view_module": "@jupyter-widgets/base",
            "_model_module_version": "1.5.0",
            "_view_count": null,
            "_view_module_version": "1.2.0",
            "_model_module": "@jupyter-widgets/controls"
          }
        },
        "d2cbc6615cf940b983e9cc4e6082bcac": {
          "model_module": "@jupyter-widgets/base",
          "model_name": "LayoutModel",
          "state": {
            "_view_name": "LayoutView",
            "grid_template_rows": null,
            "right": null,
            "justify_content": null,
            "_view_module": "@jupyter-widgets/base",
            "overflow": null,
            "_model_module_version": "1.2.0",
            "_view_count": null,
            "flex_flow": null,
            "width": null,
            "min_width": null,
            "border": null,
            "align_items": null,
            "bottom": null,
            "_model_module": "@jupyter-widgets/base",
            "top": null,
            "grid_column": null,
            "overflow_y": null,
            "overflow_x": null,
            "grid_auto_flow": null,
            "grid_area": null,
            "grid_template_columns": null,
            "flex": null,
            "_model_name": "LayoutModel",
            "justify_items": null,
            "grid_row": null,
            "max_height": null,
            "align_content": null,
            "visibility": null,
            "align_self": null,
            "height": null,
            "min_height": null,
            "padding": null,
            "grid_auto_rows": null,
            "grid_gap": null,
            "max_width": null,
            "order": null,
            "_view_module_version": "1.2.0",
            "grid_template_areas": null,
            "object_position": null,
            "object_fit": null,
            "grid_auto_columns": null,
            "margin": null,
            "display": null,
            "left": null
          }
        }
      }
    },
    "accelerator": "GPU"
  },
  "cells": [
    {
      "cell_type": "markdown",
      "metadata": {
        "id": "9dkB74lziwfF"
      },
      "source": [
        "#Installation and initation\n"
      ]
    },
    {
      "cell_type": "code",
      "metadata": {
        "id": "PcKPLo5GLLBC",
        "colab": {
          "base_uri": "https://localhost:8080/"
        },
        "outputId": "f4b6bff4-e635-4b50-f3a1-a470c42c9239"
      },
      "source": [
        "!pip3 install medpy"
      ],
      "execution_count": 1,
      "outputs": [
        {
          "output_type": "stream",
          "text": [
            "Requirement already satisfied: medpy in /usr/local/lib/python3.7/dist-packages (0.4.0)\n",
            "Requirement already satisfied: scipy>=1.1.0 in /usr/local/lib/python3.7/dist-packages (from medpy) (1.4.1)\n",
            "Requirement already satisfied: numpy>=1.11.0 in /usr/local/lib/python3.7/dist-packages (from medpy) (1.19.5)\n",
            "Requirement already satisfied: SimpleITK>=1.1.0 in /usr/local/lib/python3.7/dist-packages (from medpy) (2.0.2)\n"
          ],
          "name": "stdout"
        }
      ]
    },
    {
      "cell_type": "code",
      "metadata": {
        "id": "hrhooXD4FPvA"
      },
      "source": [
        "import numpy as np\n",
        "import pandas as pd\n",
        "import seaborn as sns\n",
        "import os\n",
        "import nibabel as nib\n",
        "import matplotlib.pyplot as plt\n",
        "import time\n",
        "import json\n",
        "%matplotlib inline\n",
        "\n",
        "\n",
        "import cv2\n",
        "from tqdm.notebook import tqdm\n",
        "from itertools import chain\n",
        "from skimage.io import imread, imshow, concatenate_images\n",
        "from skimage.transform import resize\n",
        "from skimage.morphology import label\n",
        "from sklearn.model_selection import train_test_split\n",
        "\n",
        "import torch\n",
        "import torchvision\n",
        "import torch.nn as nn\n",
        "import torch.optim as optim\n",
        "import torchvision.transforms as transforms\n",
        "import torchvision.transforms.functional as TF\n",
        "\n",
        "from torch.utils.data import Dataset\n",
        "from torch.utils.data import DataLoader\n",
        "from medpy.io import load\n",
        "\n",
        "\n",
        "from PIL import Image"
      ],
      "execution_count": 2,
      "outputs": []
    },
    {
      "cell_type": "code",
      "metadata": {
        "id": "VE63BQ9mGL-z",
        "colab": {
          "base_uri": "https://localhost:8080/"
        },
        "outputId": "a99f8f00-bb33-4574-9165-c63984a67f5f"
      },
      "source": [
        "from google.colab import drive\n",
        "drive.mount('/content/drive')"
      ],
      "execution_count": 3,
      "outputs": [
        {
          "output_type": "stream",
          "text": [
            "Drive already mounted at /content/drive; to attempt to forcibly remount, call drive.mount(\"/content/drive\", force_remount=True).\n"
          ],
          "name": "stdout"
        }
      ]
    },
    {
      "cell_type": "code",
      "metadata": {
        "id": "ns-mjiKM1rHK"
      },
      "source": [
        "data_path = f'/content/drive/MyDrive/brainsightAI/NFBS_Dataset'\n",
        "data_dirs = os.listdir(data_path)\n"
      ],
      "execution_count": 4,
      "outputs": []
    },
    {
      "cell_type": "code",
      "metadata": {
        "id": "B_Ow1f31ikad"
      },
      "source": [
        "#Set Hyperparameters and other config variables\n",
        "class Config:\n",
        "    \"\"\"\n",
        "    Holds configuration parameters\n",
        "    \"\"\"\n",
        "    def __init__(self):\n",
        "        self.name = \"vanilla_unet\"\n",
        "        self.n_epochs = 10\n",
        "        self.learning_rate = 0.0002\n",
        "        self.batch_size = 40\n",
        "        self.patch_size = 256\n",
        "        self.transpose = [1,0,2]\n",
        "        self.version = '1'\n",
        "        self.test_results_dir = \"/content/drive/MyDrive/brainsightAI/out\"\n",
        "\n",
        "\n",
        "c = Config()"
      ],
      "execution_count": 5,
      "outputs": []
    },
    {
      "cell_type": "code",
      "metadata": {
        "id": "0SWZ3HYBUk7V",
        "colab": {
          "base_uri": "https://localhost:8080/"
        },
        "outputId": "7f16d284-cae7-460a-dec7-02c856509802"
      },
      "source": [
        "vars(c)\n"
      ],
      "execution_count": 6,
      "outputs": [
        {
          "output_type": "execute_result",
          "data": {
            "text/plain": [
              "{'batch_size': 40,\n",
              " 'learning_rate': 0.0002,\n",
              " 'n_epochs': 10,\n",
              " 'name': 'vanilla_unet',\n",
              " 'patch_size': 256,\n",
              " 'test_results_dir': '/content/drive/MyDrive/brainsightAI/out',\n",
              " 'transpose': [1, 0, 2],\n",
              " 'version': '1'}"
            ]
          },
          "metadata": {
            "tags": []
          },
          "execution_count": 6
        }
      ]
    },
    {
      "cell_type": "markdown",
      "metadata": {
        "id": "03ClUGUTjzay"
      },
      "source": [
        "Going by the convention of nifti files download from NFBS "
      ]
    },
    {
      "cell_type": "code",
      "metadata": {
        "id": "8hIbA89V2u6R",
        "colab": {
          "base_uri": "https://localhost:8080/"
        },
        "outputId": "ccaca389-3c0e-435b-a721-26b2d0af28bd"
      },
      "source": [
        "data_list = []\n",
        "for sub_dir in data_dirs:\n",
        "    dir_contents = os.listdir(os.path.join(data_path,sub_dir))\n",
        "    filename = sub_dir\n",
        "    for file in dir_contents:\n",
        "        if not 'brain' in file:\n",
        "            image_path =  os.path.join(data_path,sub_dir,file)\n",
        "        elif 'mask' in file:\n",
        "            mask_path = os.path.join(data_path,sub_dir,file)\n",
        "    data_list.append({'filename':filename,'image':image_path,'mask':mask_path})\n",
        "\n",
        "print(len(data_list))\n",
        "brain_volume_df = pd.DataFrame(data_list)\n",
        "brain_volume_df.to_csv('/content/drive/MyDrive/brainsightAI/brain_volume_df.csv',index = False)"
      ],
      "execution_count": 7,
      "outputs": [
        {
          "output_type": "stream",
          "text": [
            "125\n"
          ],
          "name": "stdout"
        }
      ]
    },
    {
      "cell_type": "code",
      "metadata": {
        "id": "CDSq32TCqobm"
      },
      "source": [
        "from IPython.display import clear_output\n",
        "def slice_viewer_generator(dim, img, img_label):\n",
        "    img_switcher = {\n",
        "        0: lambda i: img[i,:,:],\n",
        "        1: lambda i: img[:,i,:],\n",
        "        2: lambda i: img[:,:,i]\n",
        "    }\n",
        "    img_label_switcher = {\n",
        "        0: lambda i: img_label[i,:,:],\n",
        "        1: lambda i: img_label[:,i,:],\n",
        "        2: lambda i: img_label[:,:,i]\n",
        "    }\n",
        "    \n",
        "    for s in range(img.shape[dim]):\n",
        "        fig, (ax1, ax2) = plt.subplots(1, 2, figsize=(10,5))\n",
        "        ax1.set_title('Image')\n",
        "        ax2.set_title('Label')\n",
        "        fig.suptitle(f'Viewing slice {s} along dimension {dim}')\n",
        "        ax1.imshow(img_switcher[dim](s), cmap=\"gray\")\n",
        "        ax2.imshow(img_label_switcher[dim](s), cmap=\"gray\")\n",
        "        plt.show()\n",
        "        clear_output(wait=True)\n",
        "        yield"
      ],
      "execution_count": 8,
      "outputs": []
    },
    {
      "cell_type": "markdown",
      "metadata": {
        "id": "K-ortoanmcip"
      },
      "source": [
        "# EDA\n"
      ]
    },
    {
      "cell_type": "code",
      "metadata": {
        "id": "FGnRlx_dmq9K",
        "colab": {
          "base_uri": "https://localhost:8080/",
          "height": 195
        },
        "outputId": "b1a933e8-99d0-4c8f-b88f-c2138eb40310"
      },
      "source": [
        "#Load the dataframe\n",
        "brain_volume_df = pd.read_csv('/content/drive/MyDrive/brainsightAI/brain_volume_df.csv')\n",
        "brain_volume_df.head(5)"
      ],
      "execution_count": null,
      "outputs": [
        {
          "output_type": "execute_result",
          "data": {
            "text/html": [
              "<div>\n",
              "<style scoped>\n",
              "    .dataframe tbody tr th:only-of-type {\n",
              "        vertical-align: middle;\n",
              "    }\n",
              "\n",
              "    .dataframe tbody tr th {\n",
              "        vertical-align: top;\n",
              "    }\n",
              "\n",
              "    .dataframe thead th {\n",
              "        text-align: right;\n",
              "    }\n",
              "</style>\n",
              "<table border=\"1\" class=\"dataframe\">\n",
              "  <thead>\n",
              "    <tr style=\"text-align: right;\">\n",
              "      <th></th>\n",
              "      <th>filename</th>\n",
              "      <th>image</th>\n",
              "      <th>mask</th>\n",
              "    </tr>\n",
              "  </thead>\n",
              "  <tbody>\n",
              "    <tr>\n",
              "      <th>0</th>\n",
              "      <td>A00032875</td>\n",
              "      <td>/content/drive/MyDrive/brainsightAI/NFBS_Datas...</td>\n",
              "      <td>/content/drive/MyDrive/brainsightAI/NFBS_Datas...</td>\n",
              "    </tr>\n",
              "    <tr>\n",
              "      <th>1</th>\n",
              "      <td>A00033747</td>\n",
              "      <td>/content/drive/MyDrive/brainsightAI/NFBS_Datas...</td>\n",
              "      <td>/content/drive/MyDrive/brainsightAI/NFBS_Datas...</td>\n",
              "    </tr>\n",
              "    <tr>\n",
              "      <th>2</th>\n",
              "      <td>A00034854</td>\n",
              "      <td>/content/drive/MyDrive/brainsightAI/NFBS_Datas...</td>\n",
              "      <td>/content/drive/MyDrive/brainsightAI/NFBS_Datas...</td>\n",
              "    </tr>\n",
              "    <tr>\n",
              "      <th>3</th>\n",
              "      <td>A00028185</td>\n",
              "      <td>/content/drive/MyDrive/brainsightAI/NFBS_Datas...</td>\n",
              "      <td>/content/drive/MyDrive/brainsightAI/NFBS_Datas...</td>\n",
              "    </tr>\n",
              "    <tr>\n",
              "      <th>4</th>\n",
              "      <td>A00037511</td>\n",
              "      <td>/content/drive/MyDrive/brainsightAI/NFBS_Datas...</td>\n",
              "      <td>/content/drive/MyDrive/brainsightAI/NFBS_Datas...</td>\n",
              "    </tr>\n",
              "  </tbody>\n",
              "</table>\n",
              "</div>"
            ],
            "text/plain": [
              "    filename  ...                                               mask\n",
              "0  A00032875  ...  /content/drive/MyDrive/brainsightAI/NFBS_Datas...\n",
              "1  A00033747  ...  /content/drive/MyDrive/brainsightAI/NFBS_Datas...\n",
              "2  A00034854  ...  /content/drive/MyDrive/brainsightAI/NFBS_Datas...\n",
              "3  A00028185  ...  /content/drive/MyDrive/brainsightAI/NFBS_Datas...\n",
              "4  A00037511  ...  /content/drive/MyDrive/brainsightAI/NFBS_Datas...\n",
              "\n",
              "[5 rows x 3 columns]"
            ]
          },
          "metadata": {
            "tags": []
          },
          "execution_count": 82
        }
      ]
    },
    {
      "cell_type": "code",
      "metadata": {
        "id": "IlGX-5-KnI7a",
        "colab": {
          "base_uri": "https://localhost:8080/"
        },
        "outputId": "29747fcc-98fa-43cc-d6ad-16cba1750a7b"
      },
      "source": [
        "# Looking at a single volume\n",
        "images = nib.load(brain_volume_df.loc[1]['image'])\n",
        "masks = nib.load(brain_volume_df.loc[1]['mask'])\n",
        "filename = brain_volume_df.loc[1]['filename']\n",
        "print(filename)\n",
        "image_volume = images.get_fdata()\n",
        "mask_volume = masks.get_fdata()\n",
        "# Since it is mentioned in NFBS site that voxels are of measurement 1mm3, I'll assume that it is true for all the volumes.\n",
        "# Checking the allignment of images and masks\n",
        "\n",
        "allign_diff = images.affine - masks.affine\n",
        "print(allign_diff)"
      ],
      "execution_count": null,
      "outputs": [
        {
          "output_type": "stream",
          "text": [
            "A00033747\n",
            "[[0. 0. 0. 0.]\n",
            " [0. 0. 0. 0.]\n",
            " [0. 0. 0. 0.]\n",
            " [0. 0. 0. 0.]]\n"
          ],
          "name": "stdout"
        }
      ]
    },
    {
      "cell_type": "markdown",
      "metadata": {
        "id": "0qWcv0z_Okg-"
      },
      "source": [
        "Since the difference in affine of mask and images is zero, both volumes are properly aligned (assuming same is true for other volumes as this is a gold standard dataset)"
      ]
    },
    {
      "cell_type": "code",
      "metadata": {
        "id": "JC9gyPkcQcOE",
        "colab": {
          "base_uri": "https://localhost:8080/"
        },
        "outputId": "57d044ef-a7ea-497b-9515-da73e1221551"
      },
      "source": [
        "print(f\"Image Shape:{image_volume.shape} , mask_shape:{mask_volume.shape}\\n\")\n",
        "slicer = slice_viewer_generator(1,image_volume,mask_volume)\n",
        "\n"
      ],
      "execution_count": null,
      "outputs": [
        {
          "output_type": "stream",
          "text": [
            "Image Shape:(256, 256, 192) , mask_shape:(256, 256, 192)\n",
            "\n"
          ],
          "name": "stdout"
        }
      ]
    },
    {
      "cell_type": "code",
      "metadata": {
        "id": "8W__Tw2lWcIo",
        "colab": {
          "base_uri": "https://localhost:8080/",
          "height": 356
        },
        "outputId": "d70e4593-b798-4a4f-e2a1-63f518c05780"
      },
      "source": [
        " for slice in slicer:\n",
        "     pass"
      ],
      "execution_count": null,
      "outputs": [
        {
          "output_type": "display_data",
          "data": {
            "image/png": "[encoded data removed]",
            "text/plain": [
              "<Figure size 720x360 with 2 Axes>"
            ]
          },
          "metadata": {
            "tags": [],
            "needs_background": "light"
          }
        }
      ]
    },
    {
      "cell_type": "markdown",
      "metadata": {
        "id": "OMrLmqRar24v"
      },
      "source": [
        "Looking slices through each dimensions gave an interesting outcome,generally, MRIs primary axis tends to be axial, i.e to say slice dimension along axial axis tends to be symmetrical. But, for above volume, slice dimension along axial axis is (255,192). This might have happened due to the process of making voxel dimensions isometric (1mm3). Need to check, if is this the case for all the volumes? and do different volumes have different dimesnions?\n",
        "\n",
        "As for checking the slices and their respective masks, i used slicer 3D tool to visualize the volume.\n",
        "\n",
        "<img src=\"https://drive.google.com/uc?id=1SyBxDunduD_KNNm_zy7QeJa1Vbfj8BCG\">"
      ]
    },
    {
      "cell_type": "code",
      "metadata": {
        "id": "Ku0KxH7ImSpe"
      },
      "source": [
        "# looking at the intensity profile of this particular volume\n",
        "figure= plt.hist(image_volume.ravel())\n",
        "plt.xlabel('Intensity')\n",
        "plt.ylabel('Count')\n",
        "print(np.amax(image_volume))"
      ],
      "execution_count": null,
      "outputs": []
    },
    {
      "cell_type": "markdown",
      "metadata": {
        "id": "P1lmZFnWoVmd"
      },
      "source": [
        "There is a huge number of black pixel , majorly due to padding and de-identification. Leaving low values aside, and checking distribution of intensity for different slices, distribution is more or less uniform."
      ]
    },
    {
      "cell_type": "code",
      "metadata": {
        "id": "wP5s4O4oiwZ6"
      },
      "source": [
        "# Looking at all the volumes\n",
        "# First checking the dimensions of all the volume, if we have an outlier or not\n",
        "image_dim_dict = {}\n",
        "mask_dim_dict = {}\n",
        "for vol_ix in range(len(brain_volume_df)):\n",
        "    image_dim = tuple(nib.load(brain_volume_df.loc[vol_ix]['image']).header['dim'][1:4])\n",
        "    mask_dim = tuple(nib.load(brain_volume_df.loc[vol_ix]['mask']).header['dim'][1:4])\n",
        "    image_dim_dict.setdefault(image_dim,[]).append(vol_ix)\n",
        "    mask_dim_dict.setdefault(image_dim,[]).append(vol_ix)\n"
      ],
      "execution_count": null,
      "outputs": []
    },
    {
      "cell_type": "code",
      "metadata": {
        "id": "GXigTmIwscIZ"
      },
      "source": [
        "print(image_dim_dict.keys(), mask_dim_dict.keys()) "
      ],
      "execution_count": null,
      "outputs": []
    },
    {
      "cell_type": "markdown",
      "metadata": {
        "id": "GK0byg45sp2e"
      },
      "source": [
        "All the volumes in dataset are of same volume. This will save us some steps in preprocessing pipeline"
      ]
    },
    {
      "cell_type": "code",
      "metadata": {
        "id": "Ual__OmFrg8Y"
      },
      "source": [
        "#Checking the distribution of brain volume in out dataset, can become a metric of DNN model's performance\n",
        "volumes = []\n",
        "for vol_ix in range(len(brain_volume_df)):\n",
        "    vol_ = np.count_nonzero(nib.load(brain_volume_df.loc[vol_ix]['mask']).get_fdata())\n",
        "    volumes.append(vol_/1000)\n",
        "\n"
      ],
      "execution_count": null,
      "outputs": []
    },
    {
      "cell_type": "code",
      "metadata": {
        "id": "8HG9dhREwAEN"
      },
      "source": [
        "fig = plt.hist(volumes,bins=100)\n",
        "plt.xlabel(\"volume in cm3\")\n",
        "plt.ylabel('count')"
      ],
      "execution_count": null,
      "outputs": []
    },
    {
      "cell_type": "markdown",
      "metadata": {
        "id": "qSGXNuas56qj"
      },
      "source": [
        "There are few volumes that are outside the general spread. \n",
        "Will inspect them and try to gain some more insight"
      ]
    },
    {
      "cell_type": "code",
      "metadata": {
        "id": "v7NaCvh0xaDa"
      },
      "source": [
        "outlier = [] \n",
        "for vol_ix in range(len(brain_volume_df)):\n",
        "    vol_ = np.count_nonzero(nib.load(brain_volume_df.loc[vol_ix]['mask']).get_fdata())\n",
        "    if vol_/1000 > 1700 or vol_/1000 < 1050:\n",
        "        outlier.append([vol_,brain_volume_df.loc[vol_ix]['filename']])"
      ],
      "execution_count": null,
      "outputs": []
    },
    {
      "cell_type": "code",
      "metadata": {
        "id": "D8qmsxhQ62xP"
      },
      "source": [
        "outlier_sorted = sorted(outlier,key= lambda x : x[0])\n",
        "print(outlier_sorted)"
      ],
      "execution_count": null,
      "outputs": []
    },
    {
      "cell_type": "markdown",
      "metadata": {
        "id": "1INpPY2Y8tU8"
      },
      "source": [
        "Checking these 4 volumes in 3D slicer ravels that all 4 volume are of head anatomically. Therefore, difference in volume might be due to different head size in the dataset populace."
      ]
    },
    {
      "cell_type": "markdown",
      "metadata": {
        "id": "yJZn103I_0xp"
      },
      "source": [
        "EDA Summary\n",
        "- All the volumes from the dataset are MRI of Human head anatomically.\n",
        "- All the volumes are isometrically similar with voxels dimensions of 1mm3\n",
        "- All the volumes are of same dimensions with their planes in following order [coronal,axial,sagittal] , need to reorder it before feeding it to model.\n",
        "- All the volumes and their respiective masks are alligned properly.\n",
        "- Brain tissue volume ranges from 1000 - 1800 cm3 for this dataset.This can be used as a performance metric \n",
        "\n",
        "with above information, i'll be using a 2D vanilla U-net architecture for segmenting brain tissues from the MRI volumes.Few pre-processing steps needs to applied for maintaining the input volume size."
      ]
    },
    {
      "cell_type": "markdown",
      "metadata": {
        "id": "wpg6iHIEEYAa"
      },
      "source": [
        "# Build Vanilla U-net model"
      ]
    },
    {
      "cell_type": "code",
      "metadata": {
        "id": "Rk-hQRLdEam2"
      },
      "source": [
        "\n",
        "def conv_layer(input_channels, output_channels):     #This is a helper function to create the convolutional blocks\n",
        "    conv = nn.Sequential(\n",
        "        nn.Conv2d(input_channels, output_channels, kernel_size=3, padding=1),\n",
        "        nn.ReLU(inplace=True),\n",
        "        nn.Conv2d(output_channels, output_channels, kernel_size=3, padding=1),\n",
        "        nn.BatchNorm2d(output_channels),\n",
        "        nn.ReLU(inplace=True)\n",
        "    )\n",
        "    return conv\n",
        "\n",
        "class UNet(nn.Module):\n",
        "    def __init__(self,input_channel:int = 1,output_channel:int = 1):\n",
        "        super(UNet, self).__init__()\n",
        "        \n",
        "        self.max_pool = nn.MaxPool2d(kernel_size=2, stride=2)\n",
        "        self.down_1 = conv_layer(input_channel, 64)\n",
        "        self.down_2 = conv_layer(64, 128)\n",
        "        self.down_3 = conv_layer(128, 256)\n",
        "        self.down_4 = conv_layer(256, 512)\n",
        "        self.bottleneck = conv_layer(512, 1024)\n",
        "        \n",
        "        self.up_1 = nn.ConvTranspose2d(in_channels=1024, out_channels=512, kernel_size=2, stride=2)\n",
        "        self.up_conv_1 = conv_layer(1024, 512)\n",
        "        self.up_2 = nn.ConvTranspose2d(in_channels=512, out_channels=256, kernel_size=2, stride=2)\n",
        "        self.up_conv_2 = conv_layer(512, 256)\n",
        "        self.up_3 = nn.ConvTranspose2d(in_channels=256, out_channels=128, kernel_size=2, stride=2)\n",
        "        self.up_conv_3 = conv_layer(256, 128)\n",
        "        self.up_4 = nn.ConvTranspose2d(in_channels=128, out_channels=64, kernel_size=2, stride=2)\n",
        "        self.up_conv_4 = conv_layer(128, 64)\n",
        "        \n",
        "        self.output = nn.Conv2d(in_channels=64, out_channels=output_channel, kernel_size=1, padding=0)\n",
        "        self.output_activation = nn.Softmax(dim=1)\n",
        "                \n",
        "    def forward(self, img):     #The print statements can be used to visualize the input and output sizes for debugging\n",
        "        x1 = self.down_1(img)\n",
        "        #print(x1.size())\n",
        "        x2 = self.max_pool(x1)\n",
        "        #print(x2.size())\n",
        "        x3 = self.down_2(x2)\n",
        "        #print(x3.size())\n",
        "        x4 = self.max_pool(x3)\n",
        "        #print(x4.size())\n",
        "        x5 = self.down_3(x4)\n",
        "        #print(x5.size())\n",
        "        x6 = self.max_pool(x5)\n",
        "        #print(x6.size())\n",
        "        x7 = self.down_4(x6)\n",
        "        #print(x7.size())\n",
        "        x8 = self.max_pool(x7)\n",
        "        #print(x8.size())\n",
        "        x9 = self.bottleneck(x8)\n",
        "        #print(x9.size())\n",
        "        \n",
        "        x = self.up_1(x9)\n",
        "        #print(x.size())\n",
        "        x = self.up_conv_1(torch.cat([x, x7], 1))\n",
        "        #print(x.size())\n",
        "        x = self.up_2(x)\n",
        "        #print(x.size())\n",
        "        x = self.up_conv_2(torch.cat([x, x5], 1))\n",
        "        #print(x.size())\n",
        "        x = self.up_3(x)\n",
        "        #print(x.size())\n",
        "        x = self.up_conv_3(torch.cat([x, x3], 1))\n",
        "        #print(x.size())\n",
        "        x = self.up_4(x)\n",
        "        #print(x.size())\n",
        "        x = self.up_conv_4(torch.cat([x, x1], 1))\n",
        "        #print(x.size())\n",
        "        \n",
        "        x = self.output(x)\n",
        "        x = self.output_activation(x)\n",
        "        #print(x.size())\n",
        "        \n",
        "        return x\n",
        "\n",
        "    "
      ],
      "execution_count": 10,
      "outputs": []
    },
    {
      "cell_type": "markdown",
      "metadata": {
        "id": "fLgcuRl-16sT"
      },
      "source": [
        "#Build data pipeline"
      ]
    },
    {
      "cell_type": "code",
      "metadata": {
        "id": "QAUjMiQ9ypd0",
        "colab": {
          "base_uri": "https://localhost:8080/",
          "height": 0
        },
        "outputId": "b7a41b7b-aca4-4dcd-e64d-c01890a93a3e"
      },
      "source": [
        "split = {}\n",
        "volume_df = pd.read_csv('/content/drive/MyDrive/brainsightAI/brain_volume_df.csv')\n",
        "print(f\"total volumes : {len(volume_df)}\")\n",
        "#splitting the volumes in three groups for train,validation and testing.\n",
        "#splitting rather than splitting single scans makes sense, this way there wont be any data leakage between training and validation set\n",
        "\n",
        "train_df,test_df = train_test_split(volume_df, test_size = 0.1,random_state=11)\n",
        "train_df,val_df = train_test_split(train_df,test_size = 0.2,random_state=11)\n",
        "\n",
        "print(f\"training volumes:{len(train_df)}\\nvalidation volumes:{len(val_df)}\\ntesting volumes:{len(test_df)}\\ntotal:{len(train_df)+len(val_df)+len(test_df)}\")\n",
        "\n",
        "\n",
        "split['train'] = train_df.head(10).reset_index(drop=True)\n",
        "split['validation'] = val_df.head(10).reset_index(drop=True)\n",
        "split['test'] = test_df.head(5).reset_index(drop=True)\n",
        "\n",
        "split['train']"
      ],
      "execution_count": 11,
      "outputs": [
        {
          "output_type": "stream",
          "text": [
            "total volumes : 125\n",
            "training volumes:89\n",
            "validation volumes:23\n",
            "testing volumes:13\n",
            "total:125\n"
          ],
          "name": "stdout"
        },
        {
          "output_type": "execute_result",
          "data": {
            "text/html": [
              "<div>\n",
              "<style scoped>\n",
              "    .dataframe tbody tr th:only-of-type {\n",
              "        vertical-align: middle;\n",
              "    }\n",
              "\n",
              "    .dataframe tbody tr th {\n",
              "        vertical-align: top;\n",
              "    }\n",
              "\n",
              "    .dataframe thead th {\n",
              "        text-align: right;\n",
              "    }\n",
              "</style>\n",
              "<table border=\"1\" class=\"dataframe\">\n",
              "  <thead>\n",
              "    <tr style=\"text-align: right;\">\n",
              "      <th></th>\n",
              "      <th>filename</th>\n",
              "      <th>image</th>\n",
              "      <th>mask</th>\n",
              "    </tr>\n",
              "  </thead>\n",
              "  <tbody>\n",
              "    <tr>\n",
              "      <th>0</th>\n",
              "      <td>A00040628</td>\n",
              "      <td>/content/drive/MyDrive/brainsightAI/NFBS_Datas...</td>\n",
              "      <td>/content/drive/MyDrive/brainsightAI/NFBS_Datas...</td>\n",
              "    </tr>\n",
              "    <tr>\n",
              "      <th>1</th>\n",
              "      <td>A00057182</td>\n",
              "      <td>/content/drive/MyDrive/brainsightAI/NFBS_Datas...</td>\n",
              "      <td>/content/drive/MyDrive/brainsightAI/NFBS_Datas...</td>\n",
              "    </tr>\n",
              "    <tr>\n",
              "      <th>2</th>\n",
              "      <td>A00053455</td>\n",
              "      <td>/content/drive/MyDrive/brainsightAI/NFBS_Datas...</td>\n",
              "      <td>/content/drive/MyDrive/brainsightAI/NFBS_Datas...</td>\n",
              "    </tr>\n",
              "    <tr>\n",
              "      <th>3</th>\n",
              "      <td>A00058552</td>\n",
              "      <td>/content/drive/MyDrive/brainsightAI/NFBS_Datas...</td>\n",
              "      <td>/content/drive/MyDrive/brainsightAI/NFBS_Datas...</td>\n",
              "    </tr>\n",
              "    <tr>\n",
              "      <th>4</th>\n",
              "      <td>A00053475</td>\n",
              "      <td>/content/drive/MyDrive/brainsightAI/NFBS_Datas...</td>\n",
              "      <td>/content/drive/MyDrive/brainsightAI/NFBS_Datas...</td>\n",
              "    </tr>\n",
              "    <tr>\n",
              "      <th>5</th>\n",
              "      <td>A00040151</td>\n",
              "      <td>/content/drive/MyDrive/brainsightAI/NFBS_Datas...</td>\n",
              "      <td>/content/drive/MyDrive/brainsightAI/NFBS_Datas...</td>\n",
              "    </tr>\n",
              "    <tr>\n",
              "      <th>6</th>\n",
              "      <td>A00062288</td>\n",
              "      <td>/content/drive/MyDrive/brainsightAI/NFBS_Datas...</td>\n",
              "      <td>/content/drive/MyDrive/brainsightAI/NFBS_Datas...</td>\n",
              "    </tr>\n",
              "    <tr>\n",
              "      <th>7</th>\n",
              "      <td>A00060372</td>\n",
              "      <td>/content/drive/MyDrive/brainsightAI/NFBS_Datas...</td>\n",
              "      <td>/content/drive/MyDrive/brainsightAI/NFBS_Datas...</td>\n",
              "    </tr>\n",
              "    <tr>\n",
              "      <th>8</th>\n",
              "      <td>A00059344</td>\n",
              "      <td>/content/drive/MyDrive/brainsightAI/NFBS_Datas...</td>\n",
              "      <td>/content/drive/MyDrive/brainsightAI/NFBS_Datas...</td>\n",
              "    </tr>\n",
              "    <tr>\n",
              "      <th>9</th>\n",
              "      <td>A00062942</td>\n",
              "      <td>/content/drive/MyDrive/brainsightAI/NFBS_Datas...</td>\n",
              "      <td>/content/drive/MyDrive/brainsightAI/NFBS_Datas...</td>\n",
              "    </tr>\n",
              "  </tbody>\n",
              "</table>\n",
              "</div>"
            ],
            "text/plain": [
              "    filename  ...                                               mask\n",
              "0  A00040628  ...  /content/drive/MyDrive/brainsightAI/NFBS_Datas...\n",
              "1  A00057182  ...  /content/drive/MyDrive/brainsightAI/NFBS_Datas...\n",
              "2  A00053455  ...  /content/drive/MyDrive/brainsightAI/NFBS_Datas...\n",
              "3  A00058552  ...  /content/drive/MyDrive/brainsightAI/NFBS_Datas...\n",
              "4  A00053475  ...  /content/drive/MyDrive/brainsightAI/NFBS_Datas...\n",
              "5  A00040151  ...  /content/drive/MyDrive/brainsightAI/NFBS_Datas...\n",
              "6  A00062288  ...  /content/drive/MyDrive/brainsightAI/NFBS_Datas...\n",
              "7  A00060372  ...  /content/drive/MyDrive/brainsightAI/NFBS_Datas...\n",
              "8  A00059344  ...  /content/drive/MyDrive/brainsightAI/NFBS_Datas...\n",
              "9  A00062942  ...  /content/drive/MyDrive/brainsightAI/NFBS_Datas...\n",
              "\n",
              "[10 rows x 3 columns]"
            ]
          },
          "metadata": {
            "tags": []
          },
          "execution_count": 11
        }
      ]
    },
    {
      "cell_type": "code",
      "metadata": {
        "id": "R-G2W2TS8ESG"
      },
      "source": [
        "#pre-processing block\n",
        "\n",
        "def med_reshape(image, new_shape):\n",
        "    \"\"\"\n",
        "    This function reshapes 3D data to new dimension padding with zeros\n",
        "    and leaving the content in the top-left corner\n",
        "\n",
        "    Arguments:\n",
        "        image {array} - 3D array of pixel data\n",
        "        new_shape {3-tuple} - expected output shape\n",
        "\n",
        "    Returns:\n",
        "        3D array of desired shape, padded with zeroes\n",
        "    \"\"\"\n",
        "\n",
        "    reshaped_image = np.zeros(new_shape)\n",
        "    reshaped_image[0:image.shape[0],0:image.shape[1],0:image.shape[2]] = image    \n",
        "    return reshaped_image\n",
        "\n",
        "\n",
        "\n",
        "\n",
        "def normalize_and_scale(dataFrame,yShape:int=64,zShape:int=64,axes_shift = [0,1,2]):\n",
        "    \"\"\"\n",
        "    This function loads our dataset form disk into memory,\n",
        "    reshaping output to common size\n",
        "\n",
        "    input arguments\n",
        "    dataFrame - pandas dataframe containg image volume and mask volume paths\n",
        "\n",
        "    returns\n",
        "    Array of dictionaries with data stored in seg and image fields as \n",
        "        Numpy arrays of shape [AXIAL_WIDTH, Y_SHAPE, Z_SHAPE]\n",
        "    \"\"\"\n",
        "    out = []\n",
        "    for ix in range(len(dataFrame)):\n",
        "        filename = dataFrame.loc[ix]['filename']\n",
        "        images,_ = load(dataFrame.loc[ix]['image'])\n",
        "        # images = nib.load(dataFrame.loc[ix]['image']).get_fdata()\n",
        "        labels,_ = load(dataFrame.loc[ix]['mask'])\n",
        "\n",
        "    # since we know from EDA that 1st dimension in the volume corresponds to axial axis\n",
        "        images = images.transpose(axes_shift[0],axes_shift[1],axes_shift[2])\n",
        "        labels = labels.transpose(axes_shift[0],axes_shift[1],axes_shift[2])\n",
        "    \n",
        "    #normalization\n",
        "        max_val = np.amax(images)\n",
        "        min_val = np.amin(images)\n",
        "        images = (images-min_val)/(max_val - min_val)\n",
        "        \n",
        "\n",
        "   # reshaping the volume , so that every volume is of same size\n",
        "        images = med_reshape(images, new_shape=(images.shape[0], yShape, zShape))\n",
        "        labels = med_reshape(labels, new_shape=(labels.shape[0], yShape, zShape)).astype(int)\n",
        "\n",
        "\n",
        "        mean = np.mean(images, axis=(0, 1, 2))\n",
        "        std_dev = np.std(images, axis=(0, 1, 2))\n",
        "        images = (images - mean) / std_dev\n",
        "        \n",
        "        out.append({'filename':filename,'image':images,'mask':labels})\n",
        "\n",
        "    \n",
        "    return np.array(out)\n",
        "\n"
      ],
      "execution_count": 12,
      "outputs": []
    },
    {
      "cell_type": "code",
      "metadata": {
        "id": "-TmJYrr6KOL-"
      },
      "source": [
        "class stripDataset(Dataset):\n",
        "    def __init__(self,config,dataFrame,transform=None):\n",
        "        self.dataframe = dataFrame\n",
        "        self.size = config.patch_size\n",
        "        self.transpose = config.transpose\n",
        "        self.slices = []\n",
        "        self.transform = transform\n",
        "        self.data = normalize_and_scale(self.dataframe,yShape=self.size,zShape=self.size,axes_shift=self.transpose)\n",
        "\n",
        "\n",
        "        for i, d in enumerate(self.data):\n",
        "            for j in range(d[\"image\"].shape[0]):\n",
        "                self.slices.append((i, j))\n",
        "    \n",
        "\n",
        "    def __getitem__(self,idx):\n",
        "        \n",
        "        slc = self.slices[idx]\n",
        "        sample = dict()\n",
        "        sample[\"id\"] = idx\n",
        "        img_volume = self.data[slc[0]]['image']\n",
        "        label_volume = self.data[slc[0]]['mask']\n",
        "        sample[\"image\"] = torch.from_numpy(img_volume[slc[1]][None,:])\n",
        "        sample[\"mask\"] = torch.from_numpy(label_volume[slc[1]][None,:])\n",
        "        return sample\n",
        "\n",
        "    def __len__(self):\n",
        "      return len(self.slices)\n"
      ],
      "execution_count": 13,
      "outputs": []
    },
    {
      "cell_type": "markdown",
      "metadata": {
        "id": "HIISRpOBFk53"
      },
      "source": [
        "#Defining Performance metrices"
      ]
    },
    {
      "cell_type": "code",
      "metadata": {
        "id": "ij5qNQ1OV17H"
      },
      "source": [
        "def Dice3d(volume1, volume2):\n",
        "    \"\"\"\n",
        "    This will compute the Dice Similarity coefficient for two 3-dimensional volumes\n",
        "    Arguments:\n",
        "        a {Numpy array} -- 3D array with first volume\n",
        "        b {Numpy array} -- 3D array with second volume\n",
        "\n",
        "    Returns:\n",
        "        float\n",
        "    \"\"\"\n",
        "    if len(volume1.shape) != 3 or len(volume2.shape) != 3:\n",
        "        raise Exception(f\"Expecting 3 dimensional inputs, got {volume1.shape} and {volume2.shape}\")\n",
        "\n",
        "    if volume1.shape != volume2.shape:\n",
        "        raise Exception(f\"Expecting inputs of the same shape, got {volume1.shape} and {volume2.shape}\")\n",
        "\n",
        "    volume1 = (volume1>0).astype(np.int)\n",
        "    volume2 = (volume2>0).astype(np.int)\n",
        "    \n",
        "    intersection = np.sum(volume1*volume2)\n",
        "    vol_sum = np.sum(volume1) + np.sum(volume2)\n",
        "    \n",
        "    if vol_sum == 0:\n",
        "        return -1\n",
        "    return 2*(float(intersection)/float(vol_sum))\n",
        "\n",
        "def Jaccard3d(a, b):\n",
        "    \"\"\"\n",
        "    This will compute the Jaccard Similarity coefficient for two 3-dimensional volumes\n",
        "    \n",
        "\n",
        "    Arguments:\n",
        "        a {Numpy array} -- 3D array with first volume\n",
        "        b {Numpy array} -- 3D array with second volume\n",
        "\n",
        "    Returns:\n",
        "        float\n",
        "    \"\"\"\n",
        "    if len(a.shape) != 3 or len(b.shape) != 3:\n",
        "        raise Exception(f\"Expecting 3 dimensional inputs, got {a.shape} and {b.shape}\")\n",
        "\n",
        "    if a.shape != b.shape:\n",
        "        raise Exception(f\"Expecting inputs of the same shape, got {a.shape} and {b.shape}\")\n",
        "        \n",
        "    a = (a>0).astype(np.int)\n",
        "    b = (b>0).astype(np.int)\n",
        "    \n",
        "    intersection = np.sum(a*b)\n",
        "    vol_sum = np.sum(a) + np.sum(b)\n",
        "    \n",
        "    if vol_sum == 0:\n",
        "        return -1\n",
        "    return (float(intersection)/float(vol_sum - intersection))\n"
      ],
      "execution_count": 14,
      "outputs": []
    },
    {
      "cell_type": "markdown",
      "metadata": {
        "id": "1q4o9Z5mjBBO"
      },
      "source": [
        "#Training/validation Life cycle"
      ]
    },
    {
      "cell_type": "code",
      "metadata": {
        "id": "zyvdQZijfEmL"
      },
      "source": [
        "class train_and_validate:\n",
        "    \"\"\" This class implements the basic life cycle of segmentation task\n",
        "         Basic Life cycle is :\n",
        "         run():\n",
        "              for epoch in n_epoch:\n",
        "                train()\n",
        "                validate()\n",
        "         test()\n",
        "    \"\"\"\n",
        "    def __init__(self,config,split):\n",
        "        self.n_epochs = config.n_epochs\n",
        "        self.version = config.version\n",
        "        self.split = split\n",
        "        self._time_start = \"\"\n",
        "        self._time_end = \"\"\n",
        "        self.epoch = 0\n",
        "        self.name = config.name\n",
        "        self.reshape_size = config.patch_size\n",
        "        self.batch_size = config.batch_size\n",
        "        self.transpose = config.transpose\n",
        "\n",
        "\n",
        "        dirname = f\"{self.name}_{self.version}\"\n",
        "        self.out_dir = os.path.join(config.test_results_dir, dirname)\n",
        "        os.makedirs(self.out_dir, exist_ok=True)\n",
        "\n",
        "\n",
        "        self.train_loader = DataLoader(stripDataset(config,split['train']),batch_size=self.batch_size, shuffle=True, num_workers=4)\n",
        "        self.val_loader = DataLoader(stripDataset(config,self.split['validation']),batch_size=self.batch_size, shuffle=True, num_workers=4)\n",
        "        \n",
        "        self.test_df = self.split['test']\n",
        "\n",
        "        if not torch.cuda.is_available():\n",
        "            print(\"WARNING: No CUDA device is found. This may take significantly longer!\")\n",
        "        self.device = torch.device(\"cuda\" if torch.cuda.is_available() else \"cpu\")\n",
        "\n",
        "        self.model = UNet(input_channel=1,output_channel=2)\n",
        "        self.model.to(self.device)\n",
        "\n",
        "        self.loss_function = torch.nn.CrossEntropyLoss()\n",
        "        self.optimizer = optim.Adam(self.model.parameters(), lr=config.learning_rate)\n",
        "        self.scheduler = optim.lr_scheduler.ReduceLROnPlateau(self.optimizer, 'min')\n",
        "\n",
        "\n",
        "    def train(self):\n",
        "\n",
        "        train_losses = []\n",
        "\n",
        "        print(f\"Training epoch {self.epoch}...\")\n",
        "        self.model.train()\n",
        "        \n",
        "        loop = tqdm(enumerate(self.train_loader),total = len(self.train_loader),leave = False)\n",
        "        for i,batch in loop:\n",
        "            self.optimizer.zero_grad()\n",
        "            data = batch['image'].float().to(self.device)\n",
        "            target = batch['mask'].to(self.device)\n",
        "\n",
        "            prediction = self.model(data)\n",
        "            loss = self.loss_function(prediction, target[:,0,:,:])\n",
        "            loss.backward()\n",
        "            self.optimizer.step()\n",
        "\n",
        "            train_losses.append(loss.item())\n",
        "\n",
        "\n",
        "        \n",
        "        print(f\"\\nTraining complete for epoch:{self.epoch}\")\n",
        "        return train_losses\n",
        "\n",
        "    def validate(self):\n",
        "\n",
        "        self.model.eval()\n",
        "        print(f\"Validating epoch {self.epoch}...\")\n",
        "\n",
        "        validation_losses = []\n",
        "        dice_coeff = []\n",
        "        with torch.no_grad():\n",
        "            loop = tqdm(enumerate(self.val_loader),total = len(self.val_loader),leave = False)\n",
        "            for i ,batch in loop:\n",
        "            \n",
        "                data = batch['image'].float().to(self.device)\n",
        "                target = batch['mask'].to(self.device)\n",
        "                  \n",
        "                prediction = self.model(data)\n",
        "                loss = self.loss_function(prediction, target[:,0,:,:])\n",
        "                validation_losses.append(loss.item())\n",
        "\n",
        "\n",
        "        # self.scheduler.step(np.mean(validation_losses))\n",
        "        print(f\"\\n validation complete for epoch:{self.epoch}\")\n",
        "        return validation_losses\n",
        "\n",
        "    def save_model_parameters(self):\n",
        "        \"\"\"\n",
        "        Saves model parameters to a file in results directory\n",
        "        \"\"\"\n",
        "        path = os.path.join(self.out_dir, \"model.pth\")\n",
        "\n",
        "        torch.save(self.model.state_dict(), path)\n",
        "\n",
        "    def load_model_parameters(self, path=''):\n",
        "        \"\"\"\n",
        "        Loads model parameters from a supplied path or a\n",
        "        results directory\n",
        "        \"\"\"\n",
        "        if not path:\n",
        "            model_path = os.path.join(self.out_dir, \"model.pth\")\n",
        "        else:\n",
        "            model_path = path\n",
        "\n",
        "        if os.path.exists(model_path):\n",
        "            self.model.load_state_dict(torch.load(model_path))\n",
        "        else:\n",
        "            raise Exception(f\"Could not find path {model_path}\")\n",
        "    \n",
        "\n",
        "\n",
        "    def run(self):\n",
        "\n",
        "        self._time_start = time.time()\n",
        "        for self.epoch in range(self.n_epochs):\n",
        "            train_loss = self.train()\n",
        "            val_loss = self.validate()\n",
        "            self.save_model_parameters()\n",
        "            print(f\"for epoch:{self.epoch} - train loss:{np.mean(train_loss)}\\tvalidation_loss:{np.mean(val_loss)}\")\n",
        "        \n",
        "        self._time_end = time.time()\n",
        "        \n",
        "\n",
        "    def run_test(self):\n",
        "\n",
        "        self.model.eval()\n",
        "        test_volumes = normalize_and_scale(self.test_df,self.reshape_size,self.reshape_size,self.transpose)\n",
        "        # print(f\"test_volume shape{test_volumes.shape}\")\n",
        "        out_dict = {}\n",
        "        out_dict[\"volume_stats\"] = []\n",
        "        dc_list = []\n",
        "        jc_list = []\n",
        "        for i, volume in enumerate(test_volumes):\n",
        "            slices = []\n",
        "            for slice_ in volume['image']:\n",
        "                slice_ = torch.from_numpy(slice_[None,None,:,:]).type(torch.FloatTensor).to(self.device)\n",
        "                pred = np.squeeze(self.model(slice_).cpu().detach())\n",
        "                mask = torch.argmax(pred,dim=0).numpy()\n",
        "                slices.append(mask)\n",
        "            pred_label = np.array(slices)\n",
        "                \n",
        "            dice_ = Dice3d(pred_label,volume['mask'])\n",
        "            jaccard_ = Jaccard3d(pred_label,volume['mask'])\n",
        "\n",
        "            dc_list.append(dice_)\n",
        "            jc_list.append(jaccard_)\n",
        "\n",
        "            out_dict[\"volume_stats\"].append({\n",
        "            \"filename\": volume['filename'],\n",
        "            \"dice\": dice_,\n",
        "            \"jaccard\": jaccard_\n",
        "            })\n",
        "\n",
        "            print(f\"{volume['filename']} Dice {dice_:.4f}. {100*(i+1)/len(self.test_df):.2f}% complete\")\n",
        "        \n",
        "        \n",
        "        out_dict[\"overall\"] = {\n",
        "            \"mean_dice\": np.mean(dc_list),\n",
        "            \"mean_jaccard\": np.mean(jc_list)}\n",
        "        print(\"\\nTesting complete.\")\n",
        "        return out_dict\n",
        "\n"
      ],
      "execution_count": 15,
      "outputs": []
    },
    {
      "cell_type": "markdown",
      "metadata": {
        "id": "ydwqd49rwWD2"
      },
      "source": [
        "#Model training"
      ]
    },
    {
      "cell_type": "code",
      "metadata": {
        "id": "IMNdHoobahne",
        "colab": {
          "base_uri": "https://localhost:8080/"
        },
        "outputId": "eae75f45-31a5-4d71-ee94-6016cabb257f"
      },
      "source": [
        "#initiate the training class\n",
        "process = train_and_validate(c,split)\n"
      ],
      "execution_count": 16,
      "outputs": [
        {
          "output_type": "stream",
          "text": [
            "/usr/local/lib/python3.7/dist-packages/torch/utils/data/dataloader.py:477: UserWarning: This DataLoader will create 4 worker processes in total. Our suggested max number of worker in current system is 2, which is smaller than what this DataLoader is going to create. Please be aware that excessive worker creation might get DataLoader running slow or even freeze, lower the worker number to avoid potential slowness/freeze if necessary.\n",
            "  cpuset_checked))\n"
          ],
          "name": "stderr"
        }
      ]
    },
    {
      "cell_type": "code",
      "metadata": {
        "colab": {
          "base_uri": "https://localhost:8080/",
          "height": 1000,
          "referenced_widgets": [
            "6a55dc3da75447e698e4cbfb503ffb18",
            "d0121995244e432e97be8d78a21afba2",
            "88c679a94b054c17aaacebf3c272b4cf",
            "079f8aafaebf4bf3826080965a12579a",
            "d23f4c4638f541e79beb668a545d660d",
            "439e7ed3a55e4a46b2aac753260040d4",
            "d1bf37f408264fe9b621effe7f0d6145",
            "cc3c9967061f43ffaa801d21f1d904bf",
            "e48d911db39e4c70b7a220accec077d3",
            "0af7f7711dcc4092a8f649c5546d6e92",
            "c58d1334afc44794a9aac5f1650779c6",
            "71af99e8bc0b4ac4bd5f9a8743a242e2",
            "0ea337700741482dbebc8f1c838f6ec8",
            "2cf6cdef79bc44ea9c0f602a606bd289",
            "9a7e42669c0c4232a87357b7a66fbdb9",
            "04d89538d5a047c18387b670454f5937",
            "16acd2b8ab4447ca95568062d4d736e0",
            "9acb05aa0eff400dbaa6090b20f52652",
            "3cf3ca3c0a8947c48e8c6617d375403b",
            "9913328c32984283a9b5981a678216ba",
            "08cab048ab5d49709529497a28036a38",
            "3415fa0c0a6e46ac95a5bbfaf1640bbf",
            "c7a9067444714963a8805354bb068b6a",
            "e6dc2f8d3b2047bea492932bf65d518e",
            "1113ab4920ad4cadbfba8766f064126c",
            "d316ff1d7332469b89140dd8f705e11a",
            "00478f652b8742a8988742b864b5d2bb",
            "f4e4bbb8c59647f28c5e7fc17480f3df",
            "809bc285d42847cdbd1c9b9ba70cf702",
            "8b4b81d92d054b678d0ea7087daf26c0",
            "3f383a8fd2894e36b69a4703144a3d74",
            "29eb8f5c5913487984ab059a427d05d5",
            "bc40c410266d4643a253fc807ba225ba",
            "c6533481e3c441ecb8edb64b1e34b84c",
            "85c4559a10aa4636bb4ecf7fce422cb1",
            "6299a57ffa5c41ff9c364d99ad431c7a",
            "f2049ee088714e7c84cf5db92beb3a3f",
            "b956a10118694c4990444262e32eee84",
            "c34c0a433c744519b11c244b8b0f12f0",
            "d5eea93903d74e11b132ae37549cb557",
            "ff0a898d0a0a496ba12ad9f7ad142c6b",
            "2348c4979fca46c185b8d5141f37c1b4",
            "9b187c91c351401ebb95c1eb7a3bbef2",
            "2811de8a4841422b98695c0cb0a9b7e7",
            "827b8ce799ed4fe885b0a7cac05f3e38",
            "7402b075e27f4774a380c1c12299392a",
            "7b29b6b6674942f3888deb92545711a8",
            "95ce42ad5b12431ca1b8de986c227565",
            "12655920a1b445deaeab7e3b59bc02ba",
            "103f233ccc2346f7aec8a281af13028c",
            "4a5609222bd840b085e10e0239d2a0b7",
            "29ca94a7e5244888bd2c19e46c50f0b1",
            "6d5f6605e63347908859cbed290191e7",
            "4cdab2e3fb3948dba19b2c02e084cae5",
            "628e4537ca524ebd93ea67e0ca6dcc2b",
            "b19f489f0fa14e69a7a6ba146918818b",
            "0cbe727fde4f44aaae0e748275dcc708",
            "6703c012bbbc4774906b2cd66c9bd14b",
            "b5e42f4d1bde441a9ba0c151cc695f5d",
            "d4aa8cb539de43588f8004cfa2a315da",
            "17e4aa32338042ca8ce61f54784f78a7",
            "f0a6a0eb31924a4780ca2655f9613ec2",
            "95279e32f43f4dbf8cd77ae30a9eed34",
            "99bed6655eac4d4ab96361cfc10b150f",
            "399ae3629b65418fb56650faaf99a637",
            "b46725f78ef34cc38e3ba3265b41144f",
            "57999c3457254d33b504107d1b17135a",
            "868d22490fe646e5a881d3750248177e",
            "5fafc9631e9043f49542a36ef78cf61c",
            "4aed820cee8f434b85d787c545c8d1a1",
            "2a5fbb5417974d10b0932ac3beda8259",
            "a8b9daffd69e427ca6157af7b6049f53",
            "189ec2c0d411490ba2a42d11468432de",
            "0fed6f99982e4673a0260a5374bc1a22",
            "7c232714aca94af7a2400f17e9b6f4f3",
            "1ed11b0bcc8942ab9a5780bd3ab34d85",
            "e29b21b16dce4d0cb41d369a0fa1462e",
            "3850547d8296443fb43b71d48d170326",
            "d5d1780557ee48bd86b6afd48a629d5a",
            "fe9de7f6cdd3464ea1c63714d8c6fba2",
            "58c0fab104184962b76c6aeb770eee98",
            "ce491c79489148f3a85bea571b2218ed",
            "ad2e6f2b61fb4e60b1e59fec9bb2abdc",
            "7dc9776140e34eaf863f94bbcfba5edb",
            "d5efe2b62de1406ab753fca9bd44efd2",
            "1c217101ed194d4ea18798ae3888bdf7",
            "1e4c4343fce2463a84252310301cf6a5",
            "015c851291994636b32a742ca0a89a8b",
            "7b0897df1b35409483978053a8835222",
            "7c33aaf0d5044554936be6ce73e78861",
            "b4a6dfd315fb43608d5602dc5f76ce3e",
            "ff885d24d17b4deeb927eb9fee9ebbc2",
            "5ee5acf07b2847f6a560b998dea9b3dc",
            "2e06f4936df443b69ab872bc30aae8cd",
            "43faa9a1083a4ffeb55a137652bf13f8",
            "bd147fb6b0104cbc9bd199b7d5b88bd1",
            "6aab989261e44ad5bfe4ed55bbb8dd76",
            "723e1c09794e4fe9bd03dc7ecd115499",
            "ce9e8722f47b4289925d1a74c9efec75",
            "537794d91ab447af8323cc9e8d63245f",
            "554237fc81e945468d44a0ffa0be588c",
            "df6dead901834c89b7113be6cd6a1d4d",
            "8de78cc55c134ecea0bf661c1cc6d649",
            "ac69dd6714e54dd7a8a6782c73102094",
            "ad2eed327bdf4a34a2030a5559433545",
            "90bacbedc55d4a4a929844999334b2d0",
            "1e7a25eeb0bd4443bb9fc0c5e4fbbc89",
            "b9e655a957d5447ca47d2526e6724f82",
            "2051689d5f124bb7ab6b09bd23de0431",
            "647ab5088cc8448cb37ec0b44aee60ac",
            "419c2faf016745c9a576608344dd7b9a",
            "d7d49ac3954649579395a05764d24239",
            "1e071c4fa30c449a8a74493efb8fb6e0",
            "9c189c5a8f714ea5be51d971eeab6035",
            "7ca2ce1a56ee4624b94c8127f9c5909c",
            "abcb99bbcb6043cda4e8dc01abb10e51",
            "f820f2aef8474500914a85c22ef59f35",
            "33204f10d4e649f4a7e690f67c167132",
            "fb3a5f9f5808453f853b5914e49f5b78",
            "3cb7d269b5234981b3a81967dc4ba0a4",
            "2d54b2ea77ca458e816f8d8b966fe9e7",
            "d0e29d671cb74b0886caa0d7daaf2f01",
            "b79cf72078aa4e10bb31b0c97b3b90c9",
            "0cb536f978984b65b5dee7957231efb4",
            "6b67bffc540248e8ad816f4deaefffb3",
            "8d4373a873164d0aaf3d8eb93c56dbcb",
            "294a5ed64c6e4eff9fb4725481a75b8b",
            "d96b0beabc3f4441b9040a31d4fc26c1",
            "85a778ffcb584b10804aa808bcfb9148",
            "97fb5baaef7d4b529f813e50580b4761",
            "64162d43f1da4236a584e2f37ab6ccb0",
            "5328a8492af44ab7a1114578004f9d62",
            "4caa96500d724e799c94e7e8bd4ebb32",
            "d7e349a5b2c2418589a667544b08c6ae",
            "81e19b59237e43c9818c388e775ec20e",
            "2f9c63a389be480f8db15f852b18f336",
            "d8eccb6192234e3b8f3fc821ec4ca6d0",
            "6bb4366c74514a12ade8374721a62e7a",
            "e83997058ef347c6ad8ec8fe4ea5434c",
            "1f6eea9f52a64d66952405bb20cc56eb",
            "6f063bc8eaa34badaf1edd9c01d8b87e",
            "734a3d02f49548f895aba14c93de63eb",
            "168d3fe21a2b486fbe7745948fa6d6d0",
            "a08634cb59134169b531ce96dbbbb3cc",
            "70190f905e0e41438a8cd993c2890d5e",
            "2c422396f8794fb4a6dcfa91deda2988",
            "a116ac87288d4b498db8d9c93a614eb6",
            "3c8d34ae014247beac0fbc9e10c92b09",
            "a2155e86f6a543d99e4bdbf420c51d5f",
            "100a959b9c894649a6df7dc9c40226fb",
            "f348b3f41db148fb84291df34171de6b",
            "56653621cdfa40b19c13a9a744749ef1",
            "c30fafeee49643cfb114b6e749211e89",
            "38795883ceec438d8197080f85f8ab67",
            "619a62c74c724347a8041dcd307a3cae",
            "aaee721f361c429abc01c9700461b1da",
            "ea265fe7265f4d2b9efddba063901980",
            "ad65432429ef4d949ef98f8399fb71c3",
            "0cb32826faaa45d18f7409c0be8285ac",
            "d2cbc6615cf940b983e9cc4e6082bcac"
          ]
        },
        "id": "znCAvn68wi85",
        "outputId": "4ff81198-1108-4dcb-9de0-7c0bb1c2feba"
      },
      "source": [
        "process.run()\n",
        "result_json = process.run_test()\n",
        "result_json[\"config\"] = vars(c)\n",
        "\n",
        "with open(os.path.join(process.out_dir, \"results.json\"), 'w') as out_file:\n",
        "        json.dump(result_json, out_file, indent=2, separators=(',', ': '))"
      ],
      "execution_count": null,
      "outputs": [
        {
          "output_type": "stream",
          "text": [
            "Training epoch 0...\n"
          ],
          "name": "stdout"
        },
        {
          "output_type": "stream",
          "text": [
            "/usr/local/lib/python3.7/dist-packages/torch/utils/data/dataloader.py:477: UserWarning: This DataLoader will create 4 worker processes in total. Our suggested max number of worker in current system is 2, which is smaller than what this DataLoader is going to create. Please be aware that excessive worker creation might get DataLoader running slow or even freeze, lower the worker number to avoid potential slowness/freeze if necessary.\n",
            "  cpuset_checked))\n"
          ],
          "name": "stderr"
        },
        {
          "output_type": "display_data",
          "data": {
            "application/vnd.jupyter.widget-view+json": {
              "model_id": "6a55dc3da75447e698e4cbfb503ffb18",
              "version_minor": 0,
              "version_major": 2
            },
            "text/plain": [
              "HBox(children=(FloatProgress(value=0.0, max=64.0), HTML(value='')))"
            ]
          },
          "metadata": {
            "tags": []
          }
        },
        {
          "output_type": "stream",
          "text": [
            "\r\n",
            "Training complete for epoch:0\n",
            "Validating epoch 0...\n"
          ],
          "name": "stdout"
        },
        {
          "output_type": "display_data",
          "data": {
            "application/vnd.jupyter.widget-view+json": {
              "model_id": "e48d911db39e4c70b7a220accec077d3",
              "version_minor": 0,
              "version_major": 2
            },
            "text/plain": [
              "HBox(children=(FloatProgress(value=0.0, max=64.0), HTML(value='')))"
            ]
          },
          "metadata": {
            "tags": []
          }
        },
        {
          "output_type": "stream",
          "text": [
            "\r\n",
            " validation complete for epoch:0\n",
            "for epoch:0 - train loss:0.43086716439574957\tvalidation_loss:0.4335137838497758\n",
            "Training epoch 1...\n"
          ],
          "name": "stdout"
        },
        {
          "output_type": "display_data",
          "data": {
            "application/vnd.jupyter.widget-view+json": {
              "model_id": "16acd2b8ab4447ca95568062d4d736e0",
              "version_minor": 0,
              "version_major": 2
            },
            "text/plain": [
              "HBox(children=(FloatProgress(value=0.0, max=64.0), HTML(value='')))"
            ]
          },
          "metadata": {
            "tags": []
          }
        },
        {
          "output_type": "stream",
          "text": [
            "\r\n",
            "Training complete for epoch:1\n",
            "Validating epoch 1...\n"
          ],
          "name": "stdout"
        },
        {
          "output_type": "display_data",
          "data": {
            "application/vnd.jupyter.widget-view+json": {
              "model_id": "1113ab4920ad4cadbfba8766f064126c",
              "version_minor": 0,
              "version_major": 2
            },
            "text/plain": [
              "HBox(children=(FloatProgress(value=0.0, max=64.0), HTML(value='')))"
            ]
          },
          "metadata": {
            "tags": []
          }
        },
        {
          "output_type": "stream",
          "text": [
            "\r\n",
            " validation complete for epoch:1\n",
            "for epoch:1 - train loss:0.3666974254883826\tvalidation_loss:0.35562150925397873\n",
            "Training epoch 2...\n"
          ],
          "name": "stdout"
        },
        {
          "output_type": "display_data",
          "data": {
            "application/vnd.jupyter.widget-view+json": {
              "model_id": "bc40c410266d4643a253fc807ba225ba",
              "version_minor": 0,
              "version_major": 2
            },
            "text/plain": [
              "HBox(children=(FloatProgress(value=0.0, max=64.0), HTML(value='')))"
            ]
          },
          "metadata": {
            "tags": []
          }
        },
        {
          "output_type": "stream",
          "text": [
            "\r\n",
            "Training complete for epoch:2\n",
            "Validating epoch 2...\n"
          ],
          "name": "stdout"
        },
        {
          "output_type": "display_data",
          "data": {
            "application/vnd.jupyter.widget-view+json": {
              "model_id": "ff0a898d0a0a496ba12ad9f7ad142c6b",
              "version_minor": 0,
              "version_major": 2
            },
            "text/plain": [
              "HBox(children=(FloatProgress(value=0.0, max=64.0), HTML(value='')))"
            ]
          },
          "metadata": {
            "tags": []
          }
        },
        {
          "output_type": "stream",
          "text": [
            "\r\n",
            " validation complete for epoch:2\n",
            "for epoch:2 - train loss:0.34884938411414623\tvalidation_loss:0.34372904896736145\n",
            "Training epoch 3...\n"
          ],
          "name": "stdout"
        },
        {
          "output_type": "display_data",
          "data": {
            "application/vnd.jupyter.widget-view+json": {
              "model_id": "12655920a1b445deaeab7e3b59bc02ba",
              "version_minor": 0,
              "version_major": 2
            },
            "text/plain": [
              "HBox(children=(FloatProgress(value=0.0, max=64.0), HTML(value='')))"
            ]
          },
          "metadata": {
            "tags": []
          }
        },
        {
          "output_type": "stream",
          "text": [
            "\r\n",
            "Training complete for epoch:3\n",
            "Validating epoch 3...\n"
          ],
          "name": "stdout"
        },
        {
          "output_type": "display_data",
          "data": {
            "application/vnd.jupyter.widget-view+json": {
              "model_id": "0cbe727fde4f44aaae0e748275dcc708",
              "version_minor": 0,
              "version_major": 2
            },
            "text/plain": [
              "HBox(children=(FloatProgress(value=0.0, max=64.0), HTML(value='')))"
            ]
          },
          "metadata": {
            "tags": []
          }
        },
        {
          "output_type": "stream",
          "text": [
            "\r\n",
            " validation complete for epoch:3\n",
            "for epoch:3 - train loss:0.3390519618988037\tvalidation_loss:0.34265236649662256\n",
            "Training epoch 4...\n"
          ],
          "name": "stdout"
        },
        {
          "output_type": "display_data",
          "data": {
            "application/vnd.jupyter.widget-view+json": {
              "model_id": "399ae3629b65418fb56650faaf99a637",
              "version_minor": 0,
              "version_major": 2
            },
            "text/plain": [
              "HBox(children=(FloatProgress(value=0.0, max=64.0), HTML(value='')))"
            ]
          },
          "metadata": {
            "tags": []
          }
        },
        {
          "output_type": "stream",
          "text": [
            "\r\n",
            "Training complete for epoch:4\n",
            "Validating epoch 4...\n"
          ],
          "name": "stdout"
        },
        {
          "output_type": "display_data",
          "data": {
            "application/vnd.jupyter.widget-view+json": {
              "model_id": "189ec2c0d411490ba2a42d11468432de",
              "version_minor": 0,
              "version_major": 2
            },
            "text/plain": [
              "HBox(children=(FloatProgress(value=0.0, max=64.0), HTML(value='')))"
            ]
          },
          "metadata": {
            "tags": []
          }
        },
        {
          "output_type": "stream",
          "text": [
            "\r\n",
            " validation complete for epoch:4\n",
            "for epoch:4 - train loss:0.33307653246447444\tvalidation_loss:0.33095316402614117\n",
            "Training epoch 5...\n"
          ],
          "name": "stdout"
        },
        {
          "output_type": "display_data",
          "data": {
            "application/vnd.jupyter.widget-view+json": {
              "model_id": "58c0fab104184962b76c6aeb770eee98",
              "version_minor": 0,
              "version_major": 2
            },
            "text/plain": [
              "HBox(children=(FloatProgress(value=0.0, max=64.0), HTML(value='')))"
            ]
          },
          "metadata": {
            "tags": []
          }
        },
        {
          "output_type": "stream",
          "text": [
            "\r\n",
            "Training complete for epoch:5\n",
            "Validating epoch 5...\n"
          ],
          "name": "stdout"
        },
        {
          "output_type": "display_data",
          "data": {
            "application/vnd.jupyter.widget-view+json": {
              "model_id": "7b0897df1b35409483978053a8835222",
              "version_minor": 0,
              "version_major": 2
            },
            "text/plain": [
              "HBox(children=(FloatProgress(value=0.0, max=64.0), HTML(value='')))"
            ]
          },
          "metadata": {
            "tags": []
          }
        },
        {
          "output_type": "stream",
          "text": [
            "\r\n",
            " validation complete for epoch:5\n",
            "for epoch:5 - train loss:0.3291305033490062\tvalidation_loss:0.33422448113560677\n",
            "Training epoch 6...\n"
          ],
          "name": "stdout"
        },
        {
          "output_type": "display_data",
          "data": {
            "application/vnd.jupyter.widget-view+json": {
              "model_id": "6aab989261e44ad5bfe4ed55bbb8dd76",
              "version_minor": 0,
              "version_major": 2
            },
            "text/plain": [
              "HBox(children=(FloatProgress(value=0.0, max=64.0), HTML(value='')))"
            ]
          },
          "metadata": {
            "tags": []
          }
        },
        {
          "output_type": "stream",
          "text": [
            "\r\n",
            "Training complete for epoch:6\n",
            "Validating epoch 6...\n"
          ],
          "name": "stdout"
        },
        {
          "output_type": "display_data",
          "data": {
            "application/vnd.jupyter.widget-view+json": {
              "model_id": "ad2eed327bdf4a34a2030a5559433545",
              "version_minor": 0,
              "version_major": 2
            },
            "text/plain": [
              "HBox(children=(FloatProgress(value=0.0, max=64.0), HTML(value='')))"
            ]
          },
          "metadata": {
            "tags": []
          }
        },
        {
          "output_type": "stream",
          "text": [
            "\r\n",
            " validation complete for epoch:6\n",
            "for epoch:6 - train loss:0.32636434864252806\tvalidation_loss:0.3267276668921113\n",
            "Training epoch 7...\n"
          ],
          "name": "stdout"
        },
        {
          "output_type": "display_data",
          "data": {
            "application/vnd.jupyter.widget-view+json": {
              "model_id": "1e071c4fa30c449a8a74493efb8fb6e0",
              "version_minor": 0,
              "version_major": 2
            },
            "text/plain": [
              "HBox(children=(FloatProgress(value=0.0, max=64.0), HTML(value='')))"
            ]
          },
          "metadata": {
            "tags": []
          }
        },
        {
          "output_type": "stream",
          "text": [
            "\r\n",
            "Training complete for epoch:7\n",
            "Validating epoch 7...\n"
          ],
          "name": "stdout"
        },
        {
          "output_type": "display_data",
          "data": {
            "application/vnd.jupyter.widget-view+json": {
              "model_id": "2d54b2ea77ca458e816f8d8b966fe9e7",
              "version_minor": 0,
              "version_major": 2
            },
            "text/plain": [
              "HBox(children=(FloatProgress(value=0.0, max=64.0), HTML(value='')))"
            ]
          },
          "metadata": {
            "tags": []
          }
        },
        {
          "output_type": "stream",
          "text": [
            "\r\n",
            " validation complete for epoch:7\n",
            "for epoch:7 - train loss:0.3243048503063619\tvalidation_loss:0.32354859774932265\n",
            "Training epoch 8...\n"
          ],
          "name": "stdout"
        },
        {
          "output_type": "display_data",
          "data": {
            "application/vnd.jupyter.widget-view+json": {
              "model_id": "85a778ffcb584b10804aa808bcfb9148",
              "version_minor": 0,
              "version_major": 2
            },
            "text/plain": [
              "HBox(children=(FloatProgress(value=0.0, max=64.0), HTML(value='')))"
            ]
          },
          "metadata": {
            "tags": []
          }
        },
        {
          "output_type": "stream",
          "text": [
            "\r\n",
            "Training complete for epoch:8\n",
            "Validating epoch 8...\n"
          ],
          "name": "stdout"
        },
        {
          "output_type": "display_data",
          "data": {
            "application/vnd.jupyter.widget-view+json": {
              "model_id": "d8eccb6192234e3b8f3fc821ec4ca6d0",
              "version_minor": 0,
              "version_major": 2
            },
            "text/plain": [
              "HBox(children=(FloatProgress(value=0.0, max=64.0), HTML(value='')))"
            ]
          },
          "metadata": {
            "tags": []
          }
        },
        {
          "output_type": "stream",
          "text": [
            "\r\n",
            " validation complete for epoch:8\n",
            "for epoch:8 - train loss:0.32257437193766236\tvalidation_loss:0.3230139072984457\n",
            "Training epoch 9...\n"
          ],
          "name": "stdout"
        },
        {
          "output_type": "display_data",
          "data": {
            "application/vnd.jupyter.widget-view+json": {
              "model_id": "70190f905e0e41438a8cd993c2890d5e",
              "version_minor": 0,
              "version_major": 2
            },
            "text/plain": [
              "HBox(children=(FloatProgress(value=0.0, max=64.0), HTML(value='')))"
            ]
          },
          "metadata": {
            "tags": []
          }
        },
        {
          "output_type": "stream",
          "text": [
            "\r\n",
            "Training complete for epoch:9\n",
            "Validating epoch 9...\n"
          ],
          "name": "stdout"
        },
        {
          "output_type": "display_data",
          "data": {
            "application/vnd.jupyter.widget-view+json": {
              "model_id": "c30fafeee49643cfb114b6e749211e89",
              "version_minor": 0,
              "version_major": 2
            },
            "text/plain": [
              "HBox(children=(FloatProgress(value=0.0, max=64.0), HTML(value='')))"
            ]
          },
          "metadata": {
            "tags": []
          }
        },
        {
          "output_type": "stream",
          "text": [
            "\r\n",
            " validation complete for epoch:9\n",
            "for epoch:9 - train loss:0.3215191881172359\tvalidation_loss:0.3215971156023443\n",
            "A00055763 Dice 0.9770. 20.00% complete\n",
            "A00034854 Dice 0.9768. 40.00% complete\n",
            "A00057786 Dice 0.9758. 60.00% complete\n",
            "A00037112 Dice 0.9422. 80.00% complete\n",
            "A00038998 Dice 0.9780. 100.00% complete\n",
            "\n",
            "Testing complete.\n"
          ],
          "name": "stdout"
        }
      ]
    },
    {
      "cell_type": "markdown",
      "metadata": {
        "id": "Z3zINABdegnZ"
      },
      "source": [
        "#Visualization"
      ]
    },
    {
      "cell_type": "code",
      "metadata": {
        "id": "VtJuGHfyU4IA"
      },
      "source": [
        "def load_model_parameters(model, path=''):\n",
        "        \"\"\"\n",
        "        Loads model parameters from a supplied path or a\n",
        "        results directory\n",
        "        \"\"\"\n",
        "        model_path = path\n",
        "\n",
        "        if os.path.exists(model_path):\n",
        "            model.load_state_dict(torch.load(model_path))\n",
        "        else:\n",
        "            raise Exception(f\"Could not find path {model_path}\")"
      ],
      "execution_count": 17,
      "outputs": []
    },
    {
      "cell_type": "code",
      "metadata": {
        "colab": {
          "base_uri": "https://localhost:8080/",
          "height": 286
        },
        "id": "sE9DQnRePrHt",
        "outputId": "8b3df955-294e-44f9-ba0d-70415786f4b6"
      },
      "source": [
        "# image_path = \"/content/drive/MyDrive/brainsightAI/NFBS_Dataset/A00057786/sub-A00057786_ses-NFB3_T1w.nii.gz\"\n",
        "# mask_path = \"/content/drive/MyDrive/brainsightAI/NFBS_Dataset/A00057786/sub-A00057786_ses-NFB3_T1w_brainmask.nii.gz\"\n",
        "# filename = 'A00057786'\n",
        "\n",
        "\n",
        "pred_masks = []\n",
        "\n",
        "bd_df = pd.DataFrame({'filename':filename,'image':image_path,'mask':mask_path},index=[0])\n",
        "bd_out = normalize_and_scale(bd_df,256,256,[1,0,2])\n",
        "ori_mask = bd_out[0]['mask']\n",
        "model1 = process.model\n",
        "\n",
        "load_model_parameters(model1,path = process.out_dir+'/model.pth')\n",
        "\n",
        "model1.eval()\n",
        "model1.to(process.device)\n",
        "plt.imshow(bd_out[0]['image'][100],cmap='gray')\n",
        "plt.imshow(bd_out[0]['mask'][100],alpha=0.4)"
      ],
      "execution_count": null,
      "outputs": [
        {
          "output_type": "execute_result",
          "data": {
            "text/plain": [
              "<matplotlib.image.AxesImage at 0x7ff65bfe92d0>"
            ]
          },
          "metadata": {
            "tags": []
          },
          "execution_count": 24
        },
        {
          "output_type": "display_data",
          "data": {
            "image/png": "[encoded data removed]",
            "text/plain": [
              "<Figure size 432x288 with 1 Axes>"
            ]
          },
          "metadata": {
            "tags": [],
            "needs_background": "light"
          }
        }
      ]
    },
    {
      "cell_type": "code",
      "metadata": {
        "colab": {
          "base_uri": "https://localhost:8080/"
        },
        "id": "TjbdKkXJZbfH",
        "outputId": "c8d3279f-731e-4dae-eda2-7957fb1c64da"
      },
      "source": [
        "\n",
        "for img in bd_out[0]['image']:\n",
        "    img = torch.from_numpy(img[None,None,:,:]).type(torch.FloatTensor).to(process.device)\n",
        "    pred_ = np.squeeze(model1(img).cpu().detach())\n",
        "    mask_ = torch.argmax(pred_,dim=0).numpy()\n",
        "    pred_masks.append(mask_)\n",
        "pred_masks = np.array(pred_masks)\n",
        "print(pred_masks.shape,bd_out[0]['mask'].shape)\n",
        "\n"
      ],
      "execution_count": null,
      "outputs": [
        {
          "output_type": "stream",
          "text": [
            "(256, 256, 256) (256, 256, 256)\n"
          ],
          "name": "stdout"
        }
      ]
    },
    {
      "cell_type": "code",
      "metadata": {
        "id": "sFFsvOSibzB6"
      },
      "source": [
        "slicer1 = slice_viewer_generator(0,ori_mask,pred_masks)"
      ],
      "execution_count": null,
      "outputs": []
    },
    {
      "cell_type": "code",
      "metadata": {
        "colab": {
          "base_uri": "https://localhost:8080/",
          "height": 347
        },
        "id": "VvVzf27VcSxb",
        "outputId": "d90a4ac1-fd1f-4f3b-81ba-e5025bb9fcbb"
      },
      "source": [
        "for slice in slicer1:\n",
        "    pass"
      ],
      "execution_count": null,
      "outputs": [
        {
          "output_type": "display_data",
          "data": {
            "image/png": "[encoded data removed]",
            "text/plain": [
              "<Figure size 720x360 with 2 Axes>"
            ]
          },
          "metadata": {
            "tags": [],
            "needs_background": "light"
          }
        }
      ]
    },
    {
      "cell_type": "markdown",
      "metadata": {
        "id": "7x1MKYRarZnB"
      },
      "source": [
        "Loose inference visualisation"
      ]
    },
    {
      "cell_type": "code",
      "metadata": {
        "colab": {
          "base_uri": "https://localhost:8080/",
          "height": 286
        },
        "id": "LhdwTJI_rYYS",
        "outputId": "e90feed0-0677-43a5-e4a7-8417317e6680"
      },
      "source": [
        "imag_path = \"/content/drive/MyDrive/brainsightAI/T1Img/sub-02/anat_img.nii.gz\"\n",
        "dummy_mask_path = mask_path = \"/content/drive/MyDrive/brainsightAI/NFBS_Dataset/A00057786/sub-A00057786_ses-NFB3_T1w_brainmask.nii.gz\"\n",
        "filename1 = 'sub-01'\n",
        "inf_df = pd.DataFrame({'filename':filename,'image':image_path,'mask':mask_path},index=[0])\n",
        "\n",
        "inf_out = normalize_and_scale(inf_df,256,256,[1,0,2])\n",
        "model2 = process.model\n",
        "\n",
        "load_model_parameters(model2,path = process.out_dir+'/model.pth')\n",
        "\n",
        "model2.eval()\n",
        "model2.to(process.device)\n",
        "plt.imshow(inf_out[0]['image'][100],cmap='gray')\n",
        "\n",
        "\n"
      ],
      "execution_count": 18,
      "outputs": [
        {
          "output_type": "execute_result",
          "data": {
            "text/plain": [
              "<matplotlib.image.AxesImage at 0x7f58175f72d0>"
            ]
          },
          "metadata": {
            "tags": []
          },
          "execution_count": 18
        },
        {
          "output_type": "display_data",
          "data": {
            "image/png": "[encoded data removed]",
            "text/plain": [
              "<Figure size 432x288 with 1 Axes>"
            ]
          },
          "metadata": {
            "tags": [],
            "needs_background": "light"
          }
        }
      ]
    },
    {
      "cell_type": "code",
      "metadata": {
        "colab": {
          "base_uri": "https://localhost:8080/"
        },
        "id": "GYFY0GtMznn-",
        "outputId": "381697b7-e3f6-4e0b-9619-d6a2ea842766"
      },
      "source": [
        "inf_masks = []\n",
        "for img in inf_out[0]['image']:\n",
        "    img = torch.from_numpy(img[None,None,:,:]).type(torch.FloatTensor).to(process.device)\n",
        "    pred_inf = np.squeeze(model2(img).cpu().detach())\n",
        "    mask_inf = torch.argmax(pred_inf,dim=0).numpy()\n",
        "    inf_masks.append(mask_inf)\n",
        "inf_masks = np.array(inf_masks)\n",
        "print(inf_masks.shape,inf_out[0]['image'].shape)"
      ],
      "execution_count": null,
      "outputs": [
        {
          "output_type": "stream",
          "text": [
            "(256, 256, 256) (256, 256, 256)\n"
          ],
          "name": "stdout"
        }
      ]
    },
    {
      "cell_type": "code",
      "metadata": {
        "id": "m8Yu6_qG0SPV"
      },
      "source": [
        "slicer2 = slice_viewer_generator(1,inf_out[0]['image'],inf_masks)"
      ],
      "execution_count": null,
      "outputs": []
    },
    {
      "cell_type": "code",
      "metadata": {
        "colab": {
          "base_uri": "https://localhost:8080/",
          "height": 347
        },
        "id": "iw2RIU0J0mQ6",
        "outputId": "d65eb417-3007-45f8-8bb9-6009c74c5537"
      },
      "source": [
        "for slice in slicer2:\n",
        "    pass"
      ],
      "execution_count": null,
      "outputs": [
        {
          "output_type": "display_data",
          "data": {
            "image/png": "[encoded data removed]",
            "text/plain": [
              "<Figure size 720x360 with 2 Axes>"
            ]
          },
          "metadata": {
            "tags": [],
            "needs_background": "light"
          }
        }
      ]
    },
    {
      "cell_type": "markdown",
      "metadata": {
        "id": "-VPPAOzo1EGO"
      },
      "source": [
        "#Inference"
      ]
    },
    {
      "cell_type": "markdown",
      "metadata": {
        "id": "YU65M6Xw1Kr8"
      },
      "source": [
        "This section will deal with unknown volumes and output masks and segmented brain slices....ideally.\n",
        "\n"
      ]
    },
    {
      "cell_type": "code",
      "metadata": {
        "id": "d_M6-Olzb7tr"
      },
      "source": [
        "# I checked the test volumes in 3D slicer to figure out the axis of axial plane. This could be done through volumes affine attribute.\n",
        "\n",
        "class infer_config:\n",
        "     \n",
        "     def __init__(self):\n",
        "        self.name = \"vanilla_unet\"\n",
        "        self.device = 'cuda'\n",
        "        self.transpose = [1,0,2]\n",
        "        self.version = '1'\n",
        "        self.test_results_dir = \"/content/drive/MyDrive/brainsightAI/out\"\n",
        "        self.parameter_file = 'model.pth'\n",
        "        self.infer_path = '/content/drive/MyDrive/brainsightAI/T1Img'\n",
        "        self.infer_file = 'sub-04/T1w MRI.nii'\n",
        "        self.reshape_size = 256\n",
        "\n",
        "\n",
        "c1 = infer_config()\n",
        "\n",
        "def Inference(model,config):\n",
        "    device = config.device\n",
        "    infer_model = model\n",
        "    parameter_path = os.path.join(config.test_results_dir,config.name+'_'+config.version,config.parameter_file)\n",
        "    volume_path = os.path.join(config.infer_path,config.infer_file)\n",
        "    # infer_model.load_state_dict(torch.load(parameter_path))\n",
        "    load_model_parameters(infer_model,parameter_path)\n",
        "    infer_model.eval()\n",
        "    infer_model.to(device)\n",
        "    ori_volume = nib.load(volume_path)\n",
        "    affine = ori_volume.affine\n",
        "    volume = ori_volume.get_fdata()\n",
        "    header = ori_volume.header\n",
        "    reshape_size = config.reshape_size\n",
        "\n",
        "    axes_shift = config.transpose\n",
        "    max_val = np.amax(volume)\n",
        "    min_val = np.amin(volume)\n",
        "    volume = (volume - min_val)/(max_val - min_val)\n",
        "\n",
        "    volume = volume.transpose(axes_shift[0],axes_shift[1],axes_shift[2])\n",
        "    volume = med_reshape(volume, new_shape=(volume.shape[0], reshape_size, reshape_size)) \n",
        "    mean = np.mean(volume, axis=(0, 1, 2))\n",
        "    std_dev = np.std(volume, axis=(0, 1, 2))\n",
        "    volume = (volume - mean) / std_dev\n",
        "\n",
        "    infer_masks = []\n",
        "    \n",
        "    for slice in volume:\n",
        "        img = torch.from_numpy(slice[None,None,:,:]).type(torch.FloatTensor).to(device)\n",
        "        pred_inf = np.squeeze(model(img).cpu().detach())\n",
        "        mask_inf = torch.argmax(pred_inf,dim=0).numpy()\n",
        "        infer_masks.append(mask_inf)\n",
        "    \n",
        "    inf_masks = np.array(infer_masks)   \n",
        "    print(volume.shape)\n",
        "    ss_volume = np.multiply(volume,inf_masks)\n",
        "    print(ss_volume.shape)\n",
        "    ss_volume_nii = nib.Nifti1Image(ss_volume,affine)\n",
        "    ss_mask_nii = nib.Nifti1Image(inf_masks,affine)\n",
        "\n",
        "    file_infer = config.infer_file.split('.')[0]\n",
        "    print(file_infer)\n",
        "    nib.save(ss_volume_nii,os.path.join(config.infer_path,file_infer+'_brain.nii.gz'))\n",
        "    nib.save(ss_mask_nii,os.path.join(config.infer_path,file_infer+'_brainmask.nii.gz'))\n"
      ],
      "execution_count": 37,
      "outputs": []
    },
    {
      "cell_type": "code",
      "metadata": {
        "colab": {
          "base_uri": "https://localhost:8080/",
          "height": 337
        },
        "id": "SYQo92PAh6RA",
        "outputId": "a0dde4ae-3f6f-427d-be2e-6a9af266baa0"
      },
      "source": [
        "c1.transpose = [1,0,2]\n",
        "model_infer = process.model\n",
        "Inference(model_infer,c1)\n"
      ],
      "execution_count": 38,
      "outputs": [
        {
          "output_type": "error",
          "ename": "ValueError",
          "evalue": "ignored",
          "traceback": [
            "\u001b[0;31m---------------------------------------------------------------------------\u001b[0m",
            "\u001b[0;31mValueError\u001b[0m                                Traceback (most recent call last)",
            "\u001b[0;32m<ipython-input-38-63e34c7757cb>\u001b[0m in \u001b[0;36m<module>\u001b[0;34m()\u001b[0m\n\u001b[1;32m      1\u001b[0m \u001b[0mc1\u001b[0m\u001b[0;34m.\u001b[0m\u001b[0mtranspose\u001b[0m \u001b[0;34m=\u001b[0m \u001b[0;34m[\u001b[0m\u001b[0;36m1\u001b[0m\u001b[0;34m,\u001b[0m\u001b[0;36m0\u001b[0m\u001b[0;34m,\u001b[0m\u001b[0;36m2\u001b[0m\u001b[0;34m]\u001b[0m\u001b[0;34m\u001b[0m\u001b[0;34m\u001b[0m\u001b[0m\n\u001b[1;32m      2\u001b[0m \u001b[0mmodel_infer\u001b[0m \u001b[0;34m=\u001b[0m \u001b[0mprocess\u001b[0m\u001b[0;34m.\u001b[0m\u001b[0mmodel\u001b[0m\u001b[0;34m\u001b[0m\u001b[0;34m\u001b[0m\u001b[0m\n\u001b[0;32m----> 3\u001b[0;31m \u001b[0mInference\u001b[0m\u001b[0;34m(\u001b[0m\u001b[0mmodel_infer\u001b[0m\u001b[0;34m,\u001b[0m\u001b[0mc1\u001b[0m\u001b[0;34m)\u001b[0m\u001b[0;34m\u001b[0m\u001b[0;34m\u001b[0m\u001b[0m\n\u001b[0m",
            "\u001b[0;32m<ipython-input-37-148143cc271e>\u001b[0m in \u001b[0;36mInference\u001b[0;34m(model, config)\u001b[0m\n\u001b[1;32m     38\u001b[0m \u001b[0;34m\u001b[0m\u001b[0m\n\u001b[1;32m     39\u001b[0m     \u001b[0mvolume\u001b[0m \u001b[0;34m=\u001b[0m \u001b[0mvolume\u001b[0m\u001b[0;34m.\u001b[0m\u001b[0mtranspose\u001b[0m\u001b[0;34m(\u001b[0m\u001b[0maxes_shift\u001b[0m\u001b[0;34m[\u001b[0m\u001b[0;36m0\u001b[0m\u001b[0;34m]\u001b[0m\u001b[0;34m,\u001b[0m\u001b[0maxes_shift\u001b[0m\u001b[0;34m[\u001b[0m\u001b[0;36m1\u001b[0m\u001b[0;34m]\u001b[0m\u001b[0;34m,\u001b[0m\u001b[0maxes_shift\u001b[0m\u001b[0;34m[\u001b[0m\u001b[0;36m2\u001b[0m\u001b[0;34m]\u001b[0m\u001b[0;34m)\u001b[0m\u001b[0;34m\u001b[0m\u001b[0;34m\u001b[0m\u001b[0m\n\u001b[0;32m---> 40\u001b[0;31m     \u001b[0mvolume\u001b[0m \u001b[0;34m=\u001b[0m \u001b[0mmed_reshape\u001b[0m\u001b[0;34m(\u001b[0m\u001b[0mvolume\u001b[0m\u001b[0;34m,\u001b[0m \u001b[0mnew_shape\u001b[0m\u001b[0;34m=\u001b[0m\u001b[0;34m(\u001b[0m\u001b[0mvolume\u001b[0m\u001b[0;34m.\u001b[0m\u001b[0mshape\u001b[0m\u001b[0;34m[\u001b[0m\u001b[0;36m0\u001b[0m\u001b[0;34m]\u001b[0m\u001b[0;34m,\u001b[0m \u001b[0mreshape_size\u001b[0m\u001b[0;34m,\u001b[0m \u001b[0mreshape_size\u001b[0m\u001b[0;34m)\u001b[0m\u001b[0;34m)\u001b[0m\u001b[0;34m\u001b[0m\u001b[0;34m\u001b[0m\u001b[0m\n\u001b[0m\u001b[1;32m     41\u001b[0m     \u001b[0mmean\u001b[0m \u001b[0;34m=\u001b[0m \u001b[0mnp\u001b[0m\u001b[0;34m.\u001b[0m\u001b[0mmean\u001b[0m\u001b[0;34m(\u001b[0m\u001b[0mvolume\u001b[0m\u001b[0;34m,\u001b[0m \u001b[0maxis\u001b[0m\u001b[0;34m=\u001b[0m\u001b[0;34m(\u001b[0m\u001b[0;36m0\u001b[0m\u001b[0;34m,\u001b[0m \u001b[0;36m1\u001b[0m\u001b[0;34m,\u001b[0m \u001b[0;36m2\u001b[0m\u001b[0;34m)\u001b[0m\u001b[0;34m)\u001b[0m\u001b[0;34m\u001b[0m\u001b[0;34m\u001b[0m\u001b[0m\n\u001b[1;32m     42\u001b[0m     \u001b[0mstd_dev\u001b[0m \u001b[0;34m=\u001b[0m \u001b[0mnp\u001b[0m\u001b[0;34m.\u001b[0m\u001b[0mstd\u001b[0m\u001b[0;34m(\u001b[0m\u001b[0mvolume\u001b[0m\u001b[0;34m,\u001b[0m \u001b[0maxis\u001b[0m\u001b[0;34m=\u001b[0m\u001b[0;34m(\u001b[0m\u001b[0;36m0\u001b[0m\u001b[0;34m,\u001b[0m \u001b[0;36m1\u001b[0m\u001b[0;34m,\u001b[0m \u001b[0;36m2\u001b[0m\u001b[0;34m)\u001b[0m\u001b[0;34m)\u001b[0m\u001b[0;34m\u001b[0m\u001b[0;34m\u001b[0m\u001b[0m\n",
            "\u001b[0;32m<ipython-input-12-e98191f26512>\u001b[0m in \u001b[0;36mmed_reshape\u001b[0;34m(image, new_shape)\u001b[0m\n\u001b[1;32m     15\u001b[0m \u001b[0;34m\u001b[0m\u001b[0m\n\u001b[1;32m     16\u001b[0m     \u001b[0mreshaped_image\u001b[0m \u001b[0;34m=\u001b[0m \u001b[0mnp\u001b[0m\u001b[0;34m.\u001b[0m\u001b[0mzeros\u001b[0m\u001b[0;34m(\u001b[0m\u001b[0mnew_shape\u001b[0m\u001b[0;34m)\u001b[0m\u001b[0;34m\u001b[0m\u001b[0;34m\u001b[0m\u001b[0m\n\u001b[0;32m---> 17\u001b[0;31m     \u001b[0mreshaped_image\u001b[0m\u001b[0;34m[\u001b[0m\u001b[0;36m0\u001b[0m\u001b[0;34m:\u001b[0m\u001b[0mimage\u001b[0m\u001b[0;34m.\u001b[0m\u001b[0mshape\u001b[0m\u001b[0;34m[\u001b[0m\u001b[0;36m0\u001b[0m\u001b[0;34m]\u001b[0m\u001b[0;34m,\u001b[0m\u001b[0;36m0\u001b[0m\u001b[0;34m:\u001b[0m\u001b[0mimage\u001b[0m\u001b[0;34m.\u001b[0m\u001b[0mshape\u001b[0m\u001b[0;34m[\u001b[0m\u001b[0;36m1\u001b[0m\u001b[0;34m]\u001b[0m\u001b[0;34m,\u001b[0m\u001b[0;36m0\u001b[0m\u001b[0;34m:\u001b[0m\u001b[0mimage\u001b[0m\u001b[0;34m.\u001b[0m\u001b[0mshape\u001b[0m\u001b[0;34m[\u001b[0m\u001b[0;36m2\u001b[0m\u001b[0;34m]\u001b[0m\u001b[0;34m]\u001b[0m \u001b[0;34m=\u001b[0m \u001b[0mimage\u001b[0m\u001b[0;34m\u001b[0m\u001b[0;34m\u001b[0m\u001b[0m\n\u001b[0m\u001b[1;32m     18\u001b[0m     \u001b[0;32mreturn\u001b[0m \u001b[0mreshaped_image\u001b[0m\u001b[0;34m\u001b[0m\u001b[0;34m\u001b[0m\u001b[0m\n\u001b[1;32m     19\u001b[0m \u001b[0;34m\u001b[0m\u001b[0m\n",
            "\u001b[0;31mValueError\u001b[0m: could not broadcast input array from shape (512,512,176) into shape (512,256,176)"
          ]
        }
      ]
    },
    {
      "cell_type": "code",
      "metadata": {
        "id": "m0wv_Q7X-ncI"
      },
      "source": [
        ""
      ],
      "execution_count": null,
      "outputs": []
    }
  ]
}